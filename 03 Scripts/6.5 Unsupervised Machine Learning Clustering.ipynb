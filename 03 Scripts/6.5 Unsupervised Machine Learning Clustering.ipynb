{
 "cells": [
  {
   "cell_type": "markdown",
   "id": "084ffb05",
   "metadata": {},
   "source": [
    "### Importing Libraries and Data"
   ]
  },
  {
   "cell_type": "code",
   "execution_count": 1,
   "id": "b2f5526f",
   "metadata": {},
   "outputs": [],
   "source": [
    "import pandas as pd\n",
    "import numpy as np\n",
    "import seaborn as sns\n",
    "import matplotlib\n",
    "import matplotlib.pyplot as plt\n",
    "import os\n",
    "import sklearn\n",
    "from sklearn.cluster import KMeans # Here is where you import the k-means algorithm from scikit-learn.\n",
    "import pylab as pl # PyLab is a convenience module that bulk imports matplotlib."
   ]
  },
  {
   "cell_type": "code",
   "execution_count": 2,
   "id": "33cd46f7",
   "metadata": {},
   "outputs": [],
   "source": [
    "# This option ensures the graphs you create are displayed in your notebook without the need to \"call\" them specifically.\n",
    "\n",
    "%matplotlib inline"
   ]
  },
  {
   "cell_type": "code",
   "execution_count": 3,
   "id": "94f52688",
   "metadata": {},
   "outputs": [],
   "source": [
    "path = r'/Users/nataliawijaya/Documents/Bootcamp/New York Citi Bikes/02 Data'"
   ]
  },
  {
   "cell_type": "code",
   "execution_count": 4,
   "id": "749774d2",
   "metadata": {},
   "outputs": [],
   "source": [
    "df = pd.read_csv(os.path.join(path, 'Prepared Data', 'citibike_cleaned_exc2930_1.csv'), index_col = False)"
   ]
  },
  {
   "cell_type": "code",
   "execution_count": 5,
   "id": "35b4b98c",
   "metadata": {},
   "outputs": [
    {
     "data": {
      "text/html": [
       "<div>\n",
       "<style scoped>\n",
       "    .dataframe tbody tr th:only-of-type {\n",
       "        vertical-align: middle;\n",
       "    }\n",
       "\n",
       "    .dataframe tbody tr th {\n",
       "        vertical-align: top;\n",
       "    }\n",
       "\n",
       "    .dataframe thead th {\n",
       "        text-align: right;\n",
       "    }\n",
       "</style>\n",
       "<table border=\"1\" class=\"dataframe\">\n",
       "  <thead>\n",
       "    <tr style=\"text-align: right;\">\n",
       "      <th></th>\n",
       "      <th>Unnamed: 0</th>\n",
       "      <th>bike_id</th>\n",
       "      <th>weekday</th>\n",
       "      <th>start_hour</th>\n",
       "      <th>start_time</th>\n",
       "      <th>start_station_id</th>\n",
       "      <th>start_station_name</th>\n",
       "      <th>start_station_latitude</th>\n",
       "      <th>start_station_longitude</th>\n",
       "      <th>end_time</th>\n",
       "      <th>...</th>\n",
       "      <th>start_day</th>\n",
       "      <th>end_year</th>\n",
       "      <th>end_month</th>\n",
       "      <th>end_week</th>\n",
       "      <th>end_day</th>\n",
       "      <th>end_hour</th>\n",
       "      <th>days_category</th>\n",
       "      <th>peak_hours</th>\n",
       "      <th>avg_trip_duration_each_hour</th>\n",
       "      <th>day_of_week</th>\n",
       "    </tr>\n",
       "  </thead>\n",
       "  <tbody>\n",
       "    <tr>\n",
       "      <th>0</th>\n",
       "      <td>0</td>\n",
       "      <td>16013</td>\n",
       "      <td>Mon</td>\n",
       "      <td>18</td>\n",
       "      <td>2013-09-09 18:18:55</td>\n",
       "      <td>523</td>\n",
       "      <td>W 38 St &amp; 8 Ave</td>\n",
       "      <td>40.754666</td>\n",
       "      <td>-73.991382</td>\n",
       "      <td>2013-09-09 18:35:28</td>\n",
       "      <td>...</td>\n",
       "      <td>9</td>\n",
       "      <td>2013</td>\n",
       "      <td>9</td>\n",
       "      <td>37</td>\n",
       "      <td>9</td>\n",
       "      <td>18</td>\n",
       "      <td>Weekdays</td>\n",
       "      <td>Peak hours</td>\n",
       "      <td>14.1</td>\n",
       "      <td>2</td>\n",
       "    </tr>\n",
       "    <tr>\n",
       "      <th>1</th>\n",
       "      <td>1</td>\n",
       "      <td>15230</td>\n",
       "      <td>Thu</td>\n",
       "      <td>18</td>\n",
       "      <td>2013-09-12 18:38:53</td>\n",
       "      <td>257</td>\n",
       "      <td>Lispenard St &amp; Broadway</td>\n",
       "      <td>40.719392</td>\n",
       "      <td>-74.002472</td>\n",
       "      <td>2013-09-12 18:48:34</td>\n",
       "      <td>...</td>\n",
       "      <td>12</td>\n",
       "      <td>2013</td>\n",
       "      <td>9</td>\n",
       "      <td>37</td>\n",
       "      <td>12</td>\n",
       "      <td>18</td>\n",
       "      <td>Weekdays</td>\n",
       "      <td>Peak hours</td>\n",
       "      <td>14.1</td>\n",
       "      <td>5</td>\n",
       "    </tr>\n",
       "    <tr>\n",
       "      <th>2</th>\n",
       "      <td>2</td>\n",
       "      <td>17942</td>\n",
       "      <td>Wed</td>\n",
       "      <td>19</td>\n",
       "      <td>2013-09-18 19:44:04</td>\n",
       "      <td>479</td>\n",
       "      <td>9 Ave &amp; W 45 St</td>\n",
       "      <td>40.760193</td>\n",
       "      <td>-73.991255</td>\n",
       "      <td>2013-09-18 19:50:05</td>\n",
       "      <td>...</td>\n",
       "      <td>18</td>\n",
       "      <td>2013</td>\n",
       "      <td>9</td>\n",
       "      <td>38</td>\n",
       "      <td>18</td>\n",
       "      <td>19</td>\n",
       "      <td>Weekdays</td>\n",
       "      <td>Peak hours</td>\n",
       "      <td>13.2</td>\n",
       "      <td>4</td>\n",
       "    </tr>\n",
       "    <tr>\n",
       "      <th>3</th>\n",
       "      <td>3</td>\n",
       "      <td>19683</td>\n",
       "      <td>Sat</td>\n",
       "      <td>11</td>\n",
       "      <td>2013-09-28 11:54:37</td>\n",
       "      <td>527</td>\n",
       "      <td>E 33 St &amp; 1 Ave</td>\n",
       "      <td>40.743156</td>\n",
       "      <td>-73.974347</td>\n",
       "      <td>2013-09-28 12:03:58</td>\n",
       "      <td>...</td>\n",
       "      <td>28</td>\n",
       "      <td>2013</td>\n",
       "      <td>9</td>\n",
       "      <td>39</td>\n",
       "      <td>28</td>\n",
       "      <td>12</td>\n",
       "      <td>Weekend</td>\n",
       "      <td>Normal hours</td>\n",
       "      <td>14.0</td>\n",
       "      <td>7</td>\n",
       "    </tr>\n",
       "    <tr>\n",
       "      <th>4</th>\n",
       "      <td>4</td>\n",
       "      <td>18024</td>\n",
       "      <td>Sat</td>\n",
       "      <td>18</td>\n",
       "      <td>2013-09-07 18:08:22</td>\n",
       "      <td>521</td>\n",
       "      <td>8 Ave &amp; W 31 St</td>\n",
       "      <td>40.750450</td>\n",
       "      <td>-73.994811</td>\n",
       "      <td>2013-09-07 18:46:38</td>\n",
       "      <td>...</td>\n",
       "      <td>7</td>\n",
       "      <td>2013</td>\n",
       "      <td>9</td>\n",
       "      <td>36</td>\n",
       "      <td>7</td>\n",
       "      <td>18</td>\n",
       "      <td>Weekend</td>\n",
       "      <td>Peak hours</td>\n",
       "      <td>14.1</td>\n",
       "      <td>7</td>\n",
       "    </tr>\n",
       "    <tr>\n",
       "      <th>...</th>\n",
       "      <td>...</td>\n",
       "      <td>...</td>\n",
       "      <td>...</td>\n",
       "      <td>...</td>\n",
       "      <td>...</td>\n",
       "      <td>...</td>\n",
       "      <td>...</td>\n",
       "      <td>...</td>\n",
       "      <td>...</td>\n",
       "      <td>...</td>\n",
       "      <td>...</td>\n",
       "      <td>...</td>\n",
       "      <td>...</td>\n",
       "      <td>...</td>\n",
       "      <td>...</td>\n",
       "      <td>...</td>\n",
       "      <td>...</td>\n",
       "      <td>...</td>\n",
       "      <td>...</td>\n",
       "      <td>...</td>\n",
       "      <td>...</td>\n",
       "    </tr>\n",
       "    <tr>\n",
       "      <th>46668</th>\n",
       "      <td>46668</td>\n",
       "      <td>17988</td>\n",
       "      <td>Sat</td>\n",
       "      <td>18</td>\n",
       "      <td>2013-09-21 18:39:20</td>\n",
       "      <td>479</td>\n",
       "      <td>9 Ave &amp; W 45 St</td>\n",
       "      <td>40.760193</td>\n",
       "      <td>-73.991255</td>\n",
       "      <td>2013-09-21 20:08:59</td>\n",
       "      <td>...</td>\n",
       "      <td>21</td>\n",
       "      <td>2013</td>\n",
       "      <td>9</td>\n",
       "      <td>38</td>\n",
       "      <td>21</td>\n",
       "      <td>20</td>\n",
       "      <td>Weekend</td>\n",
       "      <td>Peak hours</td>\n",
       "      <td>14.1</td>\n",
       "      <td>7</td>\n",
       "    </tr>\n",
       "    <tr>\n",
       "      <th>46669</th>\n",
       "      <td>46669</td>\n",
       "      <td>18458</td>\n",
       "      <td>Sat</td>\n",
       "      <td>17</td>\n",
       "      <td>2013-09-14 17:32:26</td>\n",
       "      <td>261</td>\n",
       "      <td>Johnson St &amp; Gold St</td>\n",
       "      <td>40.694749</td>\n",
       "      <td>-73.983625</td>\n",
       "      <td>2013-09-14 17:52:17</td>\n",
       "      <td>...</td>\n",
       "      <td>14</td>\n",
       "      <td>2013</td>\n",
       "      <td>9</td>\n",
       "      <td>37</td>\n",
       "      <td>14</td>\n",
       "      <td>17</td>\n",
       "      <td>Weekend</td>\n",
       "      <td>Peak hours</td>\n",
       "      <td>14.0</td>\n",
       "      <td>7</td>\n",
       "    </tr>\n",
       "    <tr>\n",
       "      <th>46670</th>\n",
       "      <td>46670</td>\n",
       "      <td>15054</td>\n",
       "      <td>Sat</td>\n",
       "      <td>18</td>\n",
       "      <td>2013-09-07 18:08:21</td>\n",
       "      <td>402</td>\n",
       "      <td>Broadway &amp; E 22 St</td>\n",
       "      <td>40.740343</td>\n",
       "      <td>-73.989551</td>\n",
       "      <td>2013-09-07 18:25:51</td>\n",
       "      <td>...</td>\n",
       "      <td>7</td>\n",
       "      <td>2013</td>\n",
       "      <td>9</td>\n",
       "      <td>36</td>\n",
       "      <td>7</td>\n",
       "      <td>18</td>\n",
       "      <td>Weekend</td>\n",
       "      <td>Peak hours</td>\n",
       "      <td>14.1</td>\n",
       "      <td>7</td>\n",
       "    </tr>\n",
       "    <tr>\n",
       "      <th>46671</th>\n",
       "      <td>46671</td>\n",
       "      <td>16763</td>\n",
       "      <td>Sat</td>\n",
       "      <td>13</td>\n",
       "      <td>2013-09-07 13:25:35</td>\n",
       "      <td>271</td>\n",
       "      <td>Ashland Pl &amp; Hanson Pl</td>\n",
       "      <td>40.685282</td>\n",
       "      <td>-73.978058</td>\n",
       "      <td>2013-09-07 14:14:04</td>\n",
       "      <td>...</td>\n",
       "      <td>7</td>\n",
       "      <td>2013</td>\n",
       "      <td>9</td>\n",
       "      <td>36</td>\n",
       "      <td>7</td>\n",
       "      <td>14</td>\n",
       "      <td>Weekend</td>\n",
       "      <td>Normal hours</td>\n",
       "      <td>13.7</td>\n",
       "      <td>7</td>\n",
       "    </tr>\n",
       "    <tr>\n",
       "      <th>46672</th>\n",
       "      <td>46672</td>\n",
       "      <td>16794</td>\n",
       "      <td>Mon</td>\n",
       "      <td>21</td>\n",
       "      <td>2013-09-23 21:54:36</td>\n",
       "      <td>515</td>\n",
       "      <td>W 43 St &amp; 10 Ave</td>\n",
       "      <td>40.760094</td>\n",
       "      <td>-73.994618</td>\n",
       "      <td>2013-09-23 22:00:46</td>\n",
       "      <td>...</td>\n",
       "      <td>23</td>\n",
       "      <td>2013</td>\n",
       "      <td>9</td>\n",
       "      <td>39</td>\n",
       "      <td>23</td>\n",
       "      <td>22</td>\n",
       "      <td>Weekdays</td>\n",
       "      <td>Normal hours</td>\n",
       "      <td>12.9</td>\n",
       "      <td>2</td>\n",
       "    </tr>\n",
       "  </tbody>\n",
       "</table>\n",
       "<p>46673 rows × 33 columns</p>\n",
       "</div>"
      ],
      "text/plain": [
       "       Unnamed: 0  bike_id weekday  start_hour           start_time  \\\n",
       "0               0    16013     Mon          18  2013-09-09 18:18:55   \n",
       "1               1    15230     Thu          18  2013-09-12 18:38:53   \n",
       "2               2    17942     Wed          19  2013-09-18 19:44:04   \n",
       "3               3    19683     Sat          11  2013-09-28 11:54:37   \n",
       "4               4    18024     Sat          18  2013-09-07 18:08:22   \n",
       "...           ...      ...     ...         ...                  ...   \n",
       "46668       46668    17988     Sat          18  2013-09-21 18:39:20   \n",
       "46669       46669    18458     Sat          17  2013-09-14 17:32:26   \n",
       "46670       46670    15054     Sat          18  2013-09-07 18:08:21   \n",
       "46671       46671    16763     Sat          13  2013-09-07 13:25:35   \n",
       "46672       46672    16794     Mon          21  2013-09-23 21:54:36   \n",
       "\n",
       "       start_station_id       start_station_name  start_station_latitude  \\\n",
       "0                   523          W 38 St & 8 Ave               40.754666   \n",
       "1                   257  Lispenard St & Broadway               40.719392   \n",
       "2                   479          9 Ave & W 45 St               40.760193   \n",
       "3                   527          E 33 St & 1 Ave               40.743156   \n",
       "4                   521          8 Ave & W 31 St               40.750450   \n",
       "...                 ...                      ...                     ...   \n",
       "46668               479          9 Ave & W 45 St               40.760193   \n",
       "46669               261     Johnson St & Gold St               40.694749   \n",
       "46670               402       Broadway & E 22 St               40.740343   \n",
       "46671               271   Ashland Pl & Hanson Pl               40.685282   \n",
       "46672               515         W 43 St & 10 Ave               40.760094   \n",
       "\n",
       "       start_station_longitude             end_time  ...  start_day end_year  \\\n",
       "0                   -73.991382  2013-09-09 18:35:28  ...          9     2013   \n",
       "1                   -74.002472  2013-09-12 18:48:34  ...         12     2013   \n",
       "2                   -73.991255  2013-09-18 19:50:05  ...         18     2013   \n",
       "3                   -73.974347  2013-09-28 12:03:58  ...         28     2013   \n",
       "4                   -73.994811  2013-09-07 18:46:38  ...          7     2013   \n",
       "...                        ...                  ...  ...        ...      ...   \n",
       "46668               -73.991255  2013-09-21 20:08:59  ...         21     2013   \n",
       "46669               -73.983625  2013-09-14 17:52:17  ...         14     2013   \n",
       "46670               -73.989551  2013-09-07 18:25:51  ...          7     2013   \n",
       "46671               -73.978058  2013-09-07 14:14:04  ...          7     2013   \n",
       "46672               -73.994618  2013-09-23 22:00:46  ...         23     2013   \n",
       "\n",
       "       end_month  end_week  end_day end_hour  days_category    peak_hours  \\\n",
       "0              9        37        9       18       Weekdays    Peak hours   \n",
       "1              9        37       12       18       Weekdays    Peak hours   \n",
       "2              9        38       18       19       Weekdays    Peak hours   \n",
       "3              9        39       28       12        Weekend  Normal hours   \n",
       "4              9        36        7       18        Weekend    Peak hours   \n",
       "...          ...       ...      ...      ...            ...           ...   \n",
       "46668          9        38       21       20        Weekend    Peak hours   \n",
       "46669          9        37       14       17        Weekend    Peak hours   \n",
       "46670          9        36        7       18        Weekend    Peak hours   \n",
       "46671          9        36        7       14        Weekend  Normal hours   \n",
       "46672          9        39       23       22       Weekdays  Normal hours   \n",
       "\n",
       "      avg_trip_duration_each_hour  day_of_week  \n",
       "0                            14.1            2  \n",
       "1                            14.1            5  \n",
       "2                            13.2            4  \n",
       "3                            14.0            7  \n",
       "4                            14.1            7  \n",
       "...                           ...          ...  \n",
       "46668                        14.1            7  \n",
       "46669                        14.0            7  \n",
       "46670                        14.1            7  \n",
       "46671                        13.7            7  \n",
       "46672                        12.9            2  \n",
       "\n",
       "[46673 rows x 33 columns]"
      ]
     },
     "execution_count": 5,
     "metadata": {},
     "output_type": "execute_result"
    }
   ],
   "source": [
    "df"
   ]
  },
  {
   "cell_type": "code",
   "execution_count": 6,
   "id": "a0a2675d",
   "metadata": {},
   "outputs": [],
   "source": [
    "df = df.drop(columns = ['Unnamed: 0'])"
   ]
  },
  {
   "cell_type": "code",
   "execution_count": 7,
   "id": "511ca1c5",
   "metadata": {},
   "outputs": [
    {
     "data": {
      "text/html": [
       "<div>\n",
       "<style scoped>\n",
       "    .dataframe tbody tr th:only-of-type {\n",
       "        vertical-align: middle;\n",
       "    }\n",
       "\n",
       "    .dataframe tbody tr th {\n",
       "        vertical-align: top;\n",
       "    }\n",
       "\n",
       "    .dataframe thead th {\n",
       "        text-align: right;\n",
       "    }\n",
       "</style>\n",
       "<table border=\"1\" class=\"dataframe\">\n",
       "  <thead>\n",
       "    <tr style=\"text-align: right;\">\n",
       "      <th></th>\n",
       "      <th>bike_id</th>\n",
       "      <th>weekday</th>\n",
       "      <th>start_hour</th>\n",
       "      <th>start_time</th>\n",
       "      <th>start_station_id</th>\n",
       "      <th>start_station_name</th>\n",
       "      <th>start_station_latitude</th>\n",
       "      <th>start_station_longitude</th>\n",
       "      <th>end_time</th>\n",
       "      <th>end_station_id</th>\n",
       "      <th>...</th>\n",
       "      <th>start_day</th>\n",
       "      <th>end_year</th>\n",
       "      <th>end_month</th>\n",
       "      <th>end_week</th>\n",
       "      <th>end_day</th>\n",
       "      <th>end_hour</th>\n",
       "      <th>days_category</th>\n",
       "      <th>peak_hours</th>\n",
       "      <th>avg_trip_duration_each_hour</th>\n",
       "      <th>day_of_week</th>\n",
       "    </tr>\n",
       "  </thead>\n",
       "  <tbody>\n",
       "    <tr>\n",
       "      <th>0</th>\n",
       "      <td>16013</td>\n",
       "      <td>Mon</td>\n",
       "      <td>18</td>\n",
       "      <td>2013-09-09 18:18:55</td>\n",
       "      <td>523</td>\n",
       "      <td>W 38 St &amp; 8 Ave</td>\n",
       "      <td>40.754666</td>\n",
       "      <td>-73.991382</td>\n",
       "      <td>2013-09-09 18:35:28</td>\n",
       "      <td>334</td>\n",
       "      <td>...</td>\n",
       "      <td>9</td>\n",
       "      <td>2013</td>\n",
       "      <td>9</td>\n",
       "      <td>37</td>\n",
       "      <td>9</td>\n",
       "      <td>18</td>\n",
       "      <td>Weekdays</td>\n",
       "      <td>Peak hours</td>\n",
       "      <td>14.1</td>\n",
       "      <td>2</td>\n",
       "    </tr>\n",
       "    <tr>\n",
       "      <th>1</th>\n",
       "      <td>15230</td>\n",
       "      <td>Thu</td>\n",
       "      <td>18</td>\n",
       "      <td>2013-09-12 18:38:53</td>\n",
       "      <td>257</td>\n",
       "      <td>Lispenard St &amp; Broadway</td>\n",
       "      <td>40.719392</td>\n",
       "      <td>-74.002472</td>\n",
       "      <td>2013-09-12 18:48:34</td>\n",
       "      <td>236</td>\n",
       "      <td>...</td>\n",
       "      <td>12</td>\n",
       "      <td>2013</td>\n",
       "      <td>9</td>\n",
       "      <td>37</td>\n",
       "      <td>12</td>\n",
       "      <td>18</td>\n",
       "      <td>Weekdays</td>\n",
       "      <td>Peak hours</td>\n",
       "      <td>14.1</td>\n",
       "      <td>5</td>\n",
       "    </tr>\n",
       "    <tr>\n",
       "      <th>2</th>\n",
       "      <td>17942</td>\n",
       "      <td>Wed</td>\n",
       "      <td>19</td>\n",
       "      <td>2013-09-18 19:44:04</td>\n",
       "      <td>479</td>\n",
       "      <td>9 Ave &amp; W 45 St</td>\n",
       "      <td>40.760193</td>\n",
       "      <td>-73.991255</td>\n",
       "      <td>2013-09-18 19:50:05</td>\n",
       "      <td>513</td>\n",
       "      <td>...</td>\n",
       "      <td>18</td>\n",
       "      <td>2013</td>\n",
       "      <td>9</td>\n",
       "      <td>38</td>\n",
       "      <td>18</td>\n",
       "      <td>19</td>\n",
       "      <td>Weekdays</td>\n",
       "      <td>Peak hours</td>\n",
       "      <td>13.2</td>\n",
       "      <td>4</td>\n",
       "    </tr>\n",
       "    <tr>\n",
       "      <th>3</th>\n",
       "      <td>19683</td>\n",
       "      <td>Sat</td>\n",
       "      <td>11</td>\n",
       "      <td>2013-09-28 11:54:37</td>\n",
       "      <td>527</td>\n",
       "      <td>E 33 St &amp; 1 Ave</td>\n",
       "      <td>40.743156</td>\n",
       "      <td>-73.974347</td>\n",
       "      <td>2013-09-28 12:03:58</td>\n",
       "      <td>441</td>\n",
       "      <td>...</td>\n",
       "      <td>28</td>\n",
       "      <td>2013</td>\n",
       "      <td>9</td>\n",
       "      <td>39</td>\n",
       "      <td>28</td>\n",
       "      <td>12</td>\n",
       "      <td>Weekend</td>\n",
       "      <td>Normal hours</td>\n",
       "      <td>14.0</td>\n",
       "      <td>7</td>\n",
       "    </tr>\n",
       "    <tr>\n",
       "      <th>4</th>\n",
       "      <td>18024</td>\n",
       "      <td>Sat</td>\n",
       "      <td>18</td>\n",
       "      <td>2013-09-07 18:08:22</td>\n",
       "      <td>521</td>\n",
       "      <td>8 Ave &amp; W 31 St</td>\n",
       "      <td>40.750450</td>\n",
       "      <td>-73.994811</td>\n",
       "      <td>2013-09-07 18:46:38</td>\n",
       "      <td>476</td>\n",
       "      <td>...</td>\n",
       "      <td>7</td>\n",
       "      <td>2013</td>\n",
       "      <td>9</td>\n",
       "      <td>36</td>\n",
       "      <td>7</td>\n",
       "      <td>18</td>\n",
       "      <td>Weekend</td>\n",
       "      <td>Peak hours</td>\n",
       "      <td>14.1</td>\n",
       "      <td>7</td>\n",
       "    </tr>\n",
       "  </tbody>\n",
       "</table>\n",
       "<p>5 rows × 32 columns</p>\n",
       "</div>"
      ],
      "text/plain": [
       "   bike_id weekday  start_hour           start_time  start_station_id  \\\n",
       "0    16013     Mon          18  2013-09-09 18:18:55               523   \n",
       "1    15230     Thu          18  2013-09-12 18:38:53               257   \n",
       "2    17942     Wed          19  2013-09-18 19:44:04               479   \n",
       "3    19683     Sat          11  2013-09-28 11:54:37               527   \n",
       "4    18024     Sat          18  2013-09-07 18:08:22               521   \n",
       "\n",
       "        start_station_name  start_station_latitude  start_station_longitude  \\\n",
       "0          W 38 St & 8 Ave               40.754666               -73.991382   \n",
       "1  Lispenard St & Broadway               40.719392               -74.002472   \n",
       "2          9 Ave & W 45 St               40.760193               -73.991255   \n",
       "3          E 33 St & 1 Ave               40.743156               -73.974347   \n",
       "4          8 Ave & W 31 St               40.750450               -73.994811   \n",
       "\n",
       "              end_time  end_station_id  ... start_day  end_year  end_month  \\\n",
       "0  2013-09-09 18:35:28             334  ...         9      2013          9   \n",
       "1  2013-09-12 18:48:34             236  ...        12      2013          9   \n",
       "2  2013-09-18 19:50:05             513  ...        18      2013          9   \n",
       "3  2013-09-28 12:03:58             441  ...        28      2013          9   \n",
       "4  2013-09-07 18:46:38             476  ...         7      2013          9   \n",
       "\n",
       "   end_week end_day  end_hour  days_category    peak_hours  \\\n",
       "0        37       9        18       Weekdays    Peak hours   \n",
       "1        37      12        18       Weekdays    Peak hours   \n",
       "2        38      18        19       Weekdays    Peak hours   \n",
       "3        39      28        12        Weekend  Normal hours   \n",
       "4        36       7        18        Weekend    Peak hours   \n",
       "\n",
       "   avg_trip_duration_each_hour  day_of_week  \n",
       "0                         14.1            2  \n",
       "1                         14.1            5  \n",
       "2                         13.2            4  \n",
       "3                         14.0            7  \n",
       "4                         14.1            7  \n",
       "\n",
       "[5 rows x 32 columns]"
      ]
     },
     "execution_count": 7,
     "metadata": {},
     "output_type": "execute_result"
    }
   ],
   "source": [
    "df.head()"
   ]
  },
  {
   "cell_type": "code",
   "execution_count": 8,
   "id": "966a6336",
   "metadata": {},
   "outputs": [
    {
     "data": {
      "text/plain": [
       "(46673, 32)"
      ]
     },
     "execution_count": 8,
     "metadata": {},
     "output_type": "execute_result"
    }
   ],
   "source": [
    "df.shape"
   ]
  },
  {
   "cell_type": "code",
   "execution_count": 9,
   "id": "7797f372",
   "metadata": {},
   "outputs": [
    {
     "name": "stdout",
     "output_type": "stream",
     "text": [
      "<class 'pandas.core.frame.DataFrame'>\n",
      "RangeIndex: 46673 entries, 0 to 46672\n",
      "Data columns (total 32 columns):\n",
      " #   Column                       Non-Null Count  Dtype  \n",
      "---  ------                       --------------  -----  \n",
      " 0   bike_id                      46673 non-null  int64  \n",
      " 1   weekday                      46673 non-null  object \n",
      " 2   start_hour                   46673 non-null  int64  \n",
      " 3   start_time                   46673 non-null  object \n",
      " 4   start_station_id             46673 non-null  int64  \n",
      " 5   start_station_name           46673 non-null  object \n",
      " 6   start_station_latitude       46673 non-null  float64\n",
      " 7   start_station_longitude      46673 non-null  float64\n",
      " 8   end_time                     46673 non-null  object \n",
      " 9   end_station_id               46673 non-null  int64  \n",
      " 10  end_station_name             46673 non-null  object \n",
      " 11  end_station_latitude         46673 non-null  float64\n",
      " 12  end_station_longitude        46673 non-null  float64\n",
      " 13  trip_duration                46673 non-null  int64  \n",
      " 14  subscriber                   46673 non-null  object \n",
      " 15  birth_year                   40191 non-null  float64\n",
      " 16  gender                       46673 non-null  int64  \n",
      " 17  gender_category              46673 non-null  object \n",
      " 18  trip_duration_min            46673 non-null  int64  \n",
      " 19  start_year                   46673 non-null  int64  \n",
      " 20  start_month                  46673 non-null  int64  \n",
      " 21  start_week                   46673 non-null  int64  \n",
      " 22  start_day                    46673 non-null  int64  \n",
      " 23  end_year                     46673 non-null  int64  \n",
      " 24  end_month                    46673 non-null  int64  \n",
      " 25  end_week                     46673 non-null  int64  \n",
      " 26  end_day                      46673 non-null  int64  \n",
      " 27  end_hour                     46673 non-null  int64  \n",
      " 28  days_category                46673 non-null  object \n",
      " 29  peak_hours                   46673 non-null  object \n",
      " 30  avg_trip_duration_each_hour  46673 non-null  float64\n",
      " 31  day_of_week                  46673 non-null  int64  \n",
      "dtypes: float64(6), int64(17), object(9)\n",
      "memory usage: 11.4+ MB\n"
     ]
    }
   ],
   "source": [
    "df.info()"
   ]
  },
  {
   "cell_type": "code",
   "execution_count": 10,
   "id": "9eb917d9",
   "metadata": {},
   "outputs": [
    {
     "data": {
      "text/html": [
       "<div>\n",
       "<style scoped>\n",
       "    .dataframe tbody tr th:only-of-type {\n",
       "        vertical-align: middle;\n",
       "    }\n",
       "\n",
       "    .dataframe tbody tr th {\n",
       "        vertical-align: top;\n",
       "    }\n",
       "\n",
       "    .dataframe thead th {\n",
       "        text-align: right;\n",
       "    }\n",
       "</style>\n",
       "<table border=\"1\" class=\"dataframe\">\n",
       "  <thead>\n",
       "    <tr style=\"text-align: right;\">\n",
       "      <th></th>\n",
       "      <th>bike_id</th>\n",
       "      <th>start_hour</th>\n",
       "      <th>start_station_id</th>\n",
       "      <th>start_station_latitude</th>\n",
       "      <th>start_station_longitude</th>\n",
       "      <th>end_station_id</th>\n",
       "      <th>end_station_latitude</th>\n",
       "      <th>end_station_longitude</th>\n",
       "      <th>trip_duration</th>\n",
       "      <th>birth_year</th>\n",
       "      <th>...</th>\n",
       "      <th>start_month</th>\n",
       "      <th>start_week</th>\n",
       "      <th>start_day</th>\n",
       "      <th>end_year</th>\n",
       "      <th>end_month</th>\n",
       "      <th>end_week</th>\n",
       "      <th>end_day</th>\n",
       "      <th>end_hour</th>\n",
       "      <th>avg_trip_duration_each_hour</th>\n",
       "      <th>day_of_week</th>\n",
       "    </tr>\n",
       "  </thead>\n",
       "  <tbody>\n",
       "    <tr>\n",
       "      <th>count</th>\n",
       "      <td>46673.000000</td>\n",
       "      <td>46673.000000</td>\n",
       "      <td>46673.000000</td>\n",
       "      <td>46673.000000</td>\n",
       "      <td>46673.000000</td>\n",
       "      <td>46673.000000</td>\n",
       "      <td>46673.000000</td>\n",
       "      <td>46673.000000</td>\n",
       "      <td>46673.000000</td>\n",
       "      <td>40191.000000</td>\n",
       "      <td>...</td>\n",
       "      <td>46673.0</td>\n",
       "      <td>46673.000000</td>\n",
       "      <td>46673.000000</td>\n",
       "      <td>46673.0</td>\n",
       "      <td>46673.0</td>\n",
       "      <td>46673.000000</td>\n",
       "      <td>46673.000000</td>\n",
       "      <td>46673.000000</td>\n",
       "      <td>46673.000000</td>\n",
       "      <td>46673.000000</td>\n",
       "    </tr>\n",
       "    <tr>\n",
       "      <th>mean</th>\n",
       "      <td>17611.710454</td>\n",
       "      <td>14.152722</td>\n",
       "      <td>442.692049</td>\n",
       "      <td>40.734262</td>\n",
       "      <td>-73.991118</td>\n",
       "      <td>442.403252</td>\n",
       "      <td>40.733940</td>\n",
       "      <td>-73.991364</td>\n",
       "      <td>838.269449</td>\n",
       "      <td>1975.608470</td>\n",
       "      <td>...</td>\n",
       "      <td>9.0</td>\n",
       "      <td>37.436719</td>\n",
       "      <td>15.029010</td>\n",
       "      <td>2013.0</td>\n",
       "      <td>9.0</td>\n",
       "      <td>37.437041</td>\n",
       "      <td>15.032867</td>\n",
       "      <td>14.313757</td>\n",
       "      <td>13.466152</td>\n",
       "      <td>4.100893</td>\n",
       "    </tr>\n",
       "    <tr>\n",
       "      <th>std</th>\n",
       "      <td>1674.680560</td>\n",
       "      <td>4.868148</td>\n",
       "      <td>355.257605</td>\n",
       "      <td>0.019883</td>\n",
       "      <td>0.012549</td>\n",
       "      <td>355.227714</td>\n",
       "      <td>0.019858</td>\n",
       "      <td>0.012552</td>\n",
       "      <td>572.795827</td>\n",
       "      <td>11.085518</td>\n",
       "      <td>...</td>\n",
       "      <td>0.0</td>\n",
       "      <td>1.152806</td>\n",
       "      <td>7.931816</td>\n",
       "      <td>0.0</td>\n",
       "      <td>0.0</td>\n",
       "      <td>1.152415</td>\n",
       "      <td>7.931520</td>\n",
       "      <td>4.918672</td>\n",
       "      <td>0.920047</td>\n",
       "      <td>1.948041</td>\n",
       "    </tr>\n",
       "    <tr>\n",
       "      <th>min</th>\n",
       "      <td>14556.000000</td>\n",
       "      <td>0.000000</td>\n",
       "      <td>72.000000</td>\n",
       "      <td>40.680342</td>\n",
       "      <td>-74.017134</td>\n",
       "      <td>72.000000</td>\n",
       "      <td>40.680342</td>\n",
       "      <td>-74.017134</td>\n",
       "      <td>60.000000</td>\n",
       "      <td>1899.000000</td>\n",
       "      <td>...</td>\n",
       "      <td>9.0</td>\n",
       "      <td>35.000000</td>\n",
       "      <td>1.000000</td>\n",
       "      <td>2013.0</td>\n",
       "      <td>9.0</td>\n",
       "      <td>35.000000</td>\n",
       "      <td>1.000000</td>\n",
       "      <td>0.000000</td>\n",
       "      <td>10.200000</td>\n",
       "      <td>1.000000</td>\n",
       "    </tr>\n",
       "    <tr>\n",
       "      <th>25%</th>\n",
       "      <td>16188.000000</td>\n",
       "      <td>10.000000</td>\n",
       "      <td>304.000000</td>\n",
       "      <td>40.720434</td>\n",
       "      <td>-74.000271</td>\n",
       "      <td>304.000000</td>\n",
       "      <td>40.720196</td>\n",
       "      <td>-74.001547</td>\n",
       "      <td>418.000000</td>\n",
       "      <td>1968.000000</td>\n",
       "      <td>...</td>\n",
       "      <td>9.0</td>\n",
       "      <td>36.000000</td>\n",
       "      <td>8.000000</td>\n",
       "      <td>2013.0</td>\n",
       "      <td>9.0</td>\n",
       "      <td>36.000000</td>\n",
       "      <td>8.000000</td>\n",
       "      <td>11.000000</td>\n",
       "      <td>12.900000</td>\n",
       "      <td>2.000000</td>\n",
       "    </tr>\n",
       "    <tr>\n",
       "      <th>50%</th>\n",
       "      <td>17579.000000</td>\n",
       "      <td>15.000000</td>\n",
       "      <td>402.000000</td>\n",
       "      <td>40.736197</td>\n",
       "      <td>-73.990765</td>\n",
       "      <td>402.000000</td>\n",
       "      <td>40.735354</td>\n",
       "      <td>-73.991218</td>\n",
       "      <td>672.000000</td>\n",
       "      <td>1978.000000</td>\n",
       "      <td>...</td>\n",
       "      <td>9.0</td>\n",
       "      <td>37.000000</td>\n",
       "      <td>15.000000</td>\n",
       "      <td>2013.0</td>\n",
       "      <td>9.0</td>\n",
       "      <td>37.000000</td>\n",
       "      <td>15.000000</td>\n",
       "      <td>15.000000</td>\n",
       "      <td>13.500000</td>\n",
       "      <td>4.000000</td>\n",
       "    </tr>\n",
       "    <tr>\n",
       "      <th>75%</th>\n",
       "      <td>19014.000000</td>\n",
       "      <td>18.000000</td>\n",
       "      <td>484.000000</td>\n",
       "      <td>40.750073</td>\n",
       "      <td>-73.981923</td>\n",
       "      <td>483.000000</td>\n",
       "      <td>40.749156</td>\n",
       "      <td>-73.982050</td>\n",
       "      <td>1110.000000</td>\n",
       "      <td>1984.000000</td>\n",
       "      <td>...</td>\n",
       "      <td>9.0</td>\n",
       "      <td>38.000000</td>\n",
       "      <td>22.000000</td>\n",
       "      <td>2013.0</td>\n",
       "      <td>9.0</td>\n",
       "      <td>38.000000</td>\n",
       "      <td>22.000000</td>\n",
       "      <td>18.000000</td>\n",
       "      <td>14.100000</td>\n",
       "      <td>6.000000</td>\n",
       "    </tr>\n",
       "    <tr>\n",
       "      <th>max</th>\n",
       "      <td>20642.000000</td>\n",
       "      <td>23.000000</td>\n",
       "      <td>3002.000000</td>\n",
       "      <td>40.770513</td>\n",
       "      <td>-73.950048</td>\n",
       "      <td>3002.000000</td>\n",
       "      <td>40.770513</td>\n",
       "      <td>-73.950048</td>\n",
       "      <td>2697.000000</td>\n",
       "      <td>1997.000000</td>\n",
       "      <td>...</td>\n",
       "      <td>9.0</td>\n",
       "      <td>39.000000</td>\n",
       "      <td>28.000000</td>\n",
       "      <td>2013.0</td>\n",
       "      <td>9.0</td>\n",
       "      <td>39.000000</td>\n",
       "      <td>29.000000</td>\n",
       "      <td>23.000000</td>\n",
       "      <td>14.700000</td>\n",
       "      <td>7.000000</td>\n",
       "    </tr>\n",
       "  </tbody>\n",
       "</table>\n",
       "<p>8 rows × 23 columns</p>\n",
       "</div>"
      ],
      "text/plain": [
       "            bike_id    start_hour  start_station_id  start_station_latitude  \\\n",
       "count  46673.000000  46673.000000      46673.000000            46673.000000   \n",
       "mean   17611.710454     14.152722        442.692049               40.734262   \n",
       "std     1674.680560      4.868148        355.257605                0.019883   \n",
       "min    14556.000000      0.000000         72.000000               40.680342   \n",
       "25%    16188.000000     10.000000        304.000000               40.720434   \n",
       "50%    17579.000000     15.000000        402.000000               40.736197   \n",
       "75%    19014.000000     18.000000        484.000000               40.750073   \n",
       "max    20642.000000     23.000000       3002.000000               40.770513   \n",
       "\n",
       "       start_station_longitude  end_station_id  end_station_latitude  \\\n",
       "count             46673.000000    46673.000000          46673.000000   \n",
       "mean                -73.991118      442.403252             40.733940   \n",
       "std                   0.012549      355.227714              0.019858   \n",
       "min                 -74.017134       72.000000             40.680342   \n",
       "25%                 -74.000271      304.000000             40.720196   \n",
       "50%                 -73.990765      402.000000             40.735354   \n",
       "75%                 -73.981923      483.000000             40.749156   \n",
       "max                 -73.950048     3002.000000             40.770513   \n",
       "\n",
       "       end_station_longitude  trip_duration    birth_year  ...  start_month  \\\n",
       "count           46673.000000   46673.000000  40191.000000  ...      46673.0   \n",
       "mean              -73.991364     838.269449   1975.608470  ...          9.0   \n",
       "std                 0.012552     572.795827     11.085518  ...          0.0   \n",
       "min               -74.017134      60.000000   1899.000000  ...          9.0   \n",
       "25%               -74.001547     418.000000   1968.000000  ...          9.0   \n",
       "50%               -73.991218     672.000000   1978.000000  ...          9.0   \n",
       "75%               -73.982050    1110.000000   1984.000000  ...          9.0   \n",
       "max               -73.950048    2697.000000   1997.000000  ...          9.0   \n",
       "\n",
       "         start_week     start_day  end_year  end_month      end_week  \\\n",
       "count  46673.000000  46673.000000   46673.0    46673.0  46673.000000   \n",
       "mean      37.436719     15.029010    2013.0        9.0     37.437041   \n",
       "std        1.152806      7.931816       0.0        0.0      1.152415   \n",
       "min       35.000000      1.000000    2013.0        9.0     35.000000   \n",
       "25%       36.000000      8.000000    2013.0        9.0     36.000000   \n",
       "50%       37.000000     15.000000    2013.0        9.0     37.000000   \n",
       "75%       38.000000     22.000000    2013.0        9.0     38.000000   \n",
       "max       39.000000     28.000000    2013.0        9.0     39.000000   \n",
       "\n",
       "            end_day      end_hour  avg_trip_duration_each_hour   day_of_week  \n",
       "count  46673.000000  46673.000000                 46673.000000  46673.000000  \n",
       "mean      15.032867     14.313757                    13.466152      4.100893  \n",
       "std        7.931520      4.918672                     0.920047      1.948041  \n",
       "min        1.000000      0.000000                    10.200000      1.000000  \n",
       "25%        8.000000     11.000000                    12.900000      2.000000  \n",
       "50%       15.000000     15.000000                    13.500000      4.000000  \n",
       "75%       22.000000     18.000000                    14.100000      6.000000  \n",
       "max       29.000000     23.000000                    14.700000      7.000000  \n",
       "\n",
       "[8 rows x 23 columns]"
      ]
     },
     "execution_count": 10,
     "metadata": {},
     "output_type": "execute_result"
    }
   ],
   "source": [
    "df.describe()"
   ]
  },
  {
   "cell_type": "code",
   "execution_count": 11,
   "id": "e2c9c808",
   "metadata": {},
   "outputs": [
    {
     "data": {
      "text/plain": [
       "bike_id                           0\n",
       "weekday                           0\n",
       "start_hour                        0\n",
       "start_time                        0\n",
       "start_station_id                  0\n",
       "start_station_name                0\n",
       "start_station_latitude            0\n",
       "start_station_longitude           0\n",
       "end_time                          0\n",
       "end_station_id                    0\n",
       "end_station_name                  0\n",
       "end_station_latitude              0\n",
       "end_station_longitude             0\n",
       "trip_duration                     0\n",
       "subscriber                        0\n",
       "birth_year                     6482\n",
       "gender                            0\n",
       "gender_category                   0\n",
       "trip_duration_min                 0\n",
       "start_year                        0\n",
       "start_month                       0\n",
       "start_week                        0\n",
       "start_day                         0\n",
       "end_year                          0\n",
       "end_month                         0\n",
       "end_week                          0\n",
       "end_day                           0\n",
       "end_hour                          0\n",
       "days_category                     0\n",
       "peak_hours                        0\n",
       "avg_trip_duration_each_hour       0\n",
       "day_of_week                       0\n",
       "dtype: int64"
      ]
     },
     "execution_count": 11,
     "metadata": {},
     "output_type": "execute_result"
    }
   ],
   "source": [
    "# Check null values\n",
    "df.isnull().sum()"
   ]
  },
  {
   "cell_type": "markdown",
   "id": "cdb15d65",
   "metadata": {},
   "source": [
    "#### Check birth_year"
   ]
  },
  {
   "cell_type": "code",
   "execution_count": 12,
   "id": "ae4b2150",
   "metadata": {},
   "outputs": [
    {
     "data": {
      "text/plain": [
       "count    40191.000000\n",
       "mean      1975.608470\n",
       "std         11.085518\n",
       "min       1899.000000\n",
       "25%       1968.000000\n",
       "50%       1978.000000\n",
       "75%       1984.000000\n",
       "max       1997.000000\n",
       "Name: birth_year, dtype: float64"
      ]
     },
     "execution_count": 12,
     "metadata": {},
     "output_type": "execute_result"
    }
   ],
   "source": [
    "df['birth_year'].describe()"
   ]
  },
  {
   "cell_type": "code",
   "execution_count": 13,
   "id": "26dde0ce",
   "metadata": {},
   "outputs": [
    {
     "data": {
      "text/plain": [
       "birth_year\n",
       "NaN       6482\n",
       "1981.0    1725\n",
       "1985.0    1712\n",
       "1982.0    1686\n",
       "1984.0    1683\n",
       "          ... \n",
       "1929.0       1\n",
       "1917.0       1\n",
       "1926.0       1\n",
       "1924.0       1\n",
       "1921.0       1\n",
       "Name: count, Length: 77, dtype: int64"
      ]
     },
     "execution_count": 13,
     "metadata": {},
     "output_type": "execute_result"
    }
   ],
   "source": [
    "df['birth_year'].value_counts(dropna = False)"
   ]
  },
  {
   "cell_type": "markdown",
   "id": "d4fd5643",
   "metadata": {},
   "source": [
    "#### Observation\n",
    "- NaN values from users who did not input their birth data\n",
    "- In the previous exercise I left this NaN out because it could be an indication for new users\n",
    "- In this exercise I will create a new df by excluding these NaN values in birth_year"
   ]
  },
  {
   "cell_type": "code",
   "execution_count": 14,
   "id": "0f1d7822",
   "metadata": {},
   "outputs": [
    {
     "name": "stderr",
     "output_type": "stream",
     "text": [
      "/var/folders/kj/ff_yw10j6_zbkk839hkzgftr0000gn/T/ipykernel_56499/2788466860.py:3: UserWarning: \n",
      "\n",
      "`distplot` is a deprecated function and will be removed in seaborn v0.14.0.\n",
      "\n",
      "Please adapt your code to use either `displot` (a figure-level function with\n",
      "similar flexibility) or `histplot` (an axes-level function for histograms).\n",
      "\n",
      "For a guide to updating your code to use the new functions, please see\n",
      "https://gist.github.com/mwaskom/de44147ed2974457ad6372750bbe5751\n",
      "\n",
      "  sns.distplot(df['birth_year'], bins = 50)\n",
      "/Users/nataliawijaya/anaconda3/lib/python3.11/site-packages/seaborn/_oldcore.py:1119: FutureWarning: use_inf_as_na option is deprecated and will be removed in a future version. Convert inf values to NaN before operating instead.\n",
      "  with pd.option_context('mode.use_inf_as_na', True):\n"
     ]
    },
    {
     "data": {
      "text/plain": [
       "<Axes: xlabel='birth_year', ylabel='Density'>"
      ]
     },
     "execution_count": 14,
     "metadata": {},
     "output_type": "execute_result"
    },
    {
     "data": {
      "image/png": "[encoded data removed]",
      "text/plain": [
       "<Figure size 640x480 with 1 Axes>"
      ]
     },
     "metadata": {},
     "output_type": "display_data"
    }
   ],
   "source": [
    "# Extreme value check\n",
    "\n",
    "sns.distplot(df['birth_year'], bins = 50)"
   ]
  },
  {
   "cell_type": "code",
   "execution_count": 15,
   "id": "1e0f1dd3",
   "metadata": {},
   "outputs": [
    {
     "data": {
      "text/plain": [
       "birth_year\n",
       "1935.0    13\n",
       "1932.0    10\n",
       "1939.0     8\n",
       "1899.0     8\n",
       "1900.0     7\n",
       "1938.0     7\n",
       "1937.0     6\n",
       "1901.0     5\n",
       "1922.0     3\n",
       "1936.0     3\n",
       "1933.0     3\n",
       "1934.0     2\n",
       "1917.0     1\n",
       "1929.0     1\n",
       "1926.0     1\n",
       "1910.0     1\n",
       "1924.0     1\n",
       "1921.0     1\n",
       "Name: count, dtype: int64"
      ]
     },
     "execution_count": 15,
     "metadata": {},
     "output_type": "execute_result"
    }
   ],
   "source": [
    "df_age_old = df.loc[df['birth_year'] < 1940]\n",
    "df_age_old['birth_year'].value_counts(dropna = False)"
   ]
  },
  {
   "cell_type": "markdown",
   "id": "300a7d1c",
   "metadata": {},
   "source": [
    "#### Observation:\n",
    "I will create a new pdf excluding NaN's birth_year and birth_year under 1940"
   ]
  },
  {
   "cell_type": "code",
   "execution_count": 16,
   "id": "64966325",
   "metadata": {},
   "outputs": [],
   "source": [
    "df_nan = df[df['birth_year'].isnull() == True]"
   ]
  },
  {
   "cell_type": "code",
   "execution_count": 17,
   "id": "294a6a0c",
   "metadata": {},
   "outputs": [
    {
     "data": {
      "text/plain": [
       "(6482,)"
      ]
     },
     "execution_count": 17,
     "metadata": {},
     "output_type": "execute_result"
    }
   ],
   "source": [
    "df_nan['birth_year'].shape"
   ]
  },
  {
   "cell_type": "code",
   "execution_count": 18,
   "id": "73c7ab41",
   "metadata": {},
   "outputs": [],
   "source": [
    "# Creating a new dataframe excluding the missing values\n",
    "# This time setting the isnull() condition to False instead of True (I want non-missing values as opposed to missing values) \n",
    "\n",
    "df_age_clean = df[df['birth_year'].isnull() == False]"
   ]
  },
  {
   "cell_type": "code",
   "execution_count": 19,
   "id": "585818f5",
   "metadata": {},
   "outputs": [
    {
     "data": {
      "text/plain": [
       "(46673,)"
      ]
     },
     "execution_count": 19,
     "metadata": {},
     "output_type": "execute_result"
    }
   ],
   "source": [
    "df['birth_year'].shape"
   ]
  },
  {
   "cell_type": "code",
   "execution_count": 20,
   "id": "8a65832b",
   "metadata": {},
   "outputs": [
    {
     "data": {
      "text/plain": [
       "(40191,)"
      ]
     },
     "execution_count": 20,
     "metadata": {},
     "output_type": "execute_result"
    }
   ],
   "source": [
    "df_age_clean['birth_year'].shape"
   ]
  },
  {
   "cell_type": "markdown",
   "id": "b76871e8",
   "metadata": {},
   "source": [
    "The calculation is correct!\n",
    " - 46673 - 40191 = 6482 (exactly the NaN values from birth_year)"
   ]
  },
  {
   "cell_type": "code",
   "execution_count": 21,
   "id": "6ff9e9b0",
   "metadata": {},
   "outputs": [
    {
     "data": {
      "text/plain": [
       "birth_year\n",
       "1935.0    13\n",
       "1932.0    10\n",
       "1939.0     8\n",
       "1899.0     8\n",
       "1900.0     7\n",
       "1938.0     7\n",
       "1937.0     6\n",
       "1901.0     5\n",
       "1922.0     3\n",
       "1936.0     3\n",
       "1933.0     3\n",
       "1934.0     2\n",
       "1917.0     1\n",
       "1929.0     1\n",
       "1926.0     1\n",
       "1910.0     1\n",
       "1924.0     1\n",
       "1921.0     1\n",
       "Name: count, dtype: int64"
      ]
     },
     "execution_count": 21,
     "metadata": {},
     "output_type": "execute_result"
    }
   ],
   "source": [
    "# Now continue excluding the birth_year under 1940\n",
    "df_age_old['birth_year'].value_counts(dropna = False)"
   ]
  },
  {
   "cell_type": "code",
   "execution_count": 22,
   "id": "c3e8f9c8",
   "metadata": {},
   "outputs": [
    {
     "data": {
      "text/plain": [
       "81"
      ]
     },
     "execution_count": 22,
     "metadata": {},
     "output_type": "execute_result"
    }
   ],
   "source": [
    "# Check the count\n",
    "df_age_old['birth_year'].value_counts(dropna = False).sum()"
   ]
  },
  {
   "cell_type": "code",
   "execution_count": 23,
   "id": "2c3d2bbc",
   "metadata": {},
   "outputs": [
    {
     "data": {
      "text/plain": [
       "(40191,)"
      ]
     },
     "execution_count": 23,
     "metadata": {},
     "output_type": "execute_result"
    }
   ],
   "source": [
    "df_age_clean['birth_year'].shape"
   ]
  },
  {
   "cell_type": "code",
   "execution_count": 24,
   "id": "8fb94a38",
   "metadata": {},
   "outputs": [],
   "source": [
    "df_clean = df_age_clean.loc[~df_age_clean['birth_year'].isin ([\n",
    "1935.0,    \n",
    "1932.0,    \n",
    "1939.0,     \n",
    "1899.0,     \n",
    "1900.0,     \n",
    "1938.0,     \n",
    "1937.0,     \n",
    "1901.0,     \n",
    "1922.0,     \n",
    "1936.0,     \n",
    "1933.0,     \n",
    "1934.0,     \n",
    "1917.0,     \n",
    "1929.0,     \n",
    "1926.0,     \n",
    "1910.0,     \n",
    "1924.0,     \n",
    "1921.0  ])]"
   ]
  },
  {
   "cell_type": "code",
   "execution_count": 25,
   "id": "0c7e54cc",
   "metadata": {},
   "outputs": [
    {
     "data": {
      "text/plain": [
       "(40110, 32)"
      ]
     },
     "execution_count": 25,
     "metadata": {},
     "output_type": "execute_result"
    }
   ],
   "source": [
    "df_clean.shape"
   ]
  },
  {
   "cell_type": "markdown",
   "id": "c30d7e76",
   "metadata": {},
   "source": [
    "The calculation is correct!\n",
    " - 40191 - 40110 = 81 (exactly the count of the birth_year under 1940)"
   ]
  },
  {
   "cell_type": "code",
   "execution_count": 26,
   "id": "c8fcc4b5",
   "metadata": {},
   "outputs": [
    {
     "data": {
      "text/plain": [
       "count    40110.000000\n",
       "mean      1975.710297\n",
       "std         10.840430\n",
       "min       1940.000000\n",
       "25%       1968.000000\n",
       "50%       1978.000000\n",
       "75%       1984.000000\n",
       "max       1997.000000\n",
       "Name: birth_year, dtype: float64"
      ]
     },
     "execution_count": 26,
     "metadata": {},
     "output_type": "execute_result"
    }
   ],
   "source": [
    "df_clean['birth_year'].describe()"
   ]
  },
  {
   "cell_type": "code",
   "execution_count": 27,
   "id": "ca76689f",
   "metadata": {},
   "outputs": [
    {
     "data": {
      "text/plain": [
       "dtype('float64')"
      ]
     },
     "execution_count": 27,
     "metadata": {},
     "output_type": "execute_result"
    }
   ],
   "source": [
    "df_clean['birth_year'].dtype"
   ]
  },
  {
   "cell_type": "code",
   "execution_count": 28,
   "id": "b44a8121",
   "metadata": {},
   "outputs": [
    {
     "name": "stderr",
     "output_type": "stream",
     "text": [
      "/var/folders/kj/ff_yw10j6_zbkk839hkzgftr0000gn/T/ipykernel_56499/4065121901.py:1: SettingWithCopyWarning: \n",
      "A value is trying to be set on a copy of a slice from a DataFrame.\n",
      "Try using .loc[row_indexer,col_indexer] = value instead\n",
      "\n",
      "See the caveats in the documentation: https://pandas.pydata.org/pandas-docs/stable/user_guide/indexing.html#returning-a-view-versus-a-copy\n",
      "  df_clean['birth_year'] = df_clean['birth_year'].astype(int)\n"
     ]
    }
   ],
   "source": [
    "df_clean['birth_year'] = df_clean['birth_year'].astype(int)"
   ]
  },
  {
   "cell_type": "code",
   "execution_count": 29,
   "id": "44ac7840",
   "metadata": {},
   "outputs": [
    {
     "data": {
      "text/plain": [
       "dtype('int64')"
      ]
     },
     "execution_count": 29,
     "metadata": {},
     "output_type": "execute_result"
    }
   ],
   "source": [
    "df_clean['birth_year'].dtype"
   ]
  },
  {
   "cell_type": "code",
   "execution_count": 30,
   "id": "06b872c5",
   "metadata": {},
   "outputs": [
    {
     "data": {
      "text/plain": [
       "bike_id                        0\n",
       "weekday                        0\n",
       "start_hour                     0\n",
       "start_time                     0\n",
       "start_station_id               0\n",
       "start_station_name             0\n",
       "start_station_latitude         0\n",
       "start_station_longitude        0\n",
       "end_time                       0\n",
       "end_station_id                 0\n",
       "end_station_name               0\n",
       "end_station_latitude           0\n",
       "end_station_longitude          0\n",
       "trip_duration                  0\n",
       "subscriber                     0\n",
       "birth_year                     0\n",
       "gender                         0\n",
       "gender_category                0\n",
       "trip_duration_min              0\n",
       "start_year                     0\n",
       "start_month                    0\n",
       "start_week                     0\n",
       "start_day                      0\n",
       "end_year                       0\n",
       "end_month                      0\n",
       "end_week                       0\n",
       "end_day                        0\n",
       "end_hour                       0\n",
       "days_category                  0\n",
       "peak_hours                     0\n",
       "avg_trip_duration_each_hour    0\n",
       "day_of_week                    0\n",
       "dtype: int64"
      ]
     },
     "execution_count": 30,
     "metadata": {},
     "output_type": "execute_result"
    }
   ],
   "source": [
    "df_clean.isnull().sum()"
   ]
  },
  {
   "cell_type": "code",
   "execution_count": 31,
   "id": "c0adc4f3",
   "metadata": {},
   "outputs": [
    {
     "data": {
      "text/plain": [
       "bike_id                          int64\n",
       "weekday                         object\n",
       "start_hour                       int64\n",
       "start_time                      object\n",
       "start_station_id                 int64\n",
       "start_station_name              object\n",
       "start_station_latitude         float64\n",
       "start_station_longitude        float64\n",
       "end_time                        object\n",
       "end_station_id                   int64\n",
       "end_station_name                object\n",
       "end_station_latitude           float64\n",
       "end_station_longitude          float64\n",
       "trip_duration                    int64\n",
       "subscriber                      object\n",
       "birth_year                       int64\n",
       "gender                           int64\n",
       "gender_category                 object\n",
       "trip_duration_min                int64\n",
       "start_year                       int64\n",
       "start_month                      int64\n",
       "start_week                       int64\n",
       "start_day                        int64\n",
       "end_year                         int64\n",
       "end_month                        int64\n",
       "end_week                         int64\n",
       "end_day                          int64\n",
       "end_hour                         int64\n",
       "days_category                   object\n",
       "peak_hours                      object\n",
       "avg_trip_duration_each_hour    float64\n",
       "day_of_week                      int64\n",
       "dtype: object"
      ]
     },
     "execution_count": 31,
     "metadata": {},
     "output_type": "execute_result"
    }
   ],
   "source": [
    "df_clean.dtypes"
   ]
  },
  {
   "cell_type": "markdown",
   "id": "23b056fc",
   "metadata": {},
   "source": [
    "Select variables that seem good for analysis\n",
    "- start_hour\n",
    "- birth_year\n",
    "- avg_trip_duration_each_hour "
   ]
  },
  {
   "cell_type": "markdown",
   "id": "2ce19f37",
   "metadata": {},
   "source": [
    "#### Analysis per day"
   ]
  },
  {
   "cell_type": "code",
   "execution_count": 32,
   "id": "7ee69f5e",
   "metadata": {},
   "outputs": [
    {
     "data": {
      "text/plain": [
       "weekday\n",
       "Fri    6589\n",
       "Wed    6478\n",
       "Tue    6414\n",
       "Thu    6205\n",
       "Mon    5124\n",
       "Sat    4963\n",
       "Sun    4337\n",
       "Name: count, dtype: int64"
      ]
     },
     "execution_count": 32,
     "metadata": {},
     "output_type": "execute_result"
    }
   ],
   "source": [
    "df_clean['weekday'].value_counts(dropna = False)"
   ]
  },
  {
   "cell_type": "code",
   "execution_count": 33,
   "id": "248a4193",
   "metadata": {},
   "outputs": [
    {
     "data": {
      "text/plain": [
       "weekday\n",
       "Fri    6589\n",
       "Mon    5124\n",
       "Sat    4963\n",
       "Sun    4337\n",
       "Thu    6205\n",
       "Tue    6414\n",
       "Wed    6478\n",
       "Name: start_hour, dtype: int64"
      ]
     },
     "execution_count": 33,
     "metadata": {},
     "output_type": "execute_result"
    }
   ],
   "source": [
    "# Rides per day\n",
    "df_day = df_clean.groupby('weekday')['start_hour'].count()\n",
    "df_day"
   ]
  },
  {
   "cell_type": "code",
   "execution_count": 34,
   "id": "905a9bf1",
   "metadata": {},
   "outputs": [
    {
     "data": {
      "text/plain": [
       "weekday\n",
       "Fri    12.227804\n",
       "Mon    12.256635\n",
       "Sat    12.904292\n",
       "Sun    13.192991\n",
       "Thu    12.014504\n",
       "Tue    12.003586\n",
       "Wed    12.227694\n",
       "Name: trip_duration_min, dtype: float64"
      ]
     },
     "execution_count": 34,
     "metadata": {},
     "output_type": "execute_result"
    }
   ],
   "source": [
    "# Average trip duration per day\n",
    "df_avg_trip = df_clean.groupby('weekday')['trip_duration_min'].mean()\n",
    "df_avg_trip"
   ]
  },
  {
   "cell_type": "code",
   "execution_count": 35,
   "id": "3f8b5ef6",
   "metadata": {},
   "outputs": [
    {
     "data": {
      "text/plain": [
       "weekday\n",
       "Fri    1975.500379\n",
       "Mon    1975.482045\n",
       "Sat    1976.978037\n",
       "Sun    1976.813235\n",
       "Thu    1975.175665\n",
       "Tue    1975.281104\n",
       "Wed    1975.331738\n",
       "Name: birth_year, dtype: float64"
      ]
     },
     "execution_count": 35,
     "metadata": {},
     "output_type": "execute_result"
    }
   ],
   "source": [
    "# Average age per day\n",
    "df_avg_age = df_clean.groupby('weekday')['birth_year'].mean()\n",
    "df_avg_age"
   ]
  },
  {
   "cell_type": "code",
   "execution_count": 36,
   "id": "544d166a",
   "metadata": {},
   "outputs": [
    {
     "data": {
      "text/html": [
       "<div>\n",
       "<style scoped>\n",
       "    .dataframe tbody tr th:only-of-type {\n",
       "        vertical-align: middle;\n",
       "    }\n",
       "\n",
       "    .dataframe tbody tr th {\n",
       "        vertical-align: top;\n",
       "    }\n",
       "\n",
       "    .dataframe thead th {\n",
       "        text-align: right;\n",
       "    }\n",
       "</style>\n",
       "<table border=\"1\" class=\"dataframe\">\n",
       "  <thead>\n",
       "    <tr style=\"text-align: right;\">\n",
       "      <th></th>\n",
       "      <th>day_of_week</th>\n",
       "      <th>ride_count</th>\n",
       "      <th>avg_duration</th>\n",
       "      <th>avg_age</th>\n",
       "    </tr>\n",
       "  </thead>\n",
       "  <tbody>\n",
       "    <tr>\n",
       "      <th>0</th>\n",
       "      <td>Fri</td>\n",
       "      <td>6589</td>\n",
       "      <td>12.227804</td>\n",
       "      <td>1975.500379</td>\n",
       "    </tr>\n",
       "    <tr>\n",
       "      <th>1</th>\n",
       "      <td>Mon</td>\n",
       "      <td>5124</td>\n",
       "      <td>12.256635</td>\n",
       "      <td>1975.482045</td>\n",
       "    </tr>\n",
       "    <tr>\n",
       "      <th>2</th>\n",
       "      <td>Sat</td>\n",
       "      <td>4963</td>\n",
       "      <td>12.904292</td>\n",
       "      <td>1976.978037</td>\n",
       "    </tr>\n",
       "    <tr>\n",
       "      <th>3</th>\n",
       "      <td>Sun</td>\n",
       "      <td>4337</td>\n",
       "      <td>13.192991</td>\n",
       "      <td>1976.813235</td>\n",
       "    </tr>\n",
       "    <tr>\n",
       "      <th>4</th>\n",
       "      <td>Thu</td>\n",
       "      <td>6205</td>\n",
       "      <td>12.014504</td>\n",
       "      <td>1975.175665</td>\n",
       "    </tr>\n",
       "    <tr>\n",
       "      <th>5</th>\n",
       "      <td>Tue</td>\n",
       "      <td>6414</td>\n",
       "      <td>12.003586</td>\n",
       "      <td>1975.281104</td>\n",
       "    </tr>\n",
       "    <tr>\n",
       "      <th>6</th>\n",
       "      <td>Wed</td>\n",
       "      <td>6478</td>\n",
       "      <td>12.227694</td>\n",
       "      <td>1975.331738</td>\n",
       "    </tr>\n",
       "  </tbody>\n",
       "</table>\n",
       "</div>"
      ],
      "text/plain": [
       "  day_of_week  ride_count  avg_duration      avg_age\n",
       "0         Fri        6589     12.227804  1975.500379\n",
       "1         Mon        5124     12.256635  1975.482045\n",
       "2         Sat        4963     12.904292  1976.978037\n",
       "3         Sun        4337     13.192991  1976.813235\n",
       "4         Thu        6205     12.014504  1975.175665\n",
       "5         Tue        6414     12.003586  1975.281104\n",
       "6         Wed        6478     12.227694  1975.331738"
      ]
     },
     "execution_count": 36,
     "metadata": {},
     "output_type": "execute_result"
    }
   ],
   "source": [
    "# Put it together\n",
    "df_result = pd.DataFrame({'day_of_week': df_day.index, 'ride_count': df_day.values, 'avg_duration': df_avg_trip.values, 'avg_age': df_avg_age.values})\n",
    "df_result"
   ]
  },
  {
   "cell_type": "markdown",
   "id": "a6038a08",
   "metadata": {},
   "source": [
    "#### Analysis per 24 hours"
   ]
  },
  {
   "cell_type": "code",
   "execution_count": 37,
   "id": "bc689693",
   "metadata": {},
   "outputs": [
    {
     "data": {
      "text/plain": [
       "start_hour\n",
       "17    4117\n",
       "18    3983\n",
       "8     2944\n",
       "16    2817\n",
       "19    2728\n",
       "9     2434\n",
       "15    2260\n",
       "13    2238\n",
       "14    2223\n",
       "12    2194\n",
       "7     1883\n",
       "20    1800\n",
       "11    1694\n",
       "10    1691\n",
       "21    1287\n",
       "22    1100\n",
       "6      843\n",
       "23     765\n",
       "0      391\n",
       "1      244\n",
       "5      179\n",
       "2      138\n",
       "3       87\n",
       "4       70\n",
       "Name: count, dtype: int64"
      ]
     },
     "execution_count": 37,
     "metadata": {},
     "output_type": "execute_result"
    }
   ],
   "source": [
    "df_clean['start_hour'].value_counts(dropna = False)"
   ]
  },
  {
   "cell_type": "code",
   "execution_count": 38,
   "id": "d74afe2b",
   "metadata": {},
   "outputs": [
    {
     "data": {
      "text/plain": [
       "start_hour\n",
       "0      391\n",
       "1      244\n",
       "2      138\n",
       "3       87\n",
       "4       70\n",
       "5      179\n",
       "6      843\n",
       "7     1883\n",
       "8     2944\n",
       "9     2434\n",
       "10    1691\n",
       "11    1694\n",
       "12    2194\n",
       "13    2238\n",
       "14    2223\n",
       "15    2260\n",
       "16    2817\n",
       "17    4117\n",
       "18    3983\n",
       "19    2728\n",
       "20    1800\n",
       "21    1287\n",
       "22    1100\n",
       "23     765\n",
       "Name: start_hour, dtype: int64"
      ]
     },
     "execution_count": 38,
     "metadata": {},
     "output_type": "execute_result"
    }
   ],
   "source": [
    "# Rides per hour\n",
    "df_hour = df_clean.groupby('start_hour')['start_hour'].count()\n",
    "df_hour"
   ]
  },
  {
   "cell_type": "code",
   "execution_count": 39,
   "id": "a3f56b1a",
   "metadata": {},
   "outputs": [
    {
     "data": {
      "text/plain": [
       "start_hour\n",
       "0     11.933504\n",
       "1     11.135246\n",
       "2     10.615942\n",
       "3     10.954023\n",
       "4     10.500000\n",
       "5      9.564246\n",
       "6     10.289442\n",
       "7     11.587892\n",
       "8     12.119226\n",
       "9     11.702136\n",
       "10    11.958013\n",
       "11    12.184179\n",
       "12    11.666363\n",
       "13    11.938785\n",
       "14    12.479532\n",
       "15    12.650000\n",
       "16    13.088747\n",
       "17    13.183629\n",
       "18    13.323876\n",
       "19    12.550953\n",
       "20    12.471667\n",
       "21    12.468531\n",
       "22    11.900000\n",
       "23    11.677124\n",
       "Name: trip_duration_min, dtype: float64"
      ]
     },
     "execution_count": 39,
     "metadata": {},
     "output_type": "execute_result"
    }
   ],
   "source": [
    "# Average trip duration per hour\n",
    "df_avg_trip1 = df_clean.groupby('start_hour')['trip_duration_min'].mean()\n",
    "df_avg_trip1"
   ]
  },
  {
   "cell_type": "code",
   "execution_count": 40,
   "id": "7b106949",
   "metadata": {},
   "outputs": [
    {
     "data": {
      "text/plain": [
       "start_hour\n",
       "0     1979.363171\n",
       "1     1979.225410\n",
       "2     1978.427536\n",
       "3     1981.482759\n",
       "4     1974.485714\n",
       "5     1975.424581\n",
       "6     1974.631079\n",
       "7     1973.909187\n",
       "8     1974.951427\n",
       "9     1974.819638\n",
       "10    1974.746895\n",
       "11    1974.708973\n",
       "12    1975.091613\n",
       "13    1974.881144\n",
       "14    1975.116509\n",
       "15    1974.946018\n",
       "16    1974.713880\n",
       "17    1975.263541\n",
       "18    1976.421542\n",
       "19    1977.102273\n",
       "20    1978.401667\n",
       "21    1978.134421\n",
       "22    1978.428182\n",
       "23    1978.749020\n",
       "Name: birth_year, dtype: float64"
      ]
     },
     "execution_count": 40,
     "metadata": {},
     "output_type": "execute_result"
    }
   ],
   "source": [
    "# Average age per hour\n",
    "df_avg_age1 = df_clean.groupby('start_hour')['birth_year'].mean()\n",
    "df_avg_age1"
   ]
  },
  {
   "cell_type": "code",
   "execution_count": 41,
   "id": "55f1ecf3",
   "metadata": {},
   "outputs": [
    {
     "data": {
      "text/html": [
       "<div>\n",
       "<style scoped>\n",
       "    .dataframe tbody tr th:only-of-type {\n",
       "        vertical-align: middle;\n",
       "    }\n",
       "\n",
       "    .dataframe tbody tr th {\n",
       "        vertical-align: top;\n",
       "    }\n",
       "\n",
       "    .dataframe thead th {\n",
       "        text-align: right;\n",
       "    }\n",
       "</style>\n",
       "<table border=\"1\" class=\"dataframe\">\n",
       "  <thead>\n",
       "    <tr style=\"text-align: right;\">\n",
       "      <th></th>\n",
       "      <th>start_hour</th>\n",
       "      <th>ride_count</th>\n",
       "      <th>avg_duration</th>\n",
       "      <th>avg_age</th>\n",
       "    </tr>\n",
       "  </thead>\n",
       "  <tbody>\n",
       "    <tr>\n",
       "      <th>0</th>\n",
       "      <td>0</td>\n",
       "      <td>391</td>\n",
       "      <td>11.933504</td>\n",
       "      <td>1979.363171</td>\n",
       "    </tr>\n",
       "    <tr>\n",
       "      <th>1</th>\n",
       "      <td>1</td>\n",
       "      <td>244</td>\n",
       "      <td>11.135246</td>\n",
       "      <td>1979.225410</td>\n",
       "    </tr>\n",
       "    <tr>\n",
       "      <th>2</th>\n",
       "      <td>2</td>\n",
       "      <td>138</td>\n",
       "      <td>10.615942</td>\n",
       "      <td>1978.427536</td>\n",
       "    </tr>\n",
       "    <tr>\n",
       "      <th>3</th>\n",
       "      <td>3</td>\n",
       "      <td>87</td>\n",
       "      <td>10.954023</td>\n",
       "      <td>1981.482759</td>\n",
       "    </tr>\n",
       "    <tr>\n",
       "      <th>4</th>\n",
       "      <td>4</td>\n",
       "      <td>70</td>\n",
       "      <td>10.500000</td>\n",
       "      <td>1974.485714</td>\n",
       "    </tr>\n",
       "    <tr>\n",
       "      <th>5</th>\n",
       "      <td>5</td>\n",
       "      <td>179</td>\n",
       "      <td>9.564246</td>\n",
       "      <td>1975.424581</td>\n",
       "    </tr>\n",
       "    <tr>\n",
       "      <th>6</th>\n",
       "      <td>6</td>\n",
       "      <td>843</td>\n",
       "      <td>10.289442</td>\n",
       "      <td>1974.631079</td>\n",
       "    </tr>\n",
       "    <tr>\n",
       "      <th>7</th>\n",
       "      <td>7</td>\n",
       "      <td>1883</td>\n",
       "      <td>11.587892</td>\n",
       "      <td>1973.909187</td>\n",
       "    </tr>\n",
       "    <tr>\n",
       "      <th>8</th>\n",
       "      <td>8</td>\n",
       "      <td>2944</td>\n",
       "      <td>12.119226</td>\n",
       "      <td>1974.951427</td>\n",
       "    </tr>\n",
       "    <tr>\n",
       "      <th>9</th>\n",
       "      <td>9</td>\n",
       "      <td>2434</td>\n",
       "      <td>11.702136</td>\n",
       "      <td>1974.819638</td>\n",
       "    </tr>\n",
       "    <tr>\n",
       "      <th>10</th>\n",
       "      <td>10</td>\n",
       "      <td>1691</td>\n",
       "      <td>11.958013</td>\n",
       "      <td>1974.746895</td>\n",
       "    </tr>\n",
       "    <tr>\n",
       "      <th>11</th>\n",
       "      <td>11</td>\n",
       "      <td>1694</td>\n",
       "      <td>12.184179</td>\n",
       "      <td>1974.708973</td>\n",
       "    </tr>\n",
       "    <tr>\n",
       "      <th>12</th>\n",
       "      <td>12</td>\n",
       "      <td>2194</td>\n",
       "      <td>11.666363</td>\n",
       "      <td>1975.091613</td>\n",
       "    </tr>\n",
       "    <tr>\n",
       "      <th>13</th>\n",
       "      <td>13</td>\n",
       "      <td>2238</td>\n",
       "      <td>11.938785</td>\n",
       "      <td>1974.881144</td>\n",
       "    </tr>\n",
       "    <tr>\n",
       "      <th>14</th>\n",
       "      <td>14</td>\n",
       "      <td>2223</td>\n",
       "      <td>12.479532</td>\n",
       "      <td>1975.116509</td>\n",
       "    </tr>\n",
       "    <tr>\n",
       "      <th>15</th>\n",
       "      <td>15</td>\n",
       "      <td>2260</td>\n",
       "      <td>12.650000</td>\n",
       "      <td>1974.946018</td>\n",
       "    </tr>\n",
       "    <tr>\n",
       "      <th>16</th>\n",
       "      <td>16</td>\n",
       "      <td>2817</td>\n",
       "      <td>13.088747</td>\n",
       "      <td>1974.713880</td>\n",
       "    </tr>\n",
       "    <tr>\n",
       "      <th>17</th>\n",
       "      <td>17</td>\n",
       "      <td>4117</td>\n",
       "      <td>13.183629</td>\n",
       "      <td>1975.263541</td>\n",
       "    </tr>\n",
       "    <tr>\n",
       "      <th>18</th>\n",
       "      <td>18</td>\n",
       "      <td>3983</td>\n",
       "      <td>13.323876</td>\n",
       "      <td>1976.421542</td>\n",
       "    </tr>\n",
       "    <tr>\n",
       "      <th>19</th>\n",
       "      <td>19</td>\n",
       "      <td>2728</td>\n",
       "      <td>12.550953</td>\n",
       "      <td>1977.102273</td>\n",
       "    </tr>\n",
       "    <tr>\n",
       "      <th>20</th>\n",
       "      <td>20</td>\n",
       "      <td>1800</td>\n",
       "      <td>12.471667</td>\n",
       "      <td>1978.401667</td>\n",
       "    </tr>\n",
       "    <tr>\n",
       "      <th>21</th>\n",
       "      <td>21</td>\n",
       "      <td>1287</td>\n",
       "      <td>12.468531</td>\n",
       "      <td>1978.134421</td>\n",
       "    </tr>\n",
       "    <tr>\n",
       "      <th>22</th>\n",
       "      <td>22</td>\n",
       "      <td>1100</td>\n",
       "      <td>11.900000</td>\n",
       "      <td>1978.428182</td>\n",
       "    </tr>\n",
       "    <tr>\n",
       "      <th>23</th>\n",
       "      <td>23</td>\n",
       "      <td>765</td>\n",
       "      <td>11.677124</td>\n",
       "      <td>1978.749020</td>\n",
       "    </tr>\n",
       "  </tbody>\n",
       "</table>\n",
       "</div>"
      ],
      "text/plain": [
       "    start_hour  ride_count  avg_duration      avg_age\n",
       "0            0         391     11.933504  1979.363171\n",
       "1            1         244     11.135246  1979.225410\n",
       "2            2         138     10.615942  1978.427536\n",
       "3            3          87     10.954023  1981.482759\n",
       "4            4          70     10.500000  1974.485714\n",
       "5            5         179      9.564246  1975.424581\n",
       "6            6         843     10.289442  1974.631079\n",
       "7            7        1883     11.587892  1973.909187\n",
       "8            8        2944     12.119226  1974.951427\n",
       "9            9        2434     11.702136  1974.819638\n",
       "10          10        1691     11.958013  1974.746895\n",
       "11          11        1694     12.184179  1974.708973\n",
       "12          12        2194     11.666363  1975.091613\n",
       "13          13        2238     11.938785  1974.881144\n",
       "14          14        2223     12.479532  1975.116509\n",
       "15          15        2260     12.650000  1974.946018\n",
       "16          16        2817     13.088747  1974.713880\n",
       "17          17        4117     13.183629  1975.263541\n",
       "18          18        3983     13.323876  1976.421542\n",
       "19          19        2728     12.550953  1977.102273\n",
       "20          20        1800     12.471667  1978.401667\n",
       "21          21        1287     12.468531  1978.134421\n",
       "22          22        1100     11.900000  1978.428182\n",
       "23          23         765     11.677124  1978.749020"
      ]
     },
     "execution_count": 41,
     "metadata": {},
     "output_type": "execute_result"
    }
   ],
   "source": [
    "# Put it together\n",
    "df_result1 = pd.DataFrame({'start_hour': df_hour.index, 'ride_count': df_hour.values, 'avg_duration': df_avg_trip1.values, 'avg_age': df_avg_age1.values})\n",
    "df_result1"
   ]
  },
  {
   "cell_type": "markdown",
   "id": "c7efd521",
   "metadata": {},
   "source": [
    "Observation:\n",
    "- The results seem reasonable as more young people tend to ride at night compared to old ones"
   ]
  },
  {
   "cell_type": "markdown",
   "id": "0cceacca",
   "metadata": {},
   "source": [
    "### The Elbow Technique"
   ]
  },
  {
   "cell_type": "code",
   "execution_count": 42,
   "id": "f6d580fb",
   "metadata": {},
   "outputs": [],
   "source": [
    "num_cl = range(1, 10) # Defines the range of potential clusters in the data.\n",
    "kmeans = [KMeans(n_clusters=i) for i in num_cl] # Defines k-means clusters in the range assigned above."
   ]
  },
  {
   "cell_type": "code",
   "execution_count": 43,
   "id": "2cdd6bb9",
   "metadata": {},
   "outputs": [
    {
     "name": "stderr",
     "output_type": "stream",
     "text": [
      "/Users/nataliawijaya/anaconda3/lib/python3.11/site-packages/sklearn/cluster/_kmeans.py:1412: FutureWarning: The default value of `n_init` will change from 10 to 'auto' in 1.4. Set the value of `n_init` explicitly to suppress the warning\n",
      "  super()._check_params_vs_input(X, default_n_init=10)\n",
      "/Users/nataliawijaya/anaconda3/lib/python3.11/site-packages/sklearn/cluster/_kmeans.py:1412: FutureWarning: The default value of `n_init` will change from 10 to 'auto' in 1.4. Set the value of `n_init` explicitly to suppress the warning\n",
      "  super()._check_params_vs_input(X, default_n_init=10)\n",
      "/Users/nataliawijaya/anaconda3/lib/python3.11/site-packages/sklearn/cluster/_kmeans.py:1412: FutureWarning: The default value of `n_init` will change from 10 to 'auto' in 1.4. Set the value of `n_init` explicitly to suppress the warning\n",
      "  super()._check_params_vs_input(X, default_n_init=10)\n",
      "/Users/nataliawijaya/anaconda3/lib/python3.11/site-packages/sklearn/cluster/_kmeans.py:1412: FutureWarning: The default value of `n_init` will change from 10 to 'auto' in 1.4. Set the value of `n_init` explicitly to suppress the warning\n",
      "  super()._check_params_vs_input(X, default_n_init=10)\n",
      "/Users/nataliawijaya/anaconda3/lib/python3.11/site-packages/sklearn/cluster/_kmeans.py:1412: FutureWarning: The default value of `n_init` will change from 10 to 'auto' in 1.4. Set the value of `n_init` explicitly to suppress the warning\n",
      "  super()._check_params_vs_input(X, default_n_init=10)\n",
      "/Users/nataliawijaya/anaconda3/lib/python3.11/site-packages/sklearn/cluster/_kmeans.py:1412: FutureWarning: The default value of `n_init` will change from 10 to 'auto' in 1.4. Set the value of `n_init` explicitly to suppress the warning\n",
      "  super()._check_params_vs_input(X, default_n_init=10)\n",
      "/Users/nataliawijaya/anaconda3/lib/python3.11/site-packages/sklearn/cluster/_kmeans.py:1412: FutureWarning: The default value of `n_init` will change from 10 to 'auto' in 1.4. Set the value of `n_init` explicitly to suppress the warning\n",
      "  super()._check_params_vs_input(X, default_n_init=10)\n",
      "/Users/nataliawijaya/anaconda3/lib/python3.11/site-packages/sklearn/cluster/_kmeans.py:1412: FutureWarning: The default value of `n_init` will change from 10 to 'auto' in 1.4. Set the value of `n_init` explicitly to suppress the warning\n",
      "  super()._check_params_vs_input(X, default_n_init=10)\n",
      "/Users/nataliawijaya/anaconda3/lib/python3.11/site-packages/sklearn/cluster/_kmeans.py:1412: FutureWarning: The default value of `n_init` will change from 10 to 'auto' in 1.4. Set the value of `n_init` explicitly to suppress the warning\n",
      "  super()._check_params_vs_input(X, default_n_init=10)\n"
     ]
    },
    {
     "data": {
      "text/plain": [
       "[-32575004.859283153,\n",
       " -9473579.056005482,\n",
       " -3870805.5186748207,\n",
       " -1787791.3001294665,\n",
       " -848039.3007127657,\n",
       " -337890.28246039443,\n",
       " -186127.05801893215,\n",
       " -133307.52478861867,\n",
       " -99589.06065695983]"
      ]
     },
     "execution_count": 43,
     "metadata": {},
     "output_type": "execute_result"
    }
   ],
   "source": [
    "score = [kmeans[i].fit(df_result1).score(df_result1) for i in range(len(kmeans))] # Creates a score that represents \n",
    "# a rate of variation for the given cluster option.\n",
    "\n",
    "score"
   ]
  },
  {
   "cell_type": "code",
   "execution_count": 44,
   "id": "4066761c",
   "metadata": {},
   "outputs": [
    {
     "data": {
      "image/png": "[encoded data removed]",
      "text/plain": [
       "<Figure size 640x480 with 1 Axes>"
      ]
     },
     "metadata": {},
     "output_type": "display_data"
    }
   ],
   "source": [
    "# Plot the elbow curve using PyLab.\n",
    "\n",
    "pl.plot(num_cl,score)\n",
    "pl.xlabel('Number of Clusters')\n",
    "pl.ylabel('Score')\n",
    "pl.title('Elbow Curve')\n",
    "pl.show()"
   ]
  },
  {
   "cell_type": "markdown",
   "id": "7a147f61",
   "metadata": {},
   "source": [
    "#### After 4 on the x-axis, the curve straightens out. I will take 4 as the optimal count for this clusters"
   ]
  },
  {
   "cell_type": "markdown",
   "id": "0c4036df",
   "metadata": {},
   "source": [
    "### k-means clustering"
   ]
  },
  {
   "cell_type": "code",
   "execution_count": 45,
   "id": "5866a78e",
   "metadata": {},
   "outputs": [],
   "source": [
    "# Create the k-means object.\n",
    "\n",
    "kmeans = KMeans(n_clusters = 4) "
   ]
  },
  {
   "cell_type": "code",
   "execution_count": 46,
   "id": "f589183f",
   "metadata": {},
   "outputs": [
    {
     "name": "stderr",
     "output_type": "stream",
     "text": [
      "/Users/nataliawijaya/anaconda3/lib/python3.11/site-packages/sklearn/cluster/_kmeans.py:1412: FutureWarning: The default value of `n_init` will change from 10 to 'auto' in 1.4. Set the value of `n_init` explicitly to suppress the warning\n",
      "  super()._check_params_vs_input(X, default_n_init=10)\n"
     ]
    },
    {
     "data": {
      "text/html": [
       "<style>#sk-container-id-1 {color: black;}#sk-container-id-1 pre{padding: 0;}#sk-container-id-1 div.sk-toggleable {background-color: white;}#sk-container-id-1 label.sk-toggleable__label {cursor: pointer;display: block;width: 100%;margin-bottom: 0;padding: 0.3em;box-sizing: border-box;text-align: center;}#sk-container-id-1 label.sk-toggleable__label-arrow:before {content: \"▸\";float: left;margin-right: 0.25em;color: #696969;}#sk-container-id-1 label.sk-toggleable__label-arrow:hover:before {color: black;}#sk-container-id-1 div.sk-estimator:hover label.sk-toggleable__label-arrow:before {color: black;}#sk-container-id-1 div.sk-toggleable__content {max-height: 0;max-width: 0;overflow: hidden;text-align: left;background-color: #f0f8ff;}#sk-container-id-1 div.sk-toggleable__content pre {margin: 0.2em;color: black;border-radius: 0.25em;background-color: #f0f8ff;}#sk-container-id-1 input.sk-toggleable__control:checked~div.sk-toggleable__content {max-height: 200px;max-width: 100%;overflow: auto;}#sk-container-id-1 input.sk-toggleable__control:checked~label.sk-toggleable__label-arrow:before {content: \"▾\";}#sk-container-id-1 div.sk-estimator input.sk-toggleable__control:checked~label.sk-toggleable__label {background-color: #d4ebff;}#sk-container-id-1 div.sk-label input.sk-toggleable__control:checked~label.sk-toggleable__label {background-color: #d4ebff;}#sk-container-id-1 input.sk-hidden--visually {border: 0;clip: rect(1px 1px 1px 1px);clip: rect(1px, 1px, 1px, 1px);height: 1px;margin: -1px;overflow: hidden;padding: 0;position: absolute;width: 1px;}#sk-container-id-1 div.sk-estimator {font-family: monospace;background-color: #f0f8ff;border: 1px dotted black;border-radius: 0.25em;box-sizing: border-box;margin-bottom: 0.5em;}#sk-container-id-1 div.sk-estimator:hover {background-color: #d4ebff;}#sk-container-id-1 div.sk-parallel-item::after {content: \"\";width: 100%;border-bottom: 1px solid gray;flex-grow: 1;}#sk-container-id-1 div.sk-label:hover label.sk-toggleable__label {background-color: #d4ebff;}#sk-container-id-1 div.sk-serial::before {content: \"\";position: absolute;border-left: 1px solid gray;box-sizing: border-box;top: 0;bottom: 0;left: 50%;z-index: 0;}#sk-container-id-1 div.sk-serial {display: flex;flex-direction: column;align-items: center;background-color: white;padding-right: 0.2em;padding-left: 0.2em;position: relative;}#sk-container-id-1 div.sk-item {position: relative;z-index: 1;}#sk-container-id-1 div.sk-parallel {display: flex;align-items: stretch;justify-content: center;background-color: white;position: relative;}#sk-container-id-1 div.sk-item::before, #sk-container-id-1 div.sk-parallel-item::before {content: \"\";position: absolute;border-left: 1px solid gray;box-sizing: border-box;top: 0;bottom: 0;left: 50%;z-index: -1;}#sk-container-id-1 div.sk-parallel-item {display: flex;flex-direction: column;z-index: 1;position: relative;background-color: white;}#sk-container-id-1 div.sk-parallel-item:first-child::after {align-self: flex-end;width: 50%;}#sk-container-id-1 div.sk-parallel-item:last-child::after {align-self: flex-start;width: 50%;}#sk-container-id-1 div.sk-parallel-item:only-child::after {width: 0;}#sk-container-id-1 div.sk-dashed-wrapped {border: 1px dashed gray;margin: 0 0.4em 0.5em 0.4em;box-sizing: border-box;padding-bottom: 0.4em;background-color: white;}#sk-container-id-1 div.sk-label label {font-family: monospace;font-weight: bold;display: inline-block;line-height: 1.2em;}#sk-container-id-1 div.sk-label-container {text-align: center;}#sk-container-id-1 div.sk-container {/* jupyter's `normalize.less` sets `[hidden] { display: none; }` but bootstrap.min.css set `[hidden] { display: none !important; }` so we also need the `!important` here to be able to override the default hidden behavior on the sphinx rendered scikit-learn.org. See: https://github.com/scikit-learn/scikit-learn/issues/21755 */display: inline-block !important;position: relative;}#sk-container-id-1 div.sk-text-repr-fallback {display: none;}</style><div id=\"sk-container-id-1\" class=\"sk-top-container\"><div class=\"sk-text-repr-fallback\"><pre>KMeans(n_clusters=4)</pre><b>In a Jupyter environment, please rerun this cell to show the HTML representation or trust the notebook. <br />On GitHub, the HTML representation is unable to render, please try loading this page with nbviewer.org.</b></div><div class=\"sk-container\" hidden><div class=\"sk-item\"><div class=\"sk-estimator sk-toggleable\"><input class=\"sk-toggleable__control sk-hidden--visually\" id=\"sk-estimator-id-1\" type=\"checkbox\" checked><label for=\"sk-estimator-id-1\" class=\"sk-toggleable__label sk-toggleable__label-arrow\">KMeans</label><div class=\"sk-toggleable__content\"><pre>KMeans(n_clusters=4)</pre></div></div></div></div></div>"
      ],
      "text/plain": [
       "KMeans(n_clusters=4)"
      ]
     },
     "execution_count": 46,
     "metadata": {},
     "output_type": "execute_result"
    }
   ],
   "source": [
    "# Fit the k-means object to the data.\n",
    "\n",
    "kmeans.fit(df_result1)"
   ]
  },
  {
   "cell_type": "code",
   "execution_count": 47,
   "id": "3e975ef5",
   "metadata": {},
   "outputs": [
    {
     "name": "stderr",
     "output_type": "stream",
     "text": [
      "/Users/nataliawijaya/anaconda3/lib/python3.11/site-packages/sklearn/cluster/_kmeans.py:1412: FutureWarning: The default value of `n_init` will change from 10 to 'auto' in 1.4. Set the value of `n_init` explicitly to suppress the warning\n",
      "  super()._check_params_vs_input(X, default_n_init=10)\n"
     ]
    }
   ],
   "source": [
    "df_result1['clusters'] = kmeans.fit_predict(df_result1)"
   ]
  },
  {
   "cell_type": "code",
   "execution_count": 48,
   "id": "35aa3f83",
   "metadata": {},
   "outputs": [
    {
     "data": {
      "text/html": [
       "<div>\n",
       "<style scoped>\n",
       "    .dataframe tbody tr th:only-of-type {\n",
       "        vertical-align: middle;\n",
       "    }\n",
       "\n",
       "    .dataframe tbody tr th {\n",
       "        vertical-align: top;\n",
       "    }\n",
       "\n",
       "    .dataframe thead th {\n",
       "        text-align: right;\n",
       "    }\n",
       "</style>\n",
       "<table border=\"1\" class=\"dataframe\">\n",
       "  <thead>\n",
       "    <tr style=\"text-align: right;\">\n",
       "      <th></th>\n",
       "      <th>start_hour</th>\n",
       "      <th>ride_count</th>\n",
       "      <th>avg_duration</th>\n",
       "      <th>avg_age</th>\n",
       "      <th>clusters</th>\n",
       "    </tr>\n",
       "  </thead>\n",
       "  <tbody>\n",
       "    <tr>\n",
       "      <th>0</th>\n",
       "      <td>0</td>\n",
       "      <td>391</td>\n",
       "      <td>11.933504</td>\n",
       "      <td>1979.363171</td>\n",
       "      <td>1</td>\n",
       "    </tr>\n",
       "    <tr>\n",
       "      <th>1</th>\n",
       "      <td>1</td>\n",
       "      <td>244</td>\n",
       "      <td>11.135246</td>\n",
       "      <td>1979.225410</td>\n",
       "      <td>1</td>\n",
       "    </tr>\n",
       "    <tr>\n",
       "      <th>2</th>\n",
       "      <td>2</td>\n",
       "      <td>138</td>\n",
       "      <td>10.615942</td>\n",
       "      <td>1978.427536</td>\n",
       "      <td>1</td>\n",
       "    </tr>\n",
       "    <tr>\n",
       "      <th>3</th>\n",
       "      <td>3</td>\n",
       "      <td>87</td>\n",
       "      <td>10.954023</td>\n",
       "      <td>1981.482759</td>\n",
       "      <td>1</td>\n",
       "    </tr>\n",
       "    <tr>\n",
       "      <th>4</th>\n",
       "      <td>4</td>\n",
       "      <td>70</td>\n",
       "      <td>10.500000</td>\n",
       "      <td>1974.485714</td>\n",
       "      <td>1</td>\n",
       "    </tr>\n",
       "  </tbody>\n",
       "</table>\n",
       "</div>"
      ],
      "text/plain": [
       "   start_hour  ride_count  avg_duration      avg_age  clusters\n",
       "0           0         391     11.933504  1979.363171         1\n",
       "1           1         244     11.135246  1979.225410         1\n",
       "2           2         138     10.615942  1978.427536         1\n",
       "3           3          87     10.954023  1981.482759         1\n",
       "4           4          70     10.500000  1974.485714         1"
      ]
     },
     "execution_count": 48,
     "metadata": {},
     "output_type": "execute_result"
    }
   ],
   "source": [
    "df_result1.head()"
   ]
  },
  {
   "cell_type": "code",
   "execution_count": 49,
   "id": "332b337c",
   "metadata": {},
   "outputs": [
    {
     "data": {
      "text/plain": [
       "clusters\n",
       "1    8\n",
       "2    8\n",
       "0    6\n",
       "3    2\n",
       "Name: count, dtype: int64"
      ]
     },
     "execution_count": 49,
     "metadata": {},
     "output_type": "execute_result"
    }
   ],
   "source": [
    "df_result1['clusters'].value_counts()"
   ]
  },
  {
   "cell_type": "code",
   "execution_count": 50,
   "id": "67d50444",
   "metadata": {},
   "outputs": [
    {
     "data": {
      "image/png": "[encoded data removed]",
      "text/plain": [
       "<Figure size 800x600 with 1 Axes>"
      ]
     },
     "metadata": {},
     "output_type": "display_data"
    }
   ],
   "source": [
    "# Plot the clusters for the \"start_hour\" and \"ride_count\" variables.\n",
    "\n",
    "plt.figure(figsize = (8,6))\n",
    "ax = sns.scatterplot(x = df_result1['start_hour'], y = df_result1['ride_count'], hue = kmeans.labels_, s = 100) \n",
    "# Here, you're subsetting `X` for the x and y arguments to avoid using their labels. \n",
    "# `hue` takes the value of the attribute `kmeans.labels_`, which is the result of running the k-means algorithm.\n",
    "# `s` represents the size of the points you want to see in the plot.\n",
    "\n",
    "ax.grid(False) # This removes the grid from the background.\n",
    "plt.title('Start hour vs Total ride') \n",
    "plt.xlabel('Start hour') # Label x-axis.\n",
    "plt.ylabel('Ride count') # Label y-axis.\n",
    "plt.show()"
   ]
  },
  {
   "cell_type": "markdown",
   "id": "9fd8f789",
   "metadata": {},
   "source": [
    "#### Peak hours:\n",
    "- 8am = 3095 rides count\n",
    "- 16pm = 3509 rides count\n",
    "- 17pm = 4736 rides count\n",
    "- 18pm = 4546 rides count\n",
    "- 19pm = 3084 rides count"
   ]
  },
  {
   "cell_type": "markdown",
   "id": "2480d504",
   "metadata": {},
   "source": [
    "#### Obsevation:\n",
    "- Cluster 0: Is one of the most populated clusters (along with cluster 1). This cluster collects data points with a very late start time of ride around 23 pm to early morning 6 am and has the least number of ride compared to other clusters\n",
    "- Cluster 1: Is one of the most populated clusters (along with cluster 0). This cluster is spread throughout the morning until the afternoon. This cluster occupies 8 am which is the only peak hour in the morning and is also spread over the peak hours in the evening. This cluster has a higher number of ride compared to other clusters (cluster 0 and cluster 2).This cluster may be filled by workers who may rent bicycles to commute to work during rush hour to and from work\n",
    "- Cluster 2: This cluster only occupies the morning and evening hours. The number of ride is lower than in the previous cluster, but still higher than in cluster 0\n",
    "- Cluster 3: This cluster is right at peak rush hour (which are 17pm and 18pm) and has high number of ride compared to other clusters"
   ]
  },
  {
   "cell_type": "markdown",
   "id": "81fb8b19",
   "metadata": {},
   "source": [
    "#### Further Analysis:\n",
    "In this cluster I use 4 variables:\n",
    "- start_hour\t\n",
    "- ride_count\t\n",
    "- avg_duration\t\n",
    "- avg_age\n",
    "\n",
    "Since I have used start_hour and ride_count as X and Y then I think those colors might belong to 2 other variables (avg_duration and avg_age). I'm going to do a quick check of these 2 variables to see at a glance if there is any relationship to each other"
   ]
  },
  {
   "cell_type": "code",
   "execution_count": 51,
   "id": "cc74fb7a",
   "metadata": {},
   "outputs": [
    {
     "data": {
      "text/html": [
       "<div>\n",
       "<style scoped>\n",
       "    .dataframe tbody tr th:only-of-type {\n",
       "        vertical-align: middle;\n",
       "    }\n",
       "\n",
       "    .dataframe tbody tr th {\n",
       "        vertical-align: top;\n",
       "    }\n",
       "\n",
       "    .dataframe thead th {\n",
       "        text-align: right;\n",
       "    }\n",
       "</style>\n",
       "<table border=\"1\" class=\"dataframe\">\n",
       "  <thead>\n",
       "    <tr style=\"text-align: right;\">\n",
       "      <th></th>\n",
       "      <th>bike_id</th>\n",
       "      <th>weekday</th>\n",
       "      <th>start_hour</th>\n",
       "      <th>start_time</th>\n",
       "      <th>start_station_id</th>\n",
       "      <th>start_station_name</th>\n",
       "      <th>start_station_latitude</th>\n",
       "      <th>start_station_longitude</th>\n",
       "      <th>end_time</th>\n",
       "      <th>end_station_id</th>\n",
       "      <th>...</th>\n",
       "      <th>start_day</th>\n",
       "      <th>end_year</th>\n",
       "      <th>end_month</th>\n",
       "      <th>end_week</th>\n",
       "      <th>end_day</th>\n",
       "      <th>end_hour</th>\n",
       "      <th>days_category</th>\n",
       "      <th>peak_hours</th>\n",
       "      <th>avg_trip_duration_each_hour</th>\n",
       "      <th>day_of_week</th>\n",
       "    </tr>\n",
       "  </thead>\n",
       "  <tbody>\n",
       "    <tr>\n",
       "      <th>0</th>\n",
       "      <td>16013</td>\n",
       "      <td>Mon</td>\n",
       "      <td>18</td>\n",
       "      <td>2013-09-09 18:18:55</td>\n",
       "      <td>523</td>\n",
       "      <td>W 38 St &amp; 8 Ave</td>\n",
       "      <td>40.754666</td>\n",
       "      <td>-73.991382</td>\n",
       "      <td>2013-09-09 18:35:28</td>\n",
       "      <td>334</td>\n",
       "      <td>...</td>\n",
       "      <td>9</td>\n",
       "      <td>2013</td>\n",
       "      <td>9</td>\n",
       "      <td>37</td>\n",
       "      <td>9</td>\n",
       "      <td>18</td>\n",
       "      <td>Weekdays</td>\n",
       "      <td>Peak hours</td>\n",
       "      <td>14.1</td>\n",
       "      <td>2</td>\n",
       "    </tr>\n",
       "    <tr>\n",
       "      <th>1</th>\n",
       "      <td>15230</td>\n",
       "      <td>Thu</td>\n",
       "      <td>18</td>\n",
       "      <td>2013-09-12 18:38:53</td>\n",
       "      <td>257</td>\n",
       "      <td>Lispenard St &amp; Broadway</td>\n",
       "      <td>40.719392</td>\n",
       "      <td>-74.002472</td>\n",
       "      <td>2013-09-12 18:48:34</td>\n",
       "      <td>236</td>\n",
       "      <td>...</td>\n",
       "      <td>12</td>\n",
       "      <td>2013</td>\n",
       "      <td>9</td>\n",
       "      <td>37</td>\n",
       "      <td>12</td>\n",
       "      <td>18</td>\n",
       "      <td>Weekdays</td>\n",
       "      <td>Peak hours</td>\n",
       "      <td>14.1</td>\n",
       "      <td>5</td>\n",
       "    </tr>\n",
       "    <tr>\n",
       "      <th>14</th>\n",
       "      <td>15973</td>\n",
       "      <td>Mon</td>\n",
       "      <td>18</td>\n",
       "      <td>2013-09-16 18:45:05</td>\n",
       "      <td>167</td>\n",
       "      <td>E 39 St &amp; 3 Ave</td>\n",
       "      <td>40.748901</td>\n",
       "      <td>-73.976049</td>\n",
       "      <td>2013-09-16 18:47:59</td>\n",
       "      <td>440</td>\n",
       "      <td>...</td>\n",
       "      <td>16</td>\n",
       "      <td>2013</td>\n",
       "      <td>9</td>\n",
       "      <td>38</td>\n",
       "      <td>16</td>\n",
       "      <td>18</td>\n",
       "      <td>Weekdays</td>\n",
       "      <td>Peak hours</td>\n",
       "      <td>14.1</td>\n",
       "      <td>2</td>\n",
       "    </tr>\n",
       "    <tr>\n",
       "      <th>17</th>\n",
       "      <td>18846</td>\n",
       "      <td>Tue</td>\n",
       "      <td>17</td>\n",
       "      <td>2013-09-24 17:48:27</td>\n",
       "      <td>505</td>\n",
       "      <td>6 Ave &amp; W 33 St</td>\n",
       "      <td>40.749013</td>\n",
       "      <td>-73.988484</td>\n",
       "      <td>2013-09-24 18:02:04</td>\n",
       "      <td>459</td>\n",
       "      <td>...</td>\n",
       "      <td>24</td>\n",
       "      <td>2013</td>\n",
       "      <td>9</td>\n",
       "      <td>39</td>\n",
       "      <td>24</td>\n",
       "      <td>18</td>\n",
       "      <td>Weekdays</td>\n",
       "      <td>Peak hours</td>\n",
       "      <td>14.0</td>\n",
       "      <td>3</td>\n",
       "    </tr>\n",
       "    <tr>\n",
       "      <th>21</th>\n",
       "      <td>15136</td>\n",
       "      <td>Mon</td>\n",
       "      <td>18</td>\n",
       "      <td>2013-09-09 18:45:24</td>\n",
       "      <td>385</td>\n",
       "      <td>E 55 St &amp; 2 Ave</td>\n",
       "      <td>40.757973</td>\n",
       "      <td>-73.966033</td>\n",
       "      <td>2013-09-09 19:05:26</td>\n",
       "      <td>435</td>\n",
       "      <td>...</td>\n",
       "      <td>9</td>\n",
       "      <td>2013</td>\n",
       "      <td>9</td>\n",
       "      <td>37</td>\n",
       "      <td>9</td>\n",
       "      <td>19</td>\n",
       "      <td>Weekdays</td>\n",
       "      <td>Peak hours</td>\n",
       "      <td>14.1</td>\n",
       "      <td>2</td>\n",
       "    </tr>\n",
       "  </tbody>\n",
       "</table>\n",
       "<p>5 rows × 32 columns</p>\n",
       "</div>"
      ],
      "text/plain": [
       "    bike_id weekday  start_hour           start_time  start_station_id  \\\n",
       "0     16013     Mon          18  2013-09-09 18:18:55               523   \n",
       "1     15230     Thu          18  2013-09-12 18:38:53               257   \n",
       "14    15973     Mon          18  2013-09-16 18:45:05               167   \n",
       "17    18846     Tue          17  2013-09-24 17:48:27               505   \n",
       "21    15136     Mon          18  2013-09-09 18:45:24               385   \n",
       "\n",
       "         start_station_name  start_station_latitude  start_station_longitude  \\\n",
       "0           W 38 St & 8 Ave               40.754666               -73.991382   \n",
       "1   Lispenard St & Broadway               40.719392               -74.002472   \n",
       "14          E 39 St & 3 Ave               40.748901               -73.976049   \n",
       "17          6 Ave & W 33 St               40.749013               -73.988484   \n",
       "21          E 55 St & 2 Ave               40.757973               -73.966033   \n",
       "\n",
       "               end_time  end_station_id  ... start_day  end_year  end_month  \\\n",
       "0   2013-09-09 18:35:28             334  ...         9      2013          9   \n",
       "1   2013-09-12 18:48:34             236  ...        12      2013          9   \n",
       "14  2013-09-16 18:47:59             440  ...        16      2013          9   \n",
       "17  2013-09-24 18:02:04             459  ...        24      2013          9   \n",
       "21  2013-09-09 19:05:26             435  ...         9      2013          9   \n",
       "\n",
       "    end_week end_day  end_hour  days_category  peak_hours  \\\n",
       "0         37       9        18       Weekdays  Peak hours   \n",
       "1         37      12        18       Weekdays  Peak hours   \n",
       "14        38      16        18       Weekdays  Peak hours   \n",
       "17        39      24        18       Weekdays  Peak hours   \n",
       "21        37       9        19       Weekdays  Peak hours   \n",
       "\n",
       "    avg_trip_duration_each_hour  day_of_week  \n",
       "0                          14.1            2  \n",
       "1                          14.1            5  \n",
       "14                         14.1            2  \n",
       "17                         14.0            3  \n",
       "21                         14.1            2  \n",
       "\n",
       "[5 rows x 32 columns]"
      ]
     },
     "execution_count": 51,
     "metadata": {},
     "output_type": "execute_result"
    }
   ],
   "source": [
    "# Check users at 17pm and 18pm (new subset)\n",
    "df_peak = df_clean.loc[df['start_hour'].isin([17,18])]\n",
    "df_peak.head()"
   ]
  },
  {
   "cell_type": "code",
   "execution_count": 52,
   "id": "d6c8c8b1",
   "metadata": {},
   "outputs": [
    {
     "data": {
      "text/plain": [
       "(8100, 32)"
      ]
     },
     "execution_count": 52,
     "metadata": {},
     "output_type": "execute_result"
    }
   ],
   "source": [
    "df_peak.shape"
   ]
  },
  {
   "cell_type": "code",
   "execution_count": 53,
   "id": "9032afd8",
   "metadata": {},
   "outputs": [
    {
     "data": {
      "text/plain": [
       "count    8100.000000\n",
       "mean       14.049173\n",
       "std         0.049996\n",
       "min        14.000000\n",
       "25%        14.000000\n",
       "50%        14.000000\n",
       "75%        14.100000\n",
       "max        14.100000\n",
       "Name: avg_trip_duration_each_hour, dtype: float64"
      ]
     },
     "execution_count": 53,
     "metadata": {},
     "output_type": "execute_result"
    }
   ],
   "source": [
    "# Check any posibilities (with avg duration)\n",
    "df_peak['avg_trip_duration_each_hour'].describe()"
   ]
  },
  {
   "cell_type": "code",
   "execution_count": 54,
   "id": "a9e56c3e",
   "metadata": {},
   "outputs": [
    {
     "data": {
      "text/plain": [
       "count    40110.000000\n",
       "mean        13.419683\n",
       "std          0.937933\n",
       "min         10.200000\n",
       "25%         12.700000\n",
       "50%         13.500000\n",
       "75%         14.100000\n",
       "max         14.700000\n",
       "Name: avg_trip_duration_each_hour, dtype: float64"
      ]
     },
     "execution_count": 54,
     "metadata": {},
     "output_type": "execute_result"
    }
   ],
   "source": [
    "# Check any posibilities (with avg duration)\n",
    "df_clean['avg_trip_duration_each_hour'].describe()"
   ]
  },
  {
   "cell_type": "markdown",
   "id": "9ee4b740",
   "metadata": {},
   "source": [
    "#### Observation:\n",
    "Rush hour has a higher average trip duration than other normal hours, and this is actually interesting because I analyzed this relationship in the previous exercise (the closer to rush hour, the higher the average trip duration). It seems they do have a relationship with each other and I will do further analysis based on your feedback at the end of this exercise"
   ]
  },
  {
   "cell_type": "code",
   "execution_count": 55,
   "id": "7e8e6dfb",
   "metadata": {},
   "outputs": [
    {
     "data": {
      "text/plain": [
       "count    8100.000000\n",
       "mean     1975.832963\n",
       "std        10.638587\n",
       "min      1940.000000\n",
       "25%      1969.000000\n",
       "50%      1978.000000\n",
       "75%      1984.000000\n",
       "max      1997.000000\n",
       "Name: birth_year, dtype: float64"
      ]
     },
     "execution_count": 55,
     "metadata": {},
     "output_type": "execute_result"
    }
   ],
   "source": [
    "# Check any posibilities (with age)\n",
    "df_peak['birth_year'].describe()"
   ]
  },
  {
   "cell_type": "code",
   "execution_count": 56,
   "id": "f26f3e46",
   "metadata": {},
   "outputs": [
    {
     "data": {
      "text/plain": [
       "count    40110.000000\n",
       "mean      1975.710297\n",
       "std         10.840430\n",
       "min       1940.000000\n",
       "25%       1968.000000\n",
       "50%       1978.000000\n",
       "75%       1984.000000\n",
       "max       1997.000000\n",
       "Name: birth_year, dtype: float64"
      ]
     },
     "execution_count": 56,
     "metadata": {},
     "output_type": "execute_result"
    }
   ],
   "source": [
    "# Check any posibilities (with age)\n",
    "df_clean['birth_year'].describe()"
   ]
  },
  {
   "cell_type": "markdown",
   "id": "aa039007",
   "metadata": {},
   "source": [
    "#### Observation:\n",
    "Can't draw any conclusions from this since they look the same"
   ]
  },
  {
   "cell_type": "code",
   "execution_count": 57,
   "id": "b14b70d0",
   "metadata": {},
   "outputs": [
    {
     "data": {
      "image/png": "[encoded data removed]",
      "text/plain": [
       "<Figure size 800x600 with 1 Axes>"
      ]
     },
     "metadata": {},
     "output_type": "display_data"
    }
   ],
   "source": [
    "# Plot the clusters for the \"start_hour\" and \"avg_duration\" variables.\n",
    "\n",
    "plt.figure(figsize = (8,6))\n",
    "ax = sns.scatterplot(x = df_result1['start_hour'], y = df_result1['avg_duration'], hue = kmeans.labels_, s = 100) \n",
    "# Here, you're subsetting `X` for the x and y arguments to avoid using their labels. \n",
    "# `hue` takes the value of the attribute `kmeans.labels_`, which is the result of running the k-means algorithm.\n",
    "# `s` represents the size of the points you want to see in the plot.\n",
    "\n",
    "ax.grid(False) # This removes the grid from the background.\n",
    "plt.title('Start hour vs Average ride (min)') \n",
    "plt.xlabel('Start hour') # Label x-axis.\n",
    "plt.ylabel('Average ride (min)') # Label y-axis.\n",
    "plt.show()"
   ]
  },
  {
   "cell_type": "markdown",
   "id": "73599f3a",
   "metadata": {},
   "source": [
    "#### Observation:\n",
    "- This confirm my previous observation that cluster 3 that is right at peak rush hour (which are 17pm and 18pm) has higher average ride duration\n",
    "- Clusters 1 and 2 appear to have almost the same average trip duration\n",
    "- Cluster 0 has set my sights on further analysis. This cluster not only has the fewest number of ride (from the previous figure) but also has a shorter average ride duration and late riding start times"
   ]
  },
  {
   "cell_type": "markdown",
   "id": "aac61f08",
   "metadata": {},
   "source": [
    "#### Further Analysis:\n",
    "I will create a new subset containing those who start riding from 11pm to 6am"
   ]
  },
  {
   "cell_type": "code",
   "execution_count": 58,
   "id": "9350692b",
   "metadata": {},
   "outputs": [
    {
     "data": {
      "text/html": [
       "<div>\n",
       "<style scoped>\n",
       "    .dataframe tbody tr th:only-of-type {\n",
       "        vertical-align: middle;\n",
       "    }\n",
       "\n",
       "    .dataframe tbody tr th {\n",
       "        vertical-align: top;\n",
       "    }\n",
       "\n",
       "    .dataframe thead th {\n",
       "        text-align: right;\n",
       "    }\n",
       "</style>\n",
       "<table border=\"1\" class=\"dataframe\">\n",
       "  <thead>\n",
       "    <tr style=\"text-align: right;\">\n",
       "      <th></th>\n",
       "      <th>bike_id</th>\n",
       "      <th>weekday</th>\n",
       "      <th>start_hour</th>\n",
       "      <th>start_time</th>\n",
       "      <th>start_station_id</th>\n",
       "      <th>start_station_name</th>\n",
       "      <th>start_station_latitude</th>\n",
       "      <th>start_station_longitude</th>\n",
       "      <th>end_time</th>\n",
       "      <th>end_station_id</th>\n",
       "      <th>...</th>\n",
       "      <th>start_day</th>\n",
       "      <th>end_year</th>\n",
       "      <th>end_month</th>\n",
       "      <th>end_week</th>\n",
       "      <th>end_day</th>\n",
       "      <th>end_hour</th>\n",
       "      <th>days_category</th>\n",
       "      <th>peak_hours</th>\n",
       "      <th>avg_trip_duration_each_hour</th>\n",
       "      <th>day_of_week</th>\n",
       "    </tr>\n",
       "  </thead>\n",
       "  <tbody>\n",
       "    <tr>\n",
       "      <th>10</th>\n",
       "      <td>15316</td>\n",
       "      <td>Fri</td>\n",
       "      <td>23</td>\n",
       "      <td>2013-09-06 23:02:53</td>\n",
       "      <td>251</td>\n",
       "      <td>Mott St &amp; Prince St</td>\n",
       "      <td>40.723180</td>\n",
       "      <td>-73.994800</td>\n",
       "      <td>2013-09-06 23:23:43</td>\n",
       "      <td>460</td>\n",
       "      <td>...</td>\n",
       "      <td>6</td>\n",
       "      <td>2013</td>\n",
       "      <td>9</td>\n",
       "      <td>36</td>\n",
       "      <td>6</td>\n",
       "      <td>23</td>\n",
       "      <td>Weekdays</td>\n",
       "      <td>Normal hours</td>\n",
       "      <td>12.6</td>\n",
       "      <td>6</td>\n",
       "    </tr>\n",
       "    <tr>\n",
       "      <th>11</th>\n",
       "      <td>15522</td>\n",
       "      <td>Sun</td>\n",
       "      <td>2</td>\n",
       "      <td>2013-09-22 02:02:47</td>\n",
       "      <td>393</td>\n",
       "      <td>E 5 St &amp; Avenue C</td>\n",
       "      <td>40.722992</td>\n",
       "      <td>-73.979955</td>\n",
       "      <td>2013-09-22 02:19:34</td>\n",
       "      <td>2022</td>\n",
       "      <td>...</td>\n",
       "      <td>22</td>\n",
       "      <td>2013</td>\n",
       "      <td>9</td>\n",
       "      <td>38</td>\n",
       "      <td>22</td>\n",
       "      <td>2</td>\n",
       "      <td>Weekend</td>\n",
       "      <td>Normal hours</td>\n",
       "      <td>12.2</td>\n",
       "      <td>1</td>\n",
       "    </tr>\n",
       "    <tr>\n",
       "      <th>15</th>\n",
       "      <td>19355</td>\n",
       "      <td>Mon</td>\n",
       "      <td>6</td>\n",
       "      <td>2013-09-23 06:54:47</td>\n",
       "      <td>404</td>\n",
       "      <td>9 Ave &amp; W 14 St</td>\n",
       "      <td>40.740583</td>\n",
       "      <td>-74.005509</td>\n",
       "      <td>2013-09-23 07:16:13</td>\n",
       "      <td>296</td>\n",
       "      <td>...</td>\n",
       "      <td>23</td>\n",
       "      <td>2013</td>\n",
       "      <td>9</td>\n",
       "      <td>39</td>\n",
       "      <td>23</td>\n",
       "      <td>7</td>\n",
       "      <td>Weekdays</td>\n",
       "      <td>Normal hours</td>\n",
       "      <td>10.5</td>\n",
       "      <td>2</td>\n",
       "    </tr>\n",
       "    <tr>\n",
       "      <th>31</th>\n",
       "      <td>19177</td>\n",
       "      <td>Wed</td>\n",
       "      <td>23</td>\n",
       "      <td>2013-09-25 23:20:58</td>\n",
       "      <td>116</td>\n",
       "      <td>W 17 St &amp; 8 Ave</td>\n",
       "      <td>40.741776</td>\n",
       "      <td>-74.001497</td>\n",
       "      <td>2013-09-25 23:30:38</td>\n",
       "      <td>477</td>\n",
       "      <td>...</td>\n",
       "      <td>25</td>\n",
       "      <td>2013</td>\n",
       "      <td>9</td>\n",
       "      <td>39</td>\n",
       "      <td>25</td>\n",
       "      <td>23</td>\n",
       "      <td>Weekdays</td>\n",
       "      <td>Normal hours</td>\n",
       "      <td>12.6</td>\n",
       "      <td>4</td>\n",
       "    </tr>\n",
       "    <tr>\n",
       "      <th>69</th>\n",
       "      <td>15258</td>\n",
       "      <td>Thu</td>\n",
       "      <td>0</td>\n",
       "      <td>2013-09-12 00:23:28</td>\n",
       "      <td>254</td>\n",
       "      <td>W 11 St &amp; 6 Ave</td>\n",
       "      <td>40.735324</td>\n",
       "      <td>-73.998004</td>\n",
       "      <td>2013-09-12 00:29:27</td>\n",
       "      <td>433</td>\n",
       "      <td>...</td>\n",
       "      <td>12</td>\n",
       "      <td>2013</td>\n",
       "      <td>9</td>\n",
       "      <td>37</td>\n",
       "      <td>12</td>\n",
       "      <td>0</td>\n",
       "      <td>Weekdays</td>\n",
       "      <td>Normal hours</td>\n",
       "      <td>13.1</td>\n",
       "      <td>5</td>\n",
       "    </tr>\n",
       "  </tbody>\n",
       "</table>\n",
       "<p>5 rows × 32 columns</p>\n",
       "</div>"
      ],
      "text/plain": [
       "    bike_id weekday  start_hour           start_time  start_station_id  \\\n",
       "10    15316     Fri          23  2013-09-06 23:02:53               251   \n",
       "11    15522     Sun           2  2013-09-22 02:02:47               393   \n",
       "15    19355     Mon           6  2013-09-23 06:54:47               404   \n",
       "31    19177     Wed          23  2013-09-25 23:20:58               116   \n",
       "69    15258     Thu           0  2013-09-12 00:23:28               254   \n",
       "\n",
       "     start_station_name  start_station_latitude  start_station_longitude  \\\n",
       "10  Mott St & Prince St               40.723180               -73.994800   \n",
       "11    E 5 St & Avenue C               40.722992               -73.979955   \n",
       "15      9 Ave & W 14 St               40.740583               -74.005509   \n",
       "31      W 17 St & 8 Ave               40.741776               -74.001497   \n",
       "69      W 11 St & 6 Ave               40.735324               -73.998004   \n",
       "\n",
       "               end_time  end_station_id  ... start_day  end_year  end_month  \\\n",
       "10  2013-09-06 23:23:43             460  ...         6      2013          9   \n",
       "11  2013-09-22 02:19:34            2022  ...        22      2013          9   \n",
       "15  2013-09-23 07:16:13             296  ...        23      2013          9   \n",
       "31  2013-09-25 23:30:38             477  ...        25      2013          9   \n",
       "69  2013-09-12 00:29:27             433  ...        12      2013          9   \n",
       "\n",
       "    end_week end_day  end_hour  days_category    peak_hours  \\\n",
       "10        36       6        23       Weekdays  Normal hours   \n",
       "11        38      22         2        Weekend  Normal hours   \n",
       "15        39      23         7       Weekdays  Normal hours   \n",
       "31        39      25        23       Weekdays  Normal hours   \n",
       "69        37      12         0       Weekdays  Normal hours   \n",
       "\n",
       "    avg_trip_duration_each_hour  day_of_week  \n",
       "10                         12.6            6  \n",
       "11                         12.2            1  \n",
       "15                         10.5            2  \n",
       "31                         12.6            4  \n",
       "69                         13.1            5  \n",
       "\n",
       "[5 rows x 32 columns]"
      ]
     },
     "execution_count": 58,
     "metadata": {},
     "output_type": "execute_result"
    }
   ],
   "source": [
    "# Check users from 23pm till 5am (new subset)\n",
    "df_least = df_clean.loc[df['start_hour'].isin([23, 0, 1, 2, 3, 4, 5, 6])]\n",
    "df_least.head()"
   ]
  },
  {
   "cell_type": "code",
   "execution_count": 59,
   "id": "e10fb3e0",
   "metadata": {},
   "outputs": [
    {
     "data": {
      "text/plain": [
       "(2717, 32)"
      ]
     },
     "execution_count": 59,
     "metadata": {},
     "output_type": "execute_result"
    }
   ],
   "source": [
    "df_least.shape"
   ]
  },
  {
   "cell_type": "code",
   "execution_count": 60,
   "id": "6e487385",
   "metadata": {},
   "outputs": [
    {
     "data": {
      "text/plain": [
       "count    2717.000000\n",
       "mean       11.829076\n",
       "std         1.130597\n",
       "min        10.200000\n",
       "25%        10.500000\n",
       "50%        12.600000\n",
       "75%        12.600000\n",
       "max        13.100000\n",
       "Name: avg_trip_duration_each_hour, dtype: float64"
      ]
     },
     "execution_count": 60,
     "metadata": {},
     "output_type": "execute_result"
    }
   ],
   "source": [
    "# Check any posibilities (with avg duration)\n",
    "df_least['avg_trip_duration_each_hour'].describe()"
   ]
  },
  {
   "cell_type": "code",
   "execution_count": 61,
   "id": "476d6c35",
   "metadata": {},
   "outputs": [
    {
     "data": {
      "text/plain": [
       "count    40110.000000\n",
       "mean        13.419683\n",
       "std          0.937933\n",
       "min         10.200000\n",
       "25%         12.700000\n",
       "50%         13.500000\n",
       "75%         14.100000\n",
       "max         14.700000\n",
       "Name: avg_trip_duration_each_hour, dtype: float64"
      ]
     },
     "execution_count": 61,
     "metadata": {},
     "output_type": "execute_result"
    }
   ],
   "source": [
    "# Check any posibilities (with avg duration)\n",
    "df_clean['avg_trip_duration_each_hour'].describe()"
   ]
  },
  {
   "cell_type": "markdown",
   "id": "617804a5",
   "metadata": {},
   "source": [
    "#### Observation:\n",
    "This cluster appears to have a shorter average ride duration. I think this makes sense as they ride between 11pm to 6am which means the roads are pretty quiet at that time"
   ]
  },
  {
   "cell_type": "code",
   "execution_count": 62,
   "id": "981d03d7",
   "metadata": {},
   "outputs": [
    {
     "data": {
      "text/plain": [
       "count    2717.000000\n",
       "mean     1977.344866\n",
       "std        10.308637\n",
       "min      1940.000000\n",
       "25%      1970.000000\n",
       "50%      1980.000000\n",
       "75%      1985.000000\n",
       "max      1996.000000\n",
       "Name: birth_year, dtype: float64"
      ]
     },
     "execution_count": 62,
     "metadata": {},
     "output_type": "execute_result"
    }
   ],
   "source": [
    "# Check any posibilities (with avg duration)\n",
    "df_least['birth_year'].describe()"
   ]
  },
  {
   "cell_type": "code",
   "execution_count": 63,
   "id": "4194423b",
   "metadata": {},
   "outputs": [
    {
     "data": {
      "text/plain": [
       "count    40110.000000\n",
       "mean      1975.710297\n",
       "std         10.840430\n",
       "min       1940.000000\n",
       "25%       1968.000000\n",
       "50%       1978.000000\n",
       "75%       1984.000000\n",
       "max       1997.000000\n",
       "Name: birth_year, dtype: float64"
      ]
     },
     "execution_count": 63,
     "metadata": {},
     "output_type": "execute_result"
    }
   ],
   "source": [
    "# Check any posibilities (with avg duration)\n",
    "df_clean['birth_year'].describe()"
   ]
  },
  {
   "cell_type": "markdown",
   "id": "c08a2204",
   "metadata": {},
   "source": [
    "#### Observation:\n",
    "This cluster seems to have a younger average age. This could lead to another conclusion that late night hours are more populated by young people and that is why the average ride duration is slightly shorter because young people tend to ride faster and because also late night hours mean less traffic jams"
   ]
  },
  {
   "cell_type": "code",
   "execution_count": 64,
   "id": "b115137f",
   "metadata": {},
   "outputs": [
    {
     "data": {
      "image/png": "[encoded data removed]",
      "text/plain": [
       "<Figure size 800x600 with 1 Axes>"
      ]
     },
     "metadata": {},
     "output_type": "display_data"
    }
   ],
   "source": [
    "# Plot the clusters for the \"start_hour\" and \"avg_age\" variables.\n",
    "\n",
    "plt.figure(figsize = (8,6))\n",
    "ax = sns.scatterplot(x = df_result1['start_hour'], y = df_result1['avg_age'], hue = kmeans.labels_, s = 100) \n",
    "# Here, you're subsetting `X` for the x and y arguments to avoid using their labels. \n",
    "# `hue` takes the value of the attribute `kmeans.labels_`, which is the result of running the k-means algorithm.\n",
    "# `s` represents the size of the points you want to see in the plot.\n",
    "\n",
    "ax.grid(False) # This removes the grid from the background.\n",
    "plt.title('Start hour vs Average age') \n",
    "plt.xlabel('Start hour') # Label x-axis.\n",
    "plt.ylabel('Average age') # Label y-axis.\n",
    "plt.show()"
   ]
  },
  {
   "cell_type": "markdown",
   "id": "4d035805",
   "metadata": {},
   "source": [
    "#### Observation:\n",
    "- This confirms my previous observation that cluster 0 is inhabited by more young people than other clusters\n",
    "- Cluster 1 is dominated by older people compared to other clusters\n",
    "- From a quick glance, I can see that the younger the age, the later they start to ride"
   ]
  },
  {
   "cell_type": "code",
   "execution_count": 65,
   "id": "aa2243c1",
   "metadata": {},
   "outputs": [
    {
     "data": {
      "image/png": "[encoded data removed]",
      "text/plain": [
       "<Figure size 800x600 with 1 Axes>"
      ]
     },
     "metadata": {},
     "output_type": "display_data"
    }
   ],
   "source": [
    "# Plot the clusters for the \"avg_duration\" and \"avg_age\" variables.\n",
    "\n",
    "plt.figure(figsize = (8,6))\n",
    "ax = sns.scatterplot(x = df_result1['avg_duration'], y = df_result1['avg_age'], hue = kmeans.labels_, s = 100) \n",
    "# Here, you're subsetting `X` for the x and y arguments to avoid using their labels. \n",
    "# `hue` takes the value of the attribute `kmeans.labels_`, which is the result of running the k-means algorithm.\n",
    "# `s` represents the size of the points you want to see in the plot.\n",
    "\n",
    "ax.grid(False) # This removes the grid from the background.\n",
    "plt.title('Average ride (min) vs Average age') \n",
    "plt.xlabel('Average ride (min)') # Label x-axis.\n",
    "plt.ylabel('Average age') # Label y-axis.\n",
    "plt.show()"
   ]
  },
  {
   "cell_type": "markdown",
   "id": "7fef374f",
   "metadata": {},
   "source": [
    "#### Observation:\n",
    "- This confirms my previous observation that the younger people has a shorter average ride duration\n",
    "- Cluster 1 has a population of almost the same age as 1975 and this is also a cluster that is evenly distributed throughout the morning until the evening\n",
    "- Cluster 3 has the highest average ride duration (this makes sense as rush hour roads tend to be busy). For me this is also interesting because this cluster not only stands right at rush hour at 17pm and 18pm, but they are also filled with more old people"
   ]
  },
  {
   "cell_type": "markdown",
   "id": "f9c46ad7",
   "metadata": {},
   "source": [
    "### Feedback from 6.4\n",
    "Quick tip regarding the \"Start hour\" x \"Average trip duration\": in the plot we can see there is some sort of relationship, it's just not linear.\n",
    "One way of dealing with this would be to transform the X variable into categories:\n",
    "- between 0 and 5 (a)\n",
    "- between 5 and 15 (b)\n",
    "- greater than 15 (c)\n",
    "\n",
    "and have different regression models for each"
   ]
  },
  {
   "cell_type": "markdown",
   "id": "2166b512",
   "metadata": {},
   "source": [
    "#### In this case I will create a scatterplot for \"Start hour\" x \"Average trip duration\" with normal df (dataframe including those users who didn't input their birth of date)"
   ]
  },
  {
   "cell_type": "code",
   "execution_count": 66,
   "id": "a1694ac5",
   "metadata": {},
   "outputs": [
    {
     "data": {
      "image/png": "[encoded data removed]",
      "text/plain": [
       "<Figure size 640x480 with 1 Axes>"
      ]
     },
     "metadata": {},
     "output_type": "display_data"
    }
   ],
   "source": [
    "# Data prep for regression analysis\n",
    "# Create a scatterplot using matplotlib for another look at how the chosen variables plot against each other.\n",
    "\n",
    "df.plot(x = 'start_hour', y = 'avg_trip_duration_each_hour', style = 'o') # The style option creates a scatterplot; without it, we only have lines.\n",
    "plt.title('Start hour vs Average ride (min)')  \n",
    "plt.xlabel('Start hour')  \n",
    "plt.ylabel('Average ride (min)')  \n",
    "plt.show()"
   ]
  },
  {
   "cell_type": "code",
   "execution_count": 67,
   "id": "423f94df",
   "metadata": {},
   "outputs": [],
   "source": [
    "hours = []\n",
    "\n",
    "for value in df['start_hour']:\n",
    "    if value in [0, 1, 2, 3, 4, 5]:\n",
    "        hours.append('0am - 5am')\n",
    "    elif value in [6, 7, 8, 9, 10, 11, 12, 13, 14, 15]:\n",
    "        hours.append('6am - 15pm')\n",
    "    else:\n",
    "        hours.append('16pm - 23pm')"
   ]
  },
  {
   "cell_type": "code",
   "execution_count": 68,
   "id": "2f286dab",
   "metadata": {},
   "outputs": [],
   "source": [
    "df['hours_category'] = hours"
   ]
  },
  {
   "cell_type": "code",
   "execution_count": 69,
   "id": "a5195b37",
   "metadata": {},
   "outputs": [
    {
     "data": {
      "text/html": [
       "<div>\n",
       "<style scoped>\n",
       "    .dataframe tbody tr th:only-of-type {\n",
       "        vertical-align: middle;\n",
       "    }\n",
       "\n",
       "    .dataframe tbody tr th {\n",
       "        vertical-align: top;\n",
       "    }\n",
       "\n",
       "    .dataframe thead th {\n",
       "        text-align: right;\n",
       "    }\n",
       "</style>\n",
       "<table border=\"1\" class=\"dataframe\">\n",
       "  <thead>\n",
       "    <tr style=\"text-align: right;\">\n",
       "      <th></th>\n",
       "      <th>bike_id</th>\n",
       "      <th>weekday</th>\n",
       "      <th>start_hour</th>\n",
       "      <th>start_time</th>\n",
       "      <th>start_station_id</th>\n",
       "      <th>start_station_name</th>\n",
       "      <th>start_station_latitude</th>\n",
       "      <th>start_station_longitude</th>\n",
       "      <th>end_time</th>\n",
       "      <th>end_station_id</th>\n",
       "      <th>...</th>\n",
       "      <th>end_year</th>\n",
       "      <th>end_month</th>\n",
       "      <th>end_week</th>\n",
       "      <th>end_day</th>\n",
       "      <th>end_hour</th>\n",
       "      <th>days_category</th>\n",
       "      <th>peak_hours</th>\n",
       "      <th>avg_trip_duration_each_hour</th>\n",
       "      <th>day_of_week</th>\n",
       "      <th>hours_category</th>\n",
       "    </tr>\n",
       "  </thead>\n",
       "  <tbody>\n",
       "    <tr>\n",
       "      <th>0</th>\n",
       "      <td>16013</td>\n",
       "      <td>Mon</td>\n",
       "      <td>18</td>\n",
       "      <td>2013-09-09 18:18:55</td>\n",
       "      <td>523</td>\n",
       "      <td>W 38 St &amp; 8 Ave</td>\n",
       "      <td>40.754666</td>\n",
       "      <td>-73.991382</td>\n",
       "      <td>2013-09-09 18:35:28</td>\n",
       "      <td>334</td>\n",
       "      <td>...</td>\n",
       "      <td>2013</td>\n",
       "      <td>9</td>\n",
       "      <td>37</td>\n",
       "      <td>9</td>\n",
       "      <td>18</td>\n",
       "      <td>Weekdays</td>\n",
       "      <td>Peak hours</td>\n",
       "      <td>14.1</td>\n",
       "      <td>2</td>\n",
       "      <td>16pm - 23pm</td>\n",
       "    </tr>\n",
       "    <tr>\n",
       "      <th>1</th>\n",
       "      <td>15230</td>\n",
       "      <td>Thu</td>\n",
       "      <td>18</td>\n",
       "      <td>2013-09-12 18:38:53</td>\n",
       "      <td>257</td>\n",
       "      <td>Lispenard St &amp; Broadway</td>\n",
       "      <td>40.719392</td>\n",
       "      <td>-74.002472</td>\n",
       "      <td>2013-09-12 18:48:34</td>\n",
       "      <td>236</td>\n",
       "      <td>...</td>\n",
       "      <td>2013</td>\n",
       "      <td>9</td>\n",
       "      <td>37</td>\n",
       "      <td>12</td>\n",
       "      <td>18</td>\n",
       "      <td>Weekdays</td>\n",
       "      <td>Peak hours</td>\n",
       "      <td>14.1</td>\n",
       "      <td>5</td>\n",
       "      <td>16pm - 23pm</td>\n",
       "    </tr>\n",
       "    <tr>\n",
       "      <th>2</th>\n",
       "      <td>17942</td>\n",
       "      <td>Wed</td>\n",
       "      <td>19</td>\n",
       "      <td>2013-09-18 19:44:04</td>\n",
       "      <td>479</td>\n",
       "      <td>9 Ave &amp; W 45 St</td>\n",
       "      <td>40.760193</td>\n",
       "      <td>-73.991255</td>\n",
       "      <td>2013-09-18 19:50:05</td>\n",
       "      <td>513</td>\n",
       "      <td>...</td>\n",
       "      <td>2013</td>\n",
       "      <td>9</td>\n",
       "      <td>38</td>\n",
       "      <td>18</td>\n",
       "      <td>19</td>\n",
       "      <td>Weekdays</td>\n",
       "      <td>Peak hours</td>\n",
       "      <td>13.2</td>\n",
       "      <td>4</td>\n",
       "      <td>16pm - 23pm</td>\n",
       "    </tr>\n",
       "    <tr>\n",
       "      <th>3</th>\n",
       "      <td>19683</td>\n",
       "      <td>Sat</td>\n",
       "      <td>11</td>\n",
       "      <td>2013-09-28 11:54:37</td>\n",
       "      <td>527</td>\n",
       "      <td>E 33 St &amp; 1 Ave</td>\n",
       "      <td>40.743156</td>\n",
       "      <td>-73.974347</td>\n",
       "      <td>2013-09-28 12:03:58</td>\n",
       "      <td>441</td>\n",
       "      <td>...</td>\n",
       "      <td>2013</td>\n",
       "      <td>9</td>\n",
       "      <td>39</td>\n",
       "      <td>28</td>\n",
       "      <td>12</td>\n",
       "      <td>Weekend</td>\n",
       "      <td>Normal hours</td>\n",
       "      <td>14.0</td>\n",
       "      <td>7</td>\n",
       "      <td>6am - 15pm</td>\n",
       "    </tr>\n",
       "    <tr>\n",
       "      <th>4</th>\n",
       "      <td>18024</td>\n",
       "      <td>Sat</td>\n",
       "      <td>18</td>\n",
       "      <td>2013-09-07 18:08:22</td>\n",
       "      <td>521</td>\n",
       "      <td>8 Ave &amp; W 31 St</td>\n",
       "      <td>40.750450</td>\n",
       "      <td>-73.994811</td>\n",
       "      <td>2013-09-07 18:46:38</td>\n",
       "      <td>476</td>\n",
       "      <td>...</td>\n",
       "      <td>2013</td>\n",
       "      <td>9</td>\n",
       "      <td>36</td>\n",
       "      <td>7</td>\n",
       "      <td>18</td>\n",
       "      <td>Weekend</td>\n",
       "      <td>Peak hours</td>\n",
       "      <td>14.1</td>\n",
       "      <td>7</td>\n",
       "      <td>16pm - 23pm</td>\n",
       "    </tr>\n",
       "  </tbody>\n",
       "</table>\n",
       "<p>5 rows × 33 columns</p>\n",
       "</div>"
      ],
      "text/plain": [
       "   bike_id weekday  start_hour           start_time  start_station_id  \\\n",
       "0    16013     Mon          18  2013-09-09 18:18:55               523   \n",
       "1    15230     Thu          18  2013-09-12 18:38:53               257   \n",
       "2    17942     Wed          19  2013-09-18 19:44:04               479   \n",
       "3    19683     Sat          11  2013-09-28 11:54:37               527   \n",
       "4    18024     Sat          18  2013-09-07 18:08:22               521   \n",
       "\n",
       "        start_station_name  start_station_latitude  start_station_longitude  \\\n",
       "0          W 38 St & 8 Ave               40.754666               -73.991382   \n",
       "1  Lispenard St & Broadway               40.719392               -74.002472   \n",
       "2          9 Ave & W 45 St               40.760193               -73.991255   \n",
       "3          E 33 St & 1 Ave               40.743156               -73.974347   \n",
       "4          8 Ave & W 31 St               40.750450               -73.994811   \n",
       "\n",
       "              end_time  end_station_id  ... end_year  end_month  end_week  \\\n",
       "0  2013-09-09 18:35:28             334  ...     2013          9        37   \n",
       "1  2013-09-12 18:48:34             236  ...     2013          9        37   \n",
       "2  2013-09-18 19:50:05             513  ...     2013          9        38   \n",
       "3  2013-09-28 12:03:58             441  ...     2013          9        39   \n",
       "4  2013-09-07 18:46:38             476  ...     2013          9        36   \n",
       "\n",
       "   end_day end_hour  days_category    peak_hours avg_trip_duration_each_hour  \\\n",
       "0        9       18       Weekdays    Peak hours                        14.1   \n",
       "1       12       18       Weekdays    Peak hours                        14.1   \n",
       "2       18       19       Weekdays    Peak hours                        13.2   \n",
       "3       28       12        Weekend  Normal hours                        14.0   \n",
       "4        7       18        Weekend    Peak hours                        14.1   \n",
       "\n",
       "   day_of_week  hours_category  \n",
       "0            2     16pm - 23pm  \n",
       "1            5     16pm - 23pm  \n",
       "2            4     16pm - 23pm  \n",
       "3            7      6am - 15pm  \n",
       "4            7     16pm - 23pm  \n",
       "\n",
       "[5 rows x 33 columns]"
      ]
     },
     "execution_count": 69,
     "metadata": {},
     "output_type": "execute_result"
    }
   ],
   "source": [
    "df.head()"
   ]
  },
  {
   "cell_type": "code",
   "execution_count": 70,
   "id": "d3a7753d",
   "metadata": {},
   "outputs": [
    {
     "name": "stderr",
     "output_type": "stream",
     "text": [
      "/Users/nataliawijaya/anaconda3/lib/python3.11/site-packages/seaborn/_oldcore.py:1119: FutureWarning: use_inf_as_na option is deprecated and will be removed in a future version. Convert inf values to NaN before operating instead.\n",
      "  with pd.option_context('mode.use_inf_as_na', True):\n",
      "/Users/nataliawijaya/anaconda3/lib/python3.11/site-packages/seaborn/_oldcore.py:1119: FutureWarning: use_inf_as_na option is deprecated and will be removed in a future version. Convert inf values to NaN before operating instead.\n",
      "  with pd.option_context('mode.use_inf_as_na', True):\n",
      "/Users/nataliawijaya/anaconda3/lib/python3.11/site-packages/seaborn/axisgrid.py:118: UserWarning: The figure layout has changed to tight\n",
      "  self._figure.tight_layout(*args, **kwargs)\n"
     ]
    },
    {
     "data": {
      "text/plain": [
       "<seaborn.axisgrid.FacetGrid at 0x17fbdab10>"
      ]
     },
     "execution_count": 70,
     "metadata": {},
     "output_type": "execute_result"
    },
    {
     "data": {
      "image/png": "[encoded data removed]",
      "text/plain": [
       "<Figure size 1656.38x500 with 3 Axes>"
      ]
     },
     "metadata": {},
     "output_type": "display_data"
    }
   ],
   "source": [
    "sns.catplot(\n",
    "    data = df, x = 'start_hour',  y = 'avg_trip_duration_each_hour', col = 'hours_category', hue = 'subscriber' , aspect = 1, s = 50\n",
    ")"
   ]
  },
  {
   "cell_type": "markdown",
   "id": "288c7d8c",
   "metadata": {},
   "source": [
    "#### Observation:\n",
    "The above results are interesting because non-subscribers dominate the late hours of 0am and 1am"
   ]
  },
  {
   "cell_type": "code",
   "execution_count": 71,
   "id": "1119d5c2",
   "metadata": {},
   "outputs": [],
   "source": [
    "df_sub_a = df.loc[df['start_hour'].isin ([0, 1, 2, 3, 4, 5])]\n",
    "df_sub_b = df.loc[df['start_hour'].isin ([6, 7, 8, 9, 10, 11, 12, 13, 14, 15])]\n",
    "df_sub_c = df.loc[df['start_hour'].isin ([16, 17, 18, 19, 20, 21, 22, 23])]"
   ]
  },
  {
   "cell_type": "code",
   "execution_count": 72,
   "id": "7ccd3d40",
   "metadata": {},
   "outputs": [
    {
     "data": {
      "text/plain": [
       "(46673, 33)"
      ]
     },
     "execution_count": 72,
     "metadata": {},
     "output_type": "execute_result"
    }
   ],
   "source": [
    "df.shape"
   ]
  },
  {
   "cell_type": "code",
   "execution_count": 73,
   "id": "ff401e60",
   "metadata": {},
   "outputs": [
    {
     "data": {
      "text/plain": [
       "(1338, 33)"
      ]
     },
     "execution_count": 73,
     "metadata": {},
     "output_type": "execute_result"
    }
   ],
   "source": [
    "df_sub_a.shape"
   ]
  },
  {
   "cell_type": "code",
   "execution_count": 74,
   "id": "62485591",
   "metadata": {},
   "outputs": [
    {
     "data": {
      "text/plain": [
       "(23794, 33)"
      ]
     },
     "execution_count": 74,
     "metadata": {},
     "output_type": "execute_result"
    }
   ],
   "source": [
    "df_sub_b.shape"
   ]
  },
  {
   "cell_type": "code",
   "execution_count": 75,
   "id": "8f8357d9",
   "metadata": {},
   "outputs": [
    {
     "data": {
      "text/plain": [
       "(21541, 33)"
      ]
     },
     "execution_count": 75,
     "metadata": {},
     "output_type": "execute_result"
    }
   ],
   "source": [
    "df_sub_c.shape"
   ]
  },
  {
   "cell_type": "markdown",
   "id": "9a615d15",
   "metadata": {},
   "source": [
    "a + b + c\n",
    "\n",
    "1338 + 23794 + 21541 = 46673"
   ]
  },
  {
   "cell_type": "code",
   "execution_count": 76,
   "id": "5748bdad",
   "metadata": {},
   "outputs": [],
   "source": [
    "from sklearn.model_selection import train_test_split \n",
    "from sklearn.linear_model import LinearRegression\n",
    "from sklearn.metrics import mean_squared_error, r2_score"
   ]
  },
  {
   "cell_type": "markdown",
   "id": "5424d0b8",
   "metadata": {},
   "source": [
    "#### df_sub_a (between 0am and 5am)"
   ]
  },
  {
   "cell_type": "code",
   "execution_count": 77,
   "id": "2b632150",
   "metadata": {},
   "outputs": [],
   "source": [
    "# Reshape the variables into NumPy arrays and put them into separate objects\n",
    "Xa = df_sub_a['start_hour'].values.reshape(-1,1)\n",
    "ya = df_sub_a['avg_trip_duration_each_hour'].values.reshape(-1,1)"
   ]
  },
  {
   "cell_type": "code",
   "execution_count": 78,
   "id": "ffe81413",
   "metadata": {},
   "outputs": [
    {
     "data": {
      "text/plain": [
       "array([[2],\n",
       "       [0],\n",
       "       [1],\n",
       "       ...,\n",
       "       [0],\n",
       "       [0],\n",
       "       [0]])"
      ]
     },
     "execution_count": 78,
     "metadata": {},
     "output_type": "execute_result"
    }
   ],
   "source": [
    "Xa"
   ]
  },
  {
   "cell_type": "code",
   "execution_count": 79,
   "id": "4a9606bb",
   "metadata": {},
   "outputs": [
    {
     "data": {
      "text/plain": [
       "array([[12.2],\n",
       "       [13.1],\n",
       "       [13.1],\n",
       "       ...,\n",
       "       [13.1],\n",
       "       [13.1],\n",
       "       [13.1]])"
      ]
     },
     "execution_count": 79,
     "metadata": {},
     "output_type": "execute_result"
    }
   ],
   "source": [
    "ya"
   ]
  },
  {
   "cell_type": "code",
   "execution_count": 80,
   "id": "2ee0c47e",
   "metadata": {},
   "outputs": [],
   "source": [
    "# Split data into a training set and a test set\n",
    "\n",
    "Xa_train, Xa_test, ya_train, ya_test = train_test_split(Xa, ya, test_size = 0.3, random_state = 0)"
   ]
  },
  {
   "cell_type": "code",
   "execution_count": 81,
   "id": "78fa5794",
   "metadata": {},
   "outputs": [],
   "source": [
    "# Regression analysis\n",
    "# Create a regression object\n",
    "\n",
    "regression = LinearRegression()  # This is the regression object, which will be fit onto the training set"
   ]
  },
  {
   "cell_type": "code",
   "execution_count": 82,
   "id": "a36dc1d0",
   "metadata": {},
   "outputs": [
    {
     "data": {
      "text/html": [
       "<style>#sk-container-id-2 {color: black;}#sk-container-id-2 pre{padding: 0;}#sk-container-id-2 div.sk-toggleable {background-color: white;}#sk-container-id-2 label.sk-toggleable__label {cursor: pointer;display: block;width: 100%;margin-bottom: 0;padding: 0.3em;box-sizing: border-box;text-align: center;}#sk-container-id-2 label.sk-toggleable__label-arrow:before {content: \"▸\";float: left;margin-right: 0.25em;color: #696969;}#sk-container-id-2 label.sk-toggleable__label-arrow:hover:before {color: black;}#sk-container-id-2 div.sk-estimator:hover label.sk-toggleable__label-arrow:before {color: black;}#sk-container-id-2 div.sk-toggleable__content {max-height: 0;max-width: 0;overflow: hidden;text-align: left;background-color: #f0f8ff;}#sk-container-id-2 div.sk-toggleable__content pre {margin: 0.2em;color: black;border-radius: 0.25em;background-color: #f0f8ff;}#sk-container-id-2 input.sk-toggleable__control:checked~div.sk-toggleable__content {max-height: 200px;max-width: 100%;overflow: auto;}#sk-container-id-2 input.sk-toggleable__control:checked~label.sk-toggleable__label-arrow:before {content: \"▾\";}#sk-container-id-2 div.sk-estimator input.sk-toggleable__control:checked~label.sk-toggleable__label {background-color: #d4ebff;}#sk-container-id-2 div.sk-label input.sk-toggleable__control:checked~label.sk-toggleable__label {background-color: #d4ebff;}#sk-container-id-2 input.sk-hidden--visually {border: 0;clip: rect(1px 1px 1px 1px);clip: rect(1px, 1px, 1px, 1px);height: 1px;margin: -1px;overflow: hidden;padding: 0;position: absolute;width: 1px;}#sk-container-id-2 div.sk-estimator {font-family: monospace;background-color: #f0f8ff;border: 1px dotted black;border-radius: 0.25em;box-sizing: border-box;margin-bottom: 0.5em;}#sk-container-id-2 div.sk-estimator:hover {background-color: #d4ebff;}#sk-container-id-2 div.sk-parallel-item::after {content: \"\";width: 100%;border-bottom: 1px solid gray;flex-grow: 1;}#sk-container-id-2 div.sk-label:hover label.sk-toggleable__label {background-color: #d4ebff;}#sk-container-id-2 div.sk-serial::before {content: \"\";position: absolute;border-left: 1px solid gray;box-sizing: border-box;top: 0;bottom: 0;left: 50%;z-index: 0;}#sk-container-id-2 div.sk-serial {display: flex;flex-direction: column;align-items: center;background-color: white;padding-right: 0.2em;padding-left: 0.2em;position: relative;}#sk-container-id-2 div.sk-item {position: relative;z-index: 1;}#sk-container-id-2 div.sk-parallel {display: flex;align-items: stretch;justify-content: center;background-color: white;position: relative;}#sk-container-id-2 div.sk-item::before, #sk-container-id-2 div.sk-parallel-item::before {content: \"\";position: absolute;border-left: 1px solid gray;box-sizing: border-box;top: 0;bottom: 0;left: 50%;z-index: -1;}#sk-container-id-2 div.sk-parallel-item {display: flex;flex-direction: column;z-index: 1;position: relative;background-color: white;}#sk-container-id-2 div.sk-parallel-item:first-child::after {align-self: flex-end;width: 50%;}#sk-container-id-2 div.sk-parallel-item:last-child::after {align-self: flex-start;width: 50%;}#sk-container-id-2 div.sk-parallel-item:only-child::after {width: 0;}#sk-container-id-2 div.sk-dashed-wrapped {border: 1px dashed gray;margin: 0 0.4em 0.5em 0.4em;box-sizing: border-box;padding-bottom: 0.4em;background-color: white;}#sk-container-id-2 div.sk-label label {font-family: monospace;font-weight: bold;display: inline-block;line-height: 1.2em;}#sk-container-id-2 div.sk-label-container {text-align: center;}#sk-container-id-2 div.sk-container {/* jupyter's `normalize.less` sets `[hidden] { display: none; }` but bootstrap.min.css set `[hidden] { display: none !important; }` so we also need the `!important` here to be able to override the default hidden behavior on the sphinx rendered scikit-learn.org. See: https://github.com/scikit-learn/scikit-learn/issues/21755 */display: inline-block !important;position: relative;}#sk-container-id-2 div.sk-text-repr-fallback {display: none;}</style><div id=\"sk-container-id-2\" class=\"sk-top-container\"><div class=\"sk-text-repr-fallback\"><pre>LinearRegression()</pre><b>In a Jupyter environment, please rerun this cell to show the HTML representation or trust the notebook. <br />On GitHub, the HTML representation is unable to render, please try loading this page with nbviewer.org.</b></div><div class=\"sk-container\" hidden><div class=\"sk-item\"><div class=\"sk-estimator sk-toggleable\"><input class=\"sk-toggleable__control sk-hidden--visually\" id=\"sk-estimator-id-2\" type=\"checkbox\" checked><label for=\"sk-estimator-id-2\" class=\"sk-toggleable__label sk-toggleable__label-arrow\">LinearRegression</label><div class=\"sk-toggleable__content\"><pre>LinearRegression()</pre></div></div></div></div></div>"
      ],
      "text/plain": [
       "LinearRegression()"
      ]
     },
     "execution_count": 82,
     "metadata": {},
     "output_type": "execute_result"
    }
   ],
   "source": [
    "# Fit the regression object onto the training set\n",
    "\n",
    "regression.fit(Xa_train, ya_train)"
   ]
  },
  {
   "cell_type": "code",
   "execution_count": 83,
   "id": "d155fb63",
   "metadata": {},
   "outputs": [],
   "source": [
    "# Predict the values of y using X\n",
    "\n",
    "ya_predicted = regression.predict(Xa_test)"
   ]
  },
  {
   "cell_type": "code",
   "execution_count": 84,
   "id": "28878b48",
   "metadata": {},
   "outputs": [
    {
     "data": {
      "image/png": "[encoded data removed]",
      "text/plain": [
       "<Figure size 640x480 with 1 Axes>"
      ]
     },
     "metadata": {},
     "output_type": "display_data"
    }
   ],
   "source": [
    "# Create a plot that shows the regression line from the model on the test set.\n",
    "\n",
    "plot_test = plt\n",
    "plot_test.scatter(Xa_test, ya_test, color = 'gray', s = 15)\n",
    "plot_test.plot(Xa_test, ya_predicted, color = 'red', linewidth =3)\n",
    "plot_test.title('Start hour vs Average trip duration in minutes (Test set)')\n",
    "plot_test.xlabel('Start hour')\n",
    "plot_test.ylabel('Average trip duration (min)')\n",
    "plot_test.show()"
   ]
  },
  {
   "cell_type": "code",
   "execution_count": 85,
   "id": "74bc42d0",
   "metadata": {},
   "outputs": [],
   "source": [
    "# Create objects that contain the model summary statistics.\n",
    "\n",
    "rmse_a = mean_squared_error(ya_test, ya_predicted) # This is the mean squared error\n",
    "r2_a = r2_score(ya_test, ya_predicted) # This is the R2 score. "
   ]
  },
  {
   "cell_type": "code",
   "execution_count": 86,
   "id": "3541d984",
   "metadata": {},
   "outputs": [
    {
     "name": "stdout",
     "output_type": "stream",
     "text": [
      "Slope: [[-0.55857097]]\n",
      "Mean squared error:  0.07411012407060004\n",
      "R2 score:  0.9297626773400101\n"
     ]
    }
   ],
   "source": [
    "# Print the model summary statistics. This is where you evaluate the performance of the model.\n",
    "\n",
    "print('Slope:' ,regression.coef_)\n",
    "print('Mean squared error: ', rmse_a)\n",
    "print('R2 score: ', r2_a)"
   ]
  },
  {
   "cell_type": "code",
   "execution_count": 87,
   "id": "2eec5180",
   "metadata": {},
   "outputs": [
    {
     "data": {
      "text/plain": [
       "array([[12.7372448 ],\n",
       "       [13.29581577],\n",
       "       [12.7372448 ],\n",
       "       [12.7372448 ],\n",
       "       [12.7372448 ],\n",
       "       [13.29581577],\n",
       "       [13.29581577],\n",
       "       [11.62010286],\n",
       "       [12.7372448 ],\n",
       "       [12.17867383],\n",
       "       [10.50296093],\n",
       "       [13.29581577],\n",
       "       [12.7372448 ],\n",
       "       [13.29581577],\n",
       "       [10.50296093],\n",
       "       [12.7372448 ],\n",
       "       [13.29581577],\n",
       "       [11.62010286],\n",
       "       [13.29581577],\n",
       "       [11.06153189],\n",
       "       [13.29581577],\n",
       "       [12.17867383],\n",
       "       [13.29581577],\n",
       "       [13.29581577],\n",
       "       [10.50296093],\n",
       "       [13.29581577],\n",
       "       [12.7372448 ],\n",
       "       [12.7372448 ],\n",
       "       [11.62010286],\n",
       "       [10.50296093],\n",
       "       [10.50296093],\n",
       "       [10.50296093],\n",
       "       [12.17867383],\n",
       "       [12.7372448 ],\n",
       "       [12.7372448 ],\n",
       "       [13.29581577],\n",
       "       [11.06153189],\n",
       "       [12.7372448 ],\n",
       "       [12.7372448 ],\n",
       "       [11.62010286],\n",
       "       [13.29581577],\n",
       "       [13.29581577],\n",
       "       [13.29581577],\n",
       "       [12.7372448 ],\n",
       "       [10.50296093],\n",
       "       [12.7372448 ],\n",
       "       [11.62010286],\n",
       "       [12.7372448 ],\n",
       "       [11.06153189],\n",
       "       [11.06153189],\n",
       "       [13.29581577],\n",
       "       [12.7372448 ],\n",
       "       [12.7372448 ],\n",
       "       [12.7372448 ],\n",
       "       [13.29581577],\n",
       "       [13.29581577],\n",
       "       [12.7372448 ],\n",
       "       [13.29581577],\n",
       "       [13.29581577],\n",
       "       [12.17867383],\n",
       "       [13.29581577],\n",
       "       [13.29581577],\n",
       "       [11.62010286],\n",
       "       [13.29581577],\n",
       "       [12.17867383],\n",
       "       [13.29581577],\n",
       "       [10.50296093],\n",
       "       [12.17867383],\n",
       "       [10.50296093],\n",
       "       [13.29581577],\n",
       "       [13.29581577],\n",
       "       [13.29581577],\n",
       "       [12.7372448 ],\n",
       "       [12.7372448 ],\n",
       "       [10.50296093],\n",
       "       [13.29581577],\n",
       "       [11.62010286],\n",
       "       [11.06153189],\n",
       "       [13.29581577],\n",
       "       [13.29581577],\n",
       "       [10.50296093],\n",
       "       [13.29581577],\n",
       "       [12.17867383],\n",
       "       [13.29581577],\n",
       "       [12.17867383],\n",
       "       [11.62010286],\n",
       "       [12.7372448 ],\n",
       "       [12.17867383],\n",
       "       [12.7372448 ],\n",
       "       [12.7372448 ],\n",
       "       [10.50296093],\n",
       "       [11.62010286],\n",
       "       [10.50296093],\n",
       "       [10.50296093],\n",
       "       [13.29581577],\n",
       "       [13.29581577],\n",
       "       [13.29581577],\n",
       "       [10.50296093],\n",
       "       [12.7372448 ],\n",
       "       [13.29581577],\n",
       "       [11.06153189],\n",
       "       [13.29581577],\n",
       "       [11.62010286],\n",
       "       [12.17867383],\n",
       "       [12.7372448 ],\n",
       "       [12.7372448 ],\n",
       "       [12.7372448 ],\n",
       "       [12.7372448 ],\n",
       "       [12.17867383],\n",
       "       [13.29581577],\n",
       "       [13.29581577],\n",
       "       [12.17867383],\n",
       "       [12.17867383],\n",
       "       [13.29581577],\n",
       "       [12.17867383],\n",
       "       [13.29581577],\n",
       "       [13.29581577],\n",
       "       [12.17867383],\n",
       "       [10.50296093],\n",
       "       [13.29581577],\n",
       "       [11.62010286],\n",
       "       [13.29581577],\n",
       "       [10.50296093],\n",
       "       [12.7372448 ],\n",
       "       [13.29581577],\n",
       "       [12.7372448 ],\n",
       "       [13.29581577],\n",
       "       [12.17867383],\n",
       "       [11.62010286],\n",
       "       [11.06153189],\n",
       "       [12.7372448 ],\n",
       "       [13.29581577],\n",
       "       [11.62010286],\n",
       "       [10.50296093],\n",
       "       [13.29581577],\n",
       "       [11.06153189],\n",
       "       [12.7372448 ],\n",
       "       [13.29581577],\n",
       "       [12.7372448 ],\n",
       "       [12.17867383],\n",
       "       [13.29581577],\n",
       "       [12.17867383],\n",
       "       [10.50296093],\n",
       "       [13.29581577],\n",
       "       [12.17867383],\n",
       "       [12.17867383],\n",
       "       [12.17867383],\n",
       "       [13.29581577],\n",
       "       [10.50296093],\n",
       "       [10.50296093],\n",
       "       [11.06153189],\n",
       "       [11.62010286],\n",
       "       [13.29581577],\n",
       "       [11.62010286],\n",
       "       [13.29581577],\n",
       "       [11.06153189],\n",
       "       [12.7372448 ],\n",
       "       [13.29581577],\n",
       "       [12.17867383],\n",
       "       [11.06153189],\n",
       "       [13.29581577],\n",
       "       [13.29581577],\n",
       "       [12.17867383],\n",
       "       [10.50296093],\n",
       "       [13.29581577],\n",
       "       [13.29581577],\n",
       "       [12.7372448 ],\n",
       "       [13.29581577],\n",
       "       [12.7372448 ],\n",
       "       [13.29581577],\n",
       "       [11.06153189],\n",
       "       [11.06153189],\n",
       "       [10.50296093],\n",
       "       [11.06153189],\n",
       "       [12.17867383],\n",
       "       [13.29581577],\n",
       "       [12.17867383],\n",
       "       [10.50296093],\n",
       "       [12.17867383],\n",
       "       [12.7372448 ],\n",
       "       [13.29581577],\n",
       "       [13.29581577],\n",
       "       [10.50296093],\n",
       "       [12.17867383],\n",
       "       [10.50296093],\n",
       "       [13.29581577],\n",
       "       [12.7372448 ],\n",
       "       [10.50296093],\n",
       "       [12.17867383],\n",
       "       [12.17867383],\n",
       "       [10.50296093],\n",
       "       [10.50296093],\n",
       "       [12.17867383],\n",
       "       [12.7372448 ],\n",
       "       [10.50296093],\n",
       "       [13.29581577],\n",
       "       [13.29581577],\n",
       "       [12.7372448 ],\n",
       "       [12.7372448 ],\n",
       "       [12.7372448 ],\n",
       "       [10.50296093],\n",
       "       [12.7372448 ],\n",
       "       [12.7372448 ],\n",
       "       [12.7372448 ],\n",
       "       [12.7372448 ],\n",
       "       [13.29581577],\n",
       "       [12.7372448 ],\n",
       "       [13.29581577],\n",
       "       [11.62010286],\n",
       "       [12.17867383],\n",
       "       [12.7372448 ],\n",
       "       [11.62010286],\n",
       "       [10.50296093],\n",
       "       [13.29581577],\n",
       "       [13.29581577],\n",
       "       [10.50296093],\n",
       "       [12.7372448 ],\n",
       "       [13.29581577],\n",
       "       [12.7372448 ],\n",
       "       [12.7372448 ],\n",
       "       [11.06153189],\n",
       "       [13.29581577],\n",
       "       [11.62010286],\n",
       "       [12.7372448 ],\n",
       "       [13.29581577],\n",
       "       [13.29581577],\n",
       "       [12.17867383],\n",
       "       [12.7372448 ],\n",
       "       [11.62010286],\n",
       "       [12.7372448 ],\n",
       "       [12.7372448 ],\n",
       "       [13.29581577],\n",
       "       [12.7372448 ],\n",
       "       [13.29581577],\n",
       "       [13.29581577],\n",
       "       [13.29581577],\n",
       "       [13.29581577],\n",
       "       [13.29581577],\n",
       "       [10.50296093],\n",
       "       [13.29581577],\n",
       "       [11.06153189],\n",
       "       [13.29581577],\n",
       "       [12.7372448 ],\n",
       "       [10.50296093],\n",
       "       [10.50296093],\n",
       "       [13.29581577],\n",
       "       [12.17867383],\n",
       "       [10.50296093],\n",
       "       [13.29581577],\n",
       "       [12.17867383],\n",
       "       [13.29581577],\n",
       "       [13.29581577],\n",
       "       [12.7372448 ],\n",
       "       [13.29581577],\n",
       "       [12.7372448 ],\n",
       "       [12.7372448 ],\n",
       "       [13.29581577],\n",
       "       [13.29581577],\n",
       "       [12.7372448 ],\n",
       "       [12.17867383],\n",
       "       [12.17867383],\n",
       "       [12.7372448 ],\n",
       "       [13.29581577],\n",
       "       [13.29581577],\n",
       "       [13.29581577],\n",
       "       [12.7372448 ],\n",
       "       [13.29581577],\n",
       "       [11.06153189],\n",
       "       [13.29581577],\n",
       "       [12.7372448 ],\n",
       "       [10.50296093],\n",
       "       [12.7372448 ],\n",
       "       [12.7372448 ],\n",
       "       [13.29581577],\n",
       "       [12.17867383],\n",
       "       [12.7372448 ],\n",
       "       [13.29581577],\n",
       "       [11.62010286],\n",
       "       [13.29581577],\n",
       "       [10.50296093],\n",
       "       [13.29581577],\n",
       "       [10.50296093],\n",
       "       [13.29581577],\n",
       "       [11.06153189],\n",
       "       [11.62010286],\n",
       "       [12.7372448 ],\n",
       "       [13.29581577],\n",
       "       [13.29581577],\n",
       "       [13.29581577],\n",
       "       [13.29581577],\n",
       "       [10.50296093],\n",
       "       [11.62010286],\n",
       "       [13.29581577],\n",
       "       [12.7372448 ],\n",
       "       [13.29581577],\n",
       "       [13.29581577],\n",
       "       [12.17867383],\n",
       "       [12.7372448 ],\n",
       "       [12.17867383],\n",
       "       [13.29581577],\n",
       "       [12.7372448 ],\n",
       "       [13.29581577],\n",
       "       [12.17867383],\n",
       "       [12.7372448 ],\n",
       "       [10.50296093],\n",
       "       [12.17867383],\n",
       "       [11.06153189],\n",
       "       [13.29581577],\n",
       "       [13.29581577],\n",
       "       [12.7372448 ],\n",
       "       [13.29581577],\n",
       "       [13.29581577],\n",
       "       [13.29581577],\n",
       "       [13.29581577],\n",
       "       [13.29581577],\n",
       "       [10.50296093],\n",
       "       [12.7372448 ],\n",
       "       [13.29581577],\n",
       "       [13.29581577],\n",
       "       [11.06153189],\n",
       "       [12.17867383],\n",
       "       [12.7372448 ],\n",
       "       [13.29581577],\n",
       "       [11.62010286],\n",
       "       [12.17867383],\n",
       "       [13.29581577],\n",
       "       [10.50296093],\n",
       "       [11.62010286],\n",
       "       [12.7372448 ],\n",
       "       [12.7372448 ],\n",
       "       [13.29581577],\n",
       "       [13.29581577],\n",
       "       [10.50296093],\n",
       "       [12.17867383],\n",
       "       [13.29581577],\n",
       "       [11.62010286],\n",
       "       [13.29581577],\n",
       "       [13.29581577],\n",
       "       [12.17867383],\n",
       "       [13.29581577],\n",
       "       [13.29581577],\n",
       "       [12.7372448 ],\n",
       "       [10.50296093],\n",
       "       [12.7372448 ],\n",
       "       [12.7372448 ],\n",
       "       [13.29581577],\n",
       "       [10.50296093],\n",
       "       [13.29581577],\n",
       "       [11.62010286],\n",
       "       [13.29581577],\n",
       "       [12.17867383],\n",
       "       [11.62010286],\n",
       "       [12.7372448 ],\n",
       "       [12.17867383],\n",
       "       [11.06153189],\n",
       "       [13.29581577],\n",
       "       [10.50296093],\n",
       "       [12.7372448 ],\n",
       "       [13.29581577],\n",
       "       [12.17867383],\n",
       "       [12.7372448 ],\n",
       "       [11.62010286],\n",
       "       [13.29581577],\n",
       "       [12.7372448 ],\n",
       "       [10.50296093],\n",
       "       [10.50296093],\n",
       "       [11.62010286],\n",
       "       [13.29581577],\n",
       "       [10.50296093],\n",
       "       [11.06153189],\n",
       "       [12.7372448 ],\n",
       "       [12.7372448 ],\n",
       "       [11.62010286],\n",
       "       [13.29581577],\n",
       "       [10.50296093],\n",
       "       [12.17867383],\n",
       "       [13.29581577],\n",
       "       [13.29581577],\n",
       "       [13.29581577],\n",
       "       [12.17867383],\n",
       "       [12.7372448 ],\n",
       "       [12.7372448 ],\n",
       "       [13.29581577],\n",
       "       [10.50296093],\n",
       "       [12.7372448 ],\n",
       "       [12.17867383],\n",
       "       [10.50296093],\n",
       "       [10.50296093],\n",
       "       [12.7372448 ],\n",
       "       [12.7372448 ],\n",
       "       [12.17867383],\n",
       "       [11.06153189],\n",
       "       [12.7372448 ],\n",
       "       [13.29581577],\n",
       "       [10.50296093],\n",
       "       [11.62010286],\n",
       "       [12.7372448 ],\n",
       "       [13.29581577],\n",
       "       [13.29581577],\n",
       "       [12.17867383],\n",
       "       [11.62010286],\n",
       "       [12.17867383]])"
      ]
     },
     "execution_count": 87,
     "metadata": {},
     "output_type": "execute_result"
    }
   ],
   "source": [
    "ya_predicted"
   ]
  },
  {
   "cell_type": "code",
   "execution_count": 88,
   "id": "4311927e",
   "metadata": {},
   "outputs": [
    {
     "data": {
      "text/html": [
       "<div>\n",
       "<style scoped>\n",
       "    .dataframe tbody tr th:only-of-type {\n",
       "        vertical-align: middle;\n",
       "    }\n",
       "\n",
       "    .dataframe tbody tr th {\n",
       "        vertical-align: top;\n",
       "    }\n",
       "\n",
       "    .dataframe thead th {\n",
       "        text-align: right;\n",
       "    }\n",
       "</style>\n",
       "<table border=\"1\" class=\"dataframe\">\n",
       "  <thead>\n",
       "    <tr style=\"text-align: right;\">\n",
       "      <th></th>\n",
       "      <th>Actual</th>\n",
       "      <th>Predicted</th>\n",
       "    </tr>\n",
       "  </thead>\n",
       "  <tbody>\n",
       "    <tr>\n",
       "      <th>0</th>\n",
       "      <td>13.1</td>\n",
       "      <td>12.737245</td>\n",
       "    </tr>\n",
       "    <tr>\n",
       "      <th>1</th>\n",
       "      <td>13.1</td>\n",
       "      <td>13.295816</td>\n",
       "    </tr>\n",
       "    <tr>\n",
       "      <th>2</th>\n",
       "      <td>13.1</td>\n",
       "      <td>12.737245</td>\n",
       "    </tr>\n",
       "    <tr>\n",
       "      <th>3</th>\n",
       "      <td>13.1</td>\n",
       "      <td>12.737245</td>\n",
       "    </tr>\n",
       "    <tr>\n",
       "      <th>4</th>\n",
       "      <td>13.1</td>\n",
       "      <td>12.737245</td>\n",
       "    </tr>\n",
       "    <tr>\n",
       "      <th>5</th>\n",
       "      <td>13.1</td>\n",
       "      <td>13.295816</td>\n",
       "    </tr>\n",
       "    <tr>\n",
       "      <th>6</th>\n",
       "      <td>13.1</td>\n",
       "      <td>13.295816</td>\n",
       "    </tr>\n",
       "    <tr>\n",
       "      <th>7</th>\n",
       "      <td>11.6</td>\n",
       "      <td>11.620103</td>\n",
       "    </tr>\n",
       "    <tr>\n",
       "      <th>8</th>\n",
       "      <td>13.1</td>\n",
       "      <td>12.737245</td>\n",
       "    </tr>\n",
       "    <tr>\n",
       "      <th>9</th>\n",
       "      <td>12.2</td>\n",
       "      <td>12.178674</td>\n",
       "    </tr>\n",
       "    <tr>\n",
       "      <th>10</th>\n",
       "      <td>10.2</td>\n",
       "      <td>10.502961</td>\n",
       "    </tr>\n",
       "    <tr>\n",
       "      <th>11</th>\n",
       "      <td>13.1</td>\n",
       "      <td>13.295816</td>\n",
       "    </tr>\n",
       "    <tr>\n",
       "      <th>12</th>\n",
       "      <td>13.1</td>\n",
       "      <td>12.737245</td>\n",
       "    </tr>\n",
       "    <tr>\n",
       "      <th>13</th>\n",
       "      <td>13.1</td>\n",
       "      <td>13.295816</td>\n",
       "    </tr>\n",
       "    <tr>\n",
       "      <th>14</th>\n",
       "      <td>10.2</td>\n",
       "      <td>10.502961</td>\n",
       "    </tr>\n",
       "    <tr>\n",
       "      <th>15</th>\n",
       "      <td>13.1</td>\n",
       "      <td>12.737245</td>\n",
       "    </tr>\n",
       "    <tr>\n",
       "      <th>16</th>\n",
       "      <td>13.1</td>\n",
       "      <td>13.295816</td>\n",
       "    </tr>\n",
       "    <tr>\n",
       "      <th>17</th>\n",
       "      <td>11.6</td>\n",
       "      <td>11.620103</td>\n",
       "    </tr>\n",
       "    <tr>\n",
       "      <th>18</th>\n",
       "      <td>13.1</td>\n",
       "      <td>13.295816</td>\n",
       "    </tr>\n",
       "    <tr>\n",
       "      <th>19</th>\n",
       "      <td>11.6</td>\n",
       "      <td>11.061532</td>\n",
       "    </tr>\n",
       "    <tr>\n",
       "      <th>20</th>\n",
       "      <td>13.1</td>\n",
       "      <td>13.295816</td>\n",
       "    </tr>\n",
       "    <tr>\n",
       "      <th>21</th>\n",
       "      <td>12.2</td>\n",
       "      <td>12.178674</td>\n",
       "    </tr>\n",
       "    <tr>\n",
       "      <th>22</th>\n",
       "      <td>13.1</td>\n",
       "      <td>13.295816</td>\n",
       "    </tr>\n",
       "    <tr>\n",
       "      <th>23</th>\n",
       "      <td>13.1</td>\n",
       "      <td>13.295816</td>\n",
       "    </tr>\n",
       "    <tr>\n",
       "      <th>24</th>\n",
       "      <td>10.2</td>\n",
       "      <td>10.502961</td>\n",
       "    </tr>\n",
       "    <tr>\n",
       "      <th>25</th>\n",
       "      <td>13.1</td>\n",
       "      <td>13.295816</td>\n",
       "    </tr>\n",
       "    <tr>\n",
       "      <th>26</th>\n",
       "      <td>13.1</td>\n",
       "      <td>12.737245</td>\n",
       "    </tr>\n",
       "    <tr>\n",
       "      <th>27</th>\n",
       "      <td>13.1</td>\n",
       "      <td>12.737245</td>\n",
       "    </tr>\n",
       "    <tr>\n",
       "      <th>28</th>\n",
       "      <td>11.6</td>\n",
       "      <td>11.620103</td>\n",
       "    </tr>\n",
       "    <tr>\n",
       "      <th>29</th>\n",
       "      <td>10.2</td>\n",
       "      <td>10.502961</td>\n",
       "    </tr>\n",
       "  </tbody>\n",
       "</table>\n",
       "</div>"
      ],
      "text/plain": [
       "    Actual  Predicted\n",
       "0     13.1  12.737245\n",
       "1     13.1  13.295816\n",
       "2     13.1  12.737245\n",
       "3     13.1  12.737245\n",
       "4     13.1  12.737245\n",
       "5     13.1  13.295816\n",
       "6     13.1  13.295816\n",
       "7     11.6  11.620103\n",
       "8     13.1  12.737245\n",
       "9     12.2  12.178674\n",
       "10    10.2  10.502961\n",
       "11    13.1  13.295816\n",
       "12    13.1  12.737245\n",
       "13    13.1  13.295816\n",
       "14    10.2  10.502961\n",
       "15    13.1  12.737245\n",
       "16    13.1  13.295816\n",
       "17    11.6  11.620103\n",
       "18    13.1  13.295816\n",
       "19    11.6  11.061532\n",
       "20    13.1  13.295816\n",
       "21    12.2  12.178674\n",
       "22    13.1  13.295816\n",
       "23    13.1  13.295816\n",
       "24    10.2  10.502961\n",
       "25    13.1  13.295816\n",
       "26    13.1  12.737245\n",
       "27    13.1  12.737245\n",
       "28    11.6  11.620103\n",
       "29    10.2  10.502961"
      ]
     },
     "execution_count": 88,
     "metadata": {},
     "output_type": "execute_result"
    }
   ],
   "source": [
    "# Create a dataframe comparing the actual and predicted values of y\n",
    "\n",
    "df_a_ap = pd.DataFrame({'Actual': ya_test.flatten(), 'Predicted': ya_predicted.flatten()})\n",
    "df_a_ap.head(30)"
   ]
  },
  {
   "cell_type": "code",
   "execution_count": 89,
   "id": "f1c348d2",
   "metadata": {},
   "outputs": [],
   "source": [
    "# Compare how the regression fits the training set\n",
    "# Predict\n",
    "\n",
    "ya_predicted_train = regression.predict(Xa_train) # This is predicting X_train!"
   ]
  },
  {
   "cell_type": "code",
   "execution_count": 90,
   "id": "ccbb8563",
   "metadata": {},
   "outputs": [],
   "source": [
    "rmse_a = mean_squared_error(ya_train, ya_predicted_train)\n",
    "r2_a = r2_score(ya_train, ya_predicted_train)"
   ]
  },
  {
   "cell_type": "code",
   "execution_count": 91,
   "id": "95310291",
   "metadata": {},
   "outputs": [
    {
     "name": "stdout",
     "output_type": "stream",
     "text": [
      "Slope: [[-0.55857097]]\n",
      "Mean squared error:  0.0751069252654511\n",
      "R2 score:  0.9306410061231679\n"
     ]
    }
   ],
   "source": [
    "print('Slope:' ,regression.coef_)\n",
    "print('Mean squared error: ', rmse_a)\n",
    "print('R2 score: ', r2_a)"
   ]
  },
  {
   "cell_type": "code",
   "execution_count": 92,
   "id": "a30e4d2a",
   "metadata": {},
   "outputs": [
    {
     "data": {
      "image/png": "[encoded data removed]",
      "text/plain": [
       "<Figure size 640x480 with 1 Axes>"
      ]
     },
     "metadata": {},
     "output_type": "display_data"
    }
   ],
   "source": [
    "# Visualizing the training set results.\n",
    "\n",
    "plot_test = plt\n",
    "plot_test.scatter(Xa_train, ya_train, color='green', s = 15)\n",
    "plot_test.plot(Xa_train, ya_predicted_train, color='red', linewidth =3)\n",
    "plot_test.title('Start hour vs Average trip duration in minutes (Train set)')\n",
    "plot_test.xlabel('Start hour')\n",
    "plot_test.ylabel('Average trip duration (min)')\n",
    "plot_test.show()"
   ]
  },
  {
   "cell_type": "markdown",
   "id": "daaefca5",
   "metadata": {},
   "source": [
    "#### df_sub_b (between 5am and 15pm)"
   ]
  },
  {
   "cell_type": "code",
   "execution_count": 93,
   "id": "5d542da6",
   "metadata": {},
   "outputs": [],
   "source": [
    "# Reshape the variables into NumPy arrays and put them into separate objects\n",
    "Xb = df_sub_b['start_hour'].values.reshape(-1,1)\n",
    "yb = df_sub_b['avg_trip_duration_each_hour'].values.reshape(-1,1)"
   ]
  },
  {
   "cell_type": "code",
   "execution_count": 94,
   "id": "c77820f1",
   "metadata": {},
   "outputs": [
    {
     "data": {
      "text/plain": [
       "array([[11],\n",
       "       [10],\n",
       "       [12],\n",
       "       ...,\n",
       "       [ 8],\n",
       "       [15],\n",
       "       [13]])"
      ]
     },
     "execution_count": 94,
     "metadata": {},
     "output_type": "execute_result"
    }
   ],
   "source": [
    "Xb"
   ]
  },
  {
   "cell_type": "code",
   "execution_count": 95,
   "id": "e15468a0",
   "metadata": {},
   "outputs": [
    {
     "data": {
      "text/plain": [
       "array([[14. ],\n",
       "       [13.4],\n",
       "       [13.5],\n",
       "       ...,\n",
       "       [12.5],\n",
       "       [14.5],\n",
       "       [13.7]])"
      ]
     },
     "execution_count": 95,
     "metadata": {},
     "output_type": "execute_result"
    }
   ],
   "source": [
    "yb"
   ]
  },
  {
   "cell_type": "code",
   "execution_count": 96,
   "id": "4b5d06fe",
   "metadata": {},
   "outputs": [],
   "source": [
    "# Split data into a training set and a test set\n",
    "\n",
    "Xb_train, Xb_test, yb_train, yb_test = train_test_split(Xb, yb, test_size = 0.3, random_state = 0)"
   ]
  },
  {
   "cell_type": "code",
   "execution_count": 97,
   "id": "c8a6c2f5",
   "metadata": {},
   "outputs": [
    {
     "data": {
      "text/html": [
       "<style>#sk-container-id-3 {color: black;}#sk-container-id-3 pre{padding: 0;}#sk-container-id-3 div.sk-toggleable {background-color: white;}#sk-container-id-3 label.sk-toggleable__label {cursor: pointer;display: block;width: 100%;margin-bottom: 0;padding: 0.3em;box-sizing: border-box;text-align: center;}#sk-container-id-3 label.sk-toggleable__label-arrow:before {content: \"▸\";float: left;margin-right: 0.25em;color: #696969;}#sk-container-id-3 label.sk-toggleable__label-arrow:hover:before {color: black;}#sk-container-id-3 div.sk-estimator:hover label.sk-toggleable__label-arrow:before {color: black;}#sk-container-id-3 div.sk-toggleable__content {max-height: 0;max-width: 0;overflow: hidden;text-align: left;background-color: #f0f8ff;}#sk-container-id-3 div.sk-toggleable__content pre {margin: 0.2em;color: black;border-radius: 0.25em;background-color: #f0f8ff;}#sk-container-id-3 input.sk-toggleable__control:checked~div.sk-toggleable__content {max-height: 200px;max-width: 100%;overflow: auto;}#sk-container-id-3 input.sk-toggleable__control:checked~label.sk-toggleable__label-arrow:before {content: \"▾\";}#sk-container-id-3 div.sk-estimator input.sk-toggleable__control:checked~label.sk-toggleable__label {background-color: #d4ebff;}#sk-container-id-3 div.sk-label input.sk-toggleable__control:checked~label.sk-toggleable__label {background-color: #d4ebff;}#sk-container-id-3 input.sk-hidden--visually {border: 0;clip: rect(1px 1px 1px 1px);clip: rect(1px, 1px, 1px, 1px);height: 1px;margin: -1px;overflow: hidden;padding: 0;position: absolute;width: 1px;}#sk-container-id-3 div.sk-estimator {font-family: monospace;background-color: #f0f8ff;border: 1px dotted black;border-radius: 0.25em;box-sizing: border-box;margin-bottom: 0.5em;}#sk-container-id-3 div.sk-estimator:hover {background-color: #d4ebff;}#sk-container-id-3 div.sk-parallel-item::after {content: \"\";width: 100%;border-bottom: 1px solid gray;flex-grow: 1;}#sk-container-id-3 div.sk-label:hover label.sk-toggleable__label {background-color: #d4ebff;}#sk-container-id-3 div.sk-serial::before {content: \"\";position: absolute;border-left: 1px solid gray;box-sizing: border-box;top: 0;bottom: 0;left: 50%;z-index: 0;}#sk-container-id-3 div.sk-serial {display: flex;flex-direction: column;align-items: center;background-color: white;padding-right: 0.2em;padding-left: 0.2em;position: relative;}#sk-container-id-3 div.sk-item {position: relative;z-index: 1;}#sk-container-id-3 div.sk-parallel {display: flex;align-items: stretch;justify-content: center;background-color: white;position: relative;}#sk-container-id-3 div.sk-item::before, #sk-container-id-3 div.sk-parallel-item::before {content: \"\";position: absolute;border-left: 1px solid gray;box-sizing: border-box;top: 0;bottom: 0;left: 50%;z-index: -1;}#sk-container-id-3 div.sk-parallel-item {display: flex;flex-direction: column;z-index: 1;position: relative;background-color: white;}#sk-container-id-3 div.sk-parallel-item:first-child::after {align-self: flex-end;width: 50%;}#sk-container-id-3 div.sk-parallel-item:last-child::after {align-self: flex-start;width: 50%;}#sk-container-id-3 div.sk-parallel-item:only-child::after {width: 0;}#sk-container-id-3 div.sk-dashed-wrapped {border: 1px dashed gray;margin: 0 0.4em 0.5em 0.4em;box-sizing: border-box;padding-bottom: 0.4em;background-color: white;}#sk-container-id-3 div.sk-label label {font-family: monospace;font-weight: bold;display: inline-block;line-height: 1.2em;}#sk-container-id-3 div.sk-label-container {text-align: center;}#sk-container-id-3 div.sk-container {/* jupyter's `normalize.less` sets `[hidden] { display: none; }` but bootstrap.min.css set `[hidden] { display: none !important; }` so we also need the `!important` here to be able to override the default hidden behavior on the sphinx rendered scikit-learn.org. See: https://github.com/scikit-learn/scikit-learn/issues/21755 */display: inline-block !important;position: relative;}#sk-container-id-3 div.sk-text-repr-fallback {display: none;}</style><div id=\"sk-container-id-3\" class=\"sk-top-container\"><div class=\"sk-text-repr-fallback\"><pre>LinearRegression()</pre><b>In a Jupyter environment, please rerun this cell to show the HTML representation or trust the notebook. <br />On GitHub, the HTML representation is unable to render, please try loading this page with nbviewer.org.</b></div><div class=\"sk-container\" hidden><div class=\"sk-item\"><div class=\"sk-estimator sk-toggleable\"><input class=\"sk-toggleable__control sk-hidden--visually\" id=\"sk-estimator-id-3\" type=\"checkbox\" checked><label for=\"sk-estimator-id-3\" class=\"sk-toggleable__label sk-toggleable__label-arrow\">LinearRegression</label><div class=\"sk-toggleable__content\"><pre>LinearRegression()</pre></div></div></div></div></div>"
      ],
      "text/plain": [
       "LinearRegression()"
      ]
     },
     "execution_count": 97,
     "metadata": {},
     "output_type": "execute_result"
    }
   ],
   "source": [
    "# Fit the regression object onto the training set\n",
    "\n",
    "regression.fit(Xb_train, yb_train)"
   ]
  },
  {
   "cell_type": "code",
   "execution_count": 98,
   "id": "38227e29",
   "metadata": {},
   "outputs": [],
   "source": [
    "# Predict the values of y using X\n",
    "\n",
    "yb_predicted = regression.predict(Xb_test)"
   ]
  },
  {
   "cell_type": "code",
   "execution_count": 99,
   "id": "11e5d1a1",
   "metadata": {},
   "outputs": [
    {
     "data": {
      "image/png": "[encoded data removed]",
      "text/plain": [
       "<Figure size 640x480 with 1 Axes>"
      ]
     },
     "metadata": {},
     "output_type": "display_data"
    }
   ],
   "source": [
    "# Create a plot that shows the regression line from the model on the test set.\n",
    "\n",
    "plot_test = plt\n",
    "plot_test.scatter(Xb_test, yb_test, color = 'gray', s = 15)\n",
    "plot_test.plot(Xb_test, yb_predicted, color = 'red', linewidth =3)\n",
    "plot_test.title('Start hour vs Average trip duration in minutes (Test set)')\n",
    "plot_test.xlabel('Start hour')\n",
    "plot_test.ylabel('Average trip duration (min)')\n",
    "plot_test.show()"
   ]
  },
  {
   "cell_type": "code",
   "execution_count": 100,
   "id": "b58d3082",
   "metadata": {},
   "outputs": [],
   "source": [
    "# Create objects that contain the model summary statistics.\n",
    "\n",
    "rmse_b = mean_squared_error(yb_test, yb_predicted) # This is the mean squared error\n",
    "r2_b = r2_score(yb_test, yb_predicted) # This is the R2 score. "
   ]
  },
  {
   "cell_type": "code",
   "execution_count": 101,
   "id": "5cfe0047",
   "metadata": {},
   "outputs": [
    {
     "name": "stdout",
     "output_type": "stream",
     "text": [
      "Slope: [[0.34853688]]\n",
      "Mean squared error:  0.13821119773370932\n",
      "R2 score:  0.8673754445802933\n"
     ]
    }
   ],
   "source": [
    "# Print the model summary statistics. This is where you evaluate the performance of the model.\n",
    "\n",
    "print('Slope:' ,regression.coef_)\n",
    "print('Mean squared error: ', rmse_b)\n",
    "print('R2 score: ', r2_b)"
   ]
  },
  {
   "cell_type": "code",
   "execution_count": 102,
   "id": "4eaa3c93",
   "metadata": {},
   "outputs": [
    {
     "data": {
      "text/plain": [
       "array([[12.58494243],\n",
       "       [13.97908995],\n",
       "       [12.23640555],\n",
       "       ...,\n",
       "       [12.58494243],\n",
       "       [12.23640555],\n",
       "       [12.93347931]])"
      ]
     },
     "execution_count": 102,
     "metadata": {},
     "output_type": "execute_result"
    }
   ],
   "source": [
    "yb_predicted"
   ]
  },
  {
   "cell_type": "code",
   "execution_count": 103,
   "id": "dab17f6d",
   "metadata": {},
   "outputs": [
    {
     "data": {
      "text/html": [
       "<div>\n",
       "<style scoped>\n",
       "    .dataframe tbody tr th:only-of-type {\n",
       "        vertical-align: middle;\n",
       "    }\n",
       "\n",
       "    .dataframe tbody tr th {\n",
       "        vertical-align: top;\n",
       "    }\n",
       "\n",
       "    .dataframe thead th {\n",
       "        text-align: right;\n",
       "    }\n",
       "</style>\n",
       "<table border=\"1\" class=\"dataframe\">\n",
       "  <thead>\n",
       "    <tr style=\"text-align: right;\">\n",
       "      <th></th>\n",
       "      <th>Actual</th>\n",
       "      <th>Predicted</th>\n",
       "    </tr>\n",
       "  </thead>\n",
       "  <tbody>\n",
       "    <tr>\n",
       "      <th>0</th>\n",
       "      <td>12.3</td>\n",
       "      <td>12.584942</td>\n",
       "    </tr>\n",
       "    <tr>\n",
       "      <th>1</th>\n",
       "      <td>13.7</td>\n",
       "      <td>13.979090</td>\n",
       "    </tr>\n",
       "    <tr>\n",
       "      <th>2</th>\n",
       "      <td>12.5</td>\n",
       "      <td>12.236406</td>\n",
       "    </tr>\n",
       "    <tr>\n",
       "      <th>3</th>\n",
       "      <td>12.3</td>\n",
       "      <td>12.584942</td>\n",
       "    </tr>\n",
       "    <tr>\n",
       "      <th>4</th>\n",
       "      <td>13.5</td>\n",
       "      <td>13.630553</td>\n",
       "    </tr>\n",
       "    <tr>\n",
       "      <th>5</th>\n",
       "      <td>12.5</td>\n",
       "      <td>12.236406</td>\n",
       "    </tr>\n",
       "    <tr>\n",
       "      <th>6</th>\n",
       "      <td>12.5</td>\n",
       "      <td>12.236406</td>\n",
       "    </tr>\n",
       "    <tr>\n",
       "      <th>7</th>\n",
       "      <td>14.5</td>\n",
       "      <td>14.676164</td>\n",
       "    </tr>\n",
       "    <tr>\n",
       "      <th>8</th>\n",
       "      <td>14.0</td>\n",
       "      <td>13.282016</td>\n",
       "    </tr>\n",
       "    <tr>\n",
       "      <th>9</th>\n",
       "      <td>12.5</td>\n",
       "      <td>12.236406</td>\n",
       "    </tr>\n",
       "    <tr>\n",
       "      <th>10</th>\n",
       "      <td>13.4</td>\n",
       "      <td>12.933479</td>\n",
       "    </tr>\n",
       "    <tr>\n",
       "      <th>11</th>\n",
       "      <td>14.4</td>\n",
       "      <td>14.327627</td>\n",
       "    </tr>\n",
       "    <tr>\n",
       "      <th>12</th>\n",
       "      <td>14.5</td>\n",
       "      <td>14.676164</td>\n",
       "    </tr>\n",
       "    <tr>\n",
       "      <th>13</th>\n",
       "      <td>13.5</td>\n",
       "      <td>13.630553</td>\n",
       "    </tr>\n",
       "    <tr>\n",
       "      <th>14</th>\n",
       "      <td>12.5</td>\n",
       "      <td>12.236406</td>\n",
       "    </tr>\n",
       "    <tr>\n",
       "      <th>15</th>\n",
       "      <td>11.8</td>\n",
       "      <td>11.887869</td>\n",
       "    </tr>\n",
       "    <tr>\n",
       "      <th>16</th>\n",
       "      <td>14.4</td>\n",
       "      <td>14.327627</td>\n",
       "    </tr>\n",
       "    <tr>\n",
       "      <th>17</th>\n",
       "      <td>12.5</td>\n",
       "      <td>12.236406</td>\n",
       "    </tr>\n",
       "    <tr>\n",
       "      <th>18</th>\n",
       "      <td>13.7</td>\n",
       "      <td>13.979090</td>\n",
       "    </tr>\n",
       "    <tr>\n",
       "      <th>19</th>\n",
       "      <td>13.5</td>\n",
       "      <td>13.630553</td>\n",
       "    </tr>\n",
       "    <tr>\n",
       "      <th>20</th>\n",
       "      <td>14.4</td>\n",
       "      <td>14.327627</td>\n",
       "    </tr>\n",
       "    <tr>\n",
       "      <th>21</th>\n",
       "      <td>14.4</td>\n",
       "      <td>14.327627</td>\n",
       "    </tr>\n",
       "    <tr>\n",
       "      <th>22</th>\n",
       "      <td>11.8</td>\n",
       "      <td>11.887869</td>\n",
       "    </tr>\n",
       "    <tr>\n",
       "      <th>23</th>\n",
       "      <td>12.5</td>\n",
       "      <td>12.236406</td>\n",
       "    </tr>\n",
       "    <tr>\n",
       "      <th>24</th>\n",
       "      <td>14.5</td>\n",
       "      <td>14.676164</td>\n",
       "    </tr>\n",
       "    <tr>\n",
       "      <th>25</th>\n",
       "      <td>11.8</td>\n",
       "      <td>11.887869</td>\n",
       "    </tr>\n",
       "    <tr>\n",
       "      <th>26</th>\n",
       "      <td>12.5</td>\n",
       "      <td>12.236406</td>\n",
       "    </tr>\n",
       "    <tr>\n",
       "      <th>27</th>\n",
       "      <td>13.7</td>\n",
       "      <td>13.979090</td>\n",
       "    </tr>\n",
       "    <tr>\n",
       "      <th>28</th>\n",
       "      <td>13.7</td>\n",
       "      <td>13.979090</td>\n",
       "    </tr>\n",
       "    <tr>\n",
       "      <th>29</th>\n",
       "      <td>14.4</td>\n",
       "      <td>14.327627</td>\n",
       "    </tr>\n",
       "  </tbody>\n",
       "</table>\n",
       "</div>"
      ],
      "text/plain": [
       "    Actual  Predicted\n",
       "0     12.3  12.584942\n",
       "1     13.7  13.979090\n",
       "2     12.5  12.236406\n",
       "3     12.3  12.584942\n",
       "4     13.5  13.630553\n",
       "5     12.5  12.236406\n",
       "6     12.5  12.236406\n",
       "7     14.5  14.676164\n",
       "8     14.0  13.282016\n",
       "9     12.5  12.236406\n",
       "10    13.4  12.933479\n",
       "11    14.4  14.327627\n",
       "12    14.5  14.676164\n",
       "13    13.5  13.630553\n",
       "14    12.5  12.236406\n",
       "15    11.8  11.887869\n",
       "16    14.4  14.327627\n",
       "17    12.5  12.236406\n",
       "18    13.7  13.979090\n",
       "19    13.5  13.630553\n",
       "20    14.4  14.327627\n",
       "21    14.4  14.327627\n",
       "22    11.8  11.887869\n",
       "23    12.5  12.236406\n",
       "24    14.5  14.676164\n",
       "25    11.8  11.887869\n",
       "26    12.5  12.236406\n",
       "27    13.7  13.979090\n",
       "28    13.7  13.979090\n",
       "29    14.4  14.327627"
      ]
     },
     "execution_count": 103,
     "metadata": {},
     "output_type": "execute_result"
    }
   ],
   "source": [
    "# Create a dataframe comparing the actual and predicted values of y\n",
    "\n",
    "df_b_ap = pd.DataFrame({'Actual': yb_test.flatten(), 'Predicted': yb_predicted.flatten()})\n",
    "df_b_ap.head(30)"
   ]
  },
  {
   "cell_type": "code",
   "execution_count": 104,
   "id": "3debf62c",
   "metadata": {},
   "outputs": [],
   "source": [
    "# Compare how the regression fits the training set\n",
    "# Predict\n",
    "\n",
    "yb_predicted_train = regression.predict(Xb_train) # This is predicting X_train!"
   ]
  },
  {
   "cell_type": "code",
   "execution_count": 105,
   "id": "92f2ae5b",
   "metadata": {},
   "outputs": [],
   "source": [
    "rmse_b = mean_squared_error(yb_train, yb_predicted_train)\n",
    "r2_b = r2_score(yb_train, yb_predicted_train)"
   ]
  },
  {
   "cell_type": "code",
   "execution_count": 106,
   "id": "0986e9f0",
   "metadata": {},
   "outputs": [
    {
     "name": "stdout",
     "output_type": "stream",
     "text": [
      "Slope: [[0.34853688]]\n",
      "Mean squared error:  0.13644359976542164\n",
      "R2 score:  0.8698383653285413\n"
     ]
    }
   ],
   "source": [
    "print('Slope:' ,regression.coef_)\n",
    "print('Mean squared error: ', rmse_b)\n",
    "print('R2 score: ', r2_b)"
   ]
  },
  {
   "cell_type": "code",
   "execution_count": 107,
   "id": "1ccf8766",
   "metadata": {},
   "outputs": [
    {
     "data": {
      "image/png": "[encoded data removed]",
      "text/plain": [
       "<Figure size 640x480 with 1 Axes>"
      ]
     },
     "metadata": {},
     "output_type": "display_data"
    }
   ],
   "source": [
    "# Visualizing the training set results.\n",
    "\n",
    "plot_test = plt\n",
    "plot_test.scatter(Xb_train, yb_train, color='green', s = 15)\n",
    "plot_test.plot(Xb_train, yb_predicted_train, color='red', linewidth =3)\n",
    "plot_test.title('Start hour vs Average trip duration in minutes (Train set)')\n",
    "plot_test.xlabel('Start hour')\n",
    "plot_test.ylabel('Average trip duration (min)')\n",
    "plot_test.show()"
   ]
  },
  {
   "cell_type": "markdown",
   "id": "c76831f7",
   "metadata": {},
   "source": [
    "#### df_sub_c (>15pm)"
   ]
  },
  {
   "cell_type": "code",
   "execution_count": 108,
   "id": "b104bd27",
   "metadata": {},
   "outputs": [],
   "source": [
    "# Reshape the variables into NumPy arrays and put them into separate objects\n",
    "Xc = df_sub_c['start_hour'].values.reshape(-1,1)\n",
    "yc = df_sub_c['avg_trip_duration_each_hour'].values.reshape(-1,1)"
   ]
  },
  {
   "cell_type": "code",
   "execution_count": 109,
   "id": "b033fbcd",
   "metadata": {},
   "outputs": [
    {
     "data": {
      "text/plain": [
       "array([[18],\n",
       "       [18],\n",
       "       [19],\n",
       "       ...,\n",
       "       [17],\n",
       "       [18],\n",
       "       [21]])"
      ]
     },
     "execution_count": 109,
     "metadata": {},
     "output_type": "execute_result"
    }
   ],
   "source": [
    "Xc"
   ]
  },
  {
   "cell_type": "code",
   "execution_count": 110,
   "id": "46eb7fec",
   "metadata": {},
   "outputs": [
    {
     "data": {
      "text/plain": [
       "array([[14.1],\n",
       "       [14.1],\n",
       "       [13.2],\n",
       "       ...,\n",
       "       [14. ],\n",
       "       [14.1],\n",
       "       [12.9]])"
      ]
     },
     "execution_count": 110,
     "metadata": {},
     "output_type": "execute_result"
    }
   ],
   "source": [
    "yc"
   ]
  },
  {
   "cell_type": "code",
   "execution_count": 111,
   "id": "9d011fd4",
   "metadata": {},
   "outputs": [],
   "source": [
    "# Split data into a training set and a test set\n",
    "\n",
    "Xc_train, Xc_test, yc_train, yc_test = train_test_split(Xc, yc, test_size = 0.3, random_state = 0)"
   ]
  },
  {
   "cell_type": "code",
   "execution_count": 112,
   "id": "6700dd15",
   "metadata": {},
   "outputs": [
    {
     "data": {
      "text/html": [
       "<style>#sk-container-id-4 {color: black;}#sk-container-id-4 pre{padding: 0;}#sk-container-id-4 div.sk-toggleable {background-color: white;}#sk-container-id-4 label.sk-toggleable__label {cursor: pointer;display: block;width: 100%;margin-bottom: 0;padding: 0.3em;box-sizing: border-box;text-align: center;}#sk-container-id-4 label.sk-toggleable__label-arrow:before {content: \"▸\";float: left;margin-right: 0.25em;color: #696969;}#sk-container-id-4 label.sk-toggleable__label-arrow:hover:before {color: black;}#sk-container-id-4 div.sk-estimator:hover label.sk-toggleable__label-arrow:before {color: black;}#sk-container-id-4 div.sk-toggleable__content {max-height: 0;max-width: 0;overflow: hidden;text-align: left;background-color: #f0f8ff;}#sk-container-id-4 div.sk-toggleable__content pre {margin: 0.2em;color: black;border-radius: 0.25em;background-color: #f0f8ff;}#sk-container-id-4 input.sk-toggleable__control:checked~div.sk-toggleable__content {max-height: 200px;max-width: 100%;overflow: auto;}#sk-container-id-4 input.sk-toggleable__control:checked~label.sk-toggleable__label-arrow:before {content: \"▾\";}#sk-container-id-4 div.sk-estimator input.sk-toggleable__control:checked~label.sk-toggleable__label {background-color: #d4ebff;}#sk-container-id-4 div.sk-label input.sk-toggleable__control:checked~label.sk-toggleable__label {background-color: #d4ebff;}#sk-container-id-4 input.sk-hidden--visually {border: 0;clip: rect(1px 1px 1px 1px);clip: rect(1px, 1px, 1px, 1px);height: 1px;margin: -1px;overflow: hidden;padding: 0;position: absolute;width: 1px;}#sk-container-id-4 div.sk-estimator {font-family: monospace;background-color: #f0f8ff;border: 1px dotted black;border-radius: 0.25em;box-sizing: border-box;margin-bottom: 0.5em;}#sk-container-id-4 div.sk-estimator:hover {background-color: #d4ebff;}#sk-container-id-4 div.sk-parallel-item::after {content: \"\";width: 100%;border-bottom: 1px solid gray;flex-grow: 1;}#sk-container-id-4 div.sk-label:hover label.sk-toggleable__label {background-color: #d4ebff;}#sk-container-id-4 div.sk-serial::before {content: \"\";position: absolute;border-left: 1px solid gray;box-sizing: border-box;top: 0;bottom: 0;left: 50%;z-index: 0;}#sk-container-id-4 div.sk-serial {display: flex;flex-direction: column;align-items: center;background-color: white;padding-right: 0.2em;padding-left: 0.2em;position: relative;}#sk-container-id-4 div.sk-item {position: relative;z-index: 1;}#sk-container-id-4 div.sk-parallel {display: flex;align-items: stretch;justify-content: center;background-color: white;position: relative;}#sk-container-id-4 div.sk-item::before, #sk-container-id-4 div.sk-parallel-item::before {content: \"\";position: absolute;border-left: 1px solid gray;box-sizing: border-box;top: 0;bottom: 0;left: 50%;z-index: -1;}#sk-container-id-4 div.sk-parallel-item {display: flex;flex-direction: column;z-index: 1;position: relative;background-color: white;}#sk-container-id-4 div.sk-parallel-item:first-child::after {align-self: flex-end;width: 50%;}#sk-container-id-4 div.sk-parallel-item:last-child::after {align-self: flex-start;width: 50%;}#sk-container-id-4 div.sk-parallel-item:only-child::after {width: 0;}#sk-container-id-4 div.sk-dashed-wrapped {border: 1px dashed gray;margin: 0 0.4em 0.5em 0.4em;box-sizing: border-box;padding-bottom: 0.4em;background-color: white;}#sk-container-id-4 div.sk-label label {font-family: monospace;font-weight: bold;display: inline-block;line-height: 1.2em;}#sk-container-id-4 div.sk-label-container {text-align: center;}#sk-container-id-4 div.sk-container {/* jupyter's `normalize.less` sets `[hidden] { display: none; }` but bootstrap.min.css set `[hidden] { display: none !important; }` so we also need the `!important` here to be able to override the default hidden behavior on the sphinx rendered scikit-learn.org. See: https://github.com/scikit-learn/scikit-learn/issues/21755 */display: inline-block !important;position: relative;}#sk-container-id-4 div.sk-text-repr-fallback {display: none;}</style><div id=\"sk-container-id-4\" class=\"sk-top-container\"><div class=\"sk-text-repr-fallback\"><pre>LinearRegression()</pre><b>In a Jupyter environment, please rerun this cell to show the HTML representation or trust the notebook. <br />On GitHub, the HTML representation is unable to render, please try loading this page with nbviewer.org.</b></div><div class=\"sk-container\" hidden><div class=\"sk-item\"><div class=\"sk-estimator sk-toggleable\"><input class=\"sk-toggleable__control sk-hidden--visually\" id=\"sk-estimator-id-4\" type=\"checkbox\" checked><label for=\"sk-estimator-id-4\" class=\"sk-toggleable__label sk-toggleable__label-arrow\">LinearRegression</label><div class=\"sk-toggleable__content\"><pre>LinearRegression()</pre></div></div></div></div></div>"
      ],
      "text/plain": [
       "LinearRegression()"
      ]
     },
     "execution_count": 112,
     "metadata": {},
     "output_type": "execute_result"
    }
   ],
   "source": [
    "# Fit the regression object onto the training set\n",
    "\n",
    "regression.fit(Xc_train, yc_train)"
   ]
  },
  {
   "cell_type": "code",
   "execution_count": 113,
   "id": "f2689c53",
   "metadata": {},
   "outputs": [],
   "source": [
    "# Predict the values of y using X\n",
    "\n",
    "yc_predicted = regression.predict(Xc_test)"
   ]
  },
  {
   "cell_type": "code",
   "execution_count": 114,
   "id": "1e0b96dc",
   "metadata": {},
   "outputs": [
    {
     "data": {
      "image/png": "[encoded data removed]",
      "text/plain": [
       "<Figure size 640x480 with 1 Axes>"
      ]
     },
     "metadata": {},
     "output_type": "display_data"
    }
   ],
   "source": [
    "# Create a plot that shows the regression line from the model on the test set.\n",
    "\n",
    "plot_test = plt\n",
    "plot_test.scatter(Xc_test, yc_test, color = 'gray', s = 15)\n",
    "plot_test.plot(Xc_test, yc_predicted, color = 'red', linewidth =3)\n",
    "plot_test.title('Start hour vs Average trip duration in minutes (Test set)')\n",
    "plot_test.xlabel('Start hour')\n",
    "plot_test.ylabel('Average trip duration (min)')\n",
    "plot_test.show()"
   ]
  },
  {
   "cell_type": "code",
   "execution_count": 115,
   "id": "2069212f",
   "metadata": {},
   "outputs": [],
   "source": [
    "# Create objects that contain the model summary statistics.\n",
    "\n",
    "rmse_c = mean_squared_error(yc_test, yc_predicted) # This is the mean squared error\n",
    "r2_c = r2_score(yc_test, yc_predicted) # This is the R2 score. "
   ]
  },
  {
   "cell_type": "code",
   "execution_count": 116,
   "id": "90ab78a2",
   "metadata": {},
   "outputs": [
    {
     "name": "stdout",
     "output_type": "stream",
     "text": [
      "Slope: [[-0.31204471]]\n",
      "Mean squared error:  0.04744469254299047\n",
      "R2 score:  0.8856593604873697\n"
     ]
    }
   ],
   "source": [
    "# Print the model summary statistics. This is where you evaluate the performance of the model.\n",
    "\n",
    "print('Slope:' ,regression.coef_)\n",
    "print('Mean squared error: ', rmse_c)\n",
    "print('R2 score: ', r2_c)"
   ]
  },
  {
   "cell_type": "code",
   "execution_count": 117,
   "id": "786a174d",
   "metadata": {},
   "outputs": [
    {
     "data": {
      "text/plain": [
       "array([[13.25605425],\n",
       "       [12.31992012],\n",
       "       [13.25605425],\n",
       "       ...,\n",
       "       [13.88014367],\n",
       "       [13.88014367],\n",
       "       [13.25605425]])"
      ]
     },
     "execution_count": 117,
     "metadata": {},
     "output_type": "execute_result"
    }
   ],
   "source": [
    "yc_predicted"
   ]
  },
  {
   "cell_type": "code",
   "execution_count": 118,
   "id": "64a7b168",
   "metadata": {},
   "outputs": [
    {
     "data": {
      "text/html": [
       "<div>\n",
       "<style scoped>\n",
       "    .dataframe tbody tr th:only-of-type {\n",
       "        vertical-align: middle;\n",
       "    }\n",
       "\n",
       "    .dataframe tbody tr th {\n",
       "        vertical-align: top;\n",
       "    }\n",
       "\n",
       "    .dataframe thead th {\n",
       "        text-align: right;\n",
       "    }\n",
       "</style>\n",
       "<table border=\"1\" class=\"dataframe\">\n",
       "  <thead>\n",
       "    <tr style=\"text-align: right;\">\n",
       "      <th></th>\n",
       "      <th>Actual</th>\n",
       "      <th>Predicted</th>\n",
       "    </tr>\n",
       "  </thead>\n",
       "  <tbody>\n",
       "    <tr>\n",
       "      <th>0</th>\n",
       "      <td>13.3</td>\n",
       "      <td>13.256054</td>\n",
       "    </tr>\n",
       "    <tr>\n",
       "      <th>1</th>\n",
       "      <td>12.6</td>\n",
       "      <td>12.319920</td>\n",
       "    </tr>\n",
       "    <tr>\n",
       "      <th>2</th>\n",
       "      <td>13.3</td>\n",
       "      <td>13.256054</td>\n",
       "    </tr>\n",
       "    <tr>\n",
       "      <th>3</th>\n",
       "      <td>14.1</td>\n",
       "      <td>13.880144</td>\n",
       "    </tr>\n",
       "    <tr>\n",
       "      <th>4</th>\n",
       "      <td>12.7</td>\n",
       "      <td>12.631965</td>\n",
       "    </tr>\n",
       "    <tr>\n",
       "      <th>5</th>\n",
       "      <td>12.7</td>\n",
       "      <td>12.631965</td>\n",
       "    </tr>\n",
       "    <tr>\n",
       "      <th>6</th>\n",
       "      <td>14.0</td>\n",
       "      <td>14.192188</td>\n",
       "    </tr>\n",
       "    <tr>\n",
       "      <th>7</th>\n",
       "      <td>12.6</td>\n",
       "      <td>12.319920</td>\n",
       "    </tr>\n",
       "    <tr>\n",
       "      <th>8</th>\n",
       "      <td>14.0</td>\n",
       "      <td>14.192188</td>\n",
       "    </tr>\n",
       "    <tr>\n",
       "      <th>9</th>\n",
       "      <td>14.7</td>\n",
       "      <td>14.504233</td>\n",
       "    </tr>\n",
       "    <tr>\n",
       "      <th>10</th>\n",
       "      <td>14.0</td>\n",
       "      <td>14.192188</td>\n",
       "    </tr>\n",
       "    <tr>\n",
       "      <th>11</th>\n",
       "      <td>14.7</td>\n",
       "      <td>14.504233</td>\n",
       "    </tr>\n",
       "    <tr>\n",
       "      <th>12</th>\n",
       "      <td>14.1</td>\n",
       "      <td>13.880144</td>\n",
       "    </tr>\n",
       "    <tr>\n",
       "      <th>13</th>\n",
       "      <td>14.1</td>\n",
       "      <td>13.880144</td>\n",
       "    </tr>\n",
       "    <tr>\n",
       "      <th>14</th>\n",
       "      <td>14.0</td>\n",
       "      <td>14.192188</td>\n",
       "    </tr>\n",
       "    <tr>\n",
       "      <th>15</th>\n",
       "      <td>14.7</td>\n",
       "      <td>14.504233</td>\n",
       "    </tr>\n",
       "    <tr>\n",
       "      <th>16</th>\n",
       "      <td>13.2</td>\n",
       "      <td>13.568099</td>\n",
       "    </tr>\n",
       "    <tr>\n",
       "      <th>17</th>\n",
       "      <td>14.1</td>\n",
       "      <td>13.880144</td>\n",
       "    </tr>\n",
       "    <tr>\n",
       "      <th>18</th>\n",
       "      <td>14.1</td>\n",
       "      <td>13.880144</td>\n",
       "    </tr>\n",
       "    <tr>\n",
       "      <th>19</th>\n",
       "      <td>13.2</td>\n",
       "      <td>13.568099</td>\n",
       "    </tr>\n",
       "    <tr>\n",
       "      <th>20</th>\n",
       "      <td>14.0</td>\n",
       "      <td>14.192188</td>\n",
       "    </tr>\n",
       "    <tr>\n",
       "      <th>21</th>\n",
       "      <td>14.0</td>\n",
       "      <td>14.192188</td>\n",
       "    </tr>\n",
       "    <tr>\n",
       "      <th>22</th>\n",
       "      <td>14.7</td>\n",
       "      <td>14.504233</td>\n",
       "    </tr>\n",
       "    <tr>\n",
       "      <th>23</th>\n",
       "      <td>14.1</td>\n",
       "      <td>13.880144</td>\n",
       "    </tr>\n",
       "    <tr>\n",
       "      <th>24</th>\n",
       "      <td>14.0</td>\n",
       "      <td>14.192188</td>\n",
       "    </tr>\n",
       "    <tr>\n",
       "      <th>25</th>\n",
       "      <td>14.0</td>\n",
       "      <td>14.192188</td>\n",
       "    </tr>\n",
       "    <tr>\n",
       "      <th>26</th>\n",
       "      <td>12.7</td>\n",
       "      <td>12.631965</td>\n",
       "    </tr>\n",
       "    <tr>\n",
       "      <th>27</th>\n",
       "      <td>13.3</td>\n",
       "      <td>13.256054</td>\n",
       "    </tr>\n",
       "    <tr>\n",
       "      <th>28</th>\n",
       "      <td>13.3</td>\n",
       "      <td>13.256054</td>\n",
       "    </tr>\n",
       "    <tr>\n",
       "      <th>29</th>\n",
       "      <td>13.2</td>\n",
       "      <td>13.568099</td>\n",
       "    </tr>\n",
       "  </tbody>\n",
       "</table>\n",
       "</div>"
      ],
      "text/plain": [
       "    Actual  Predicted\n",
       "0     13.3  13.256054\n",
       "1     12.6  12.319920\n",
       "2     13.3  13.256054\n",
       "3     14.1  13.880144\n",
       "4     12.7  12.631965\n",
       "5     12.7  12.631965\n",
       "6     14.0  14.192188\n",
       "7     12.6  12.319920\n",
       "8     14.0  14.192188\n",
       "9     14.7  14.504233\n",
       "10    14.0  14.192188\n",
       "11    14.7  14.504233\n",
       "12    14.1  13.880144\n",
       "13    14.1  13.880144\n",
       "14    14.0  14.192188\n",
       "15    14.7  14.504233\n",
       "16    13.2  13.568099\n",
       "17    14.1  13.880144\n",
       "18    14.1  13.880144\n",
       "19    13.2  13.568099\n",
       "20    14.0  14.192188\n",
       "21    14.0  14.192188\n",
       "22    14.7  14.504233\n",
       "23    14.1  13.880144\n",
       "24    14.0  14.192188\n",
       "25    14.0  14.192188\n",
       "26    12.7  12.631965\n",
       "27    13.3  13.256054\n",
       "28    13.3  13.256054\n",
       "29    13.2  13.568099"
      ]
     },
     "execution_count": 118,
     "metadata": {},
     "output_type": "execute_result"
    }
   ],
   "source": [
    "# Create a dataframe comparing the actual and predicted values of y\n",
    "\n",
    "df_c_ap = pd.DataFrame({'Actual': yc_test.flatten(), 'Predicted': yc_predicted.flatten()})\n",
    "df_c_ap.head(30)"
   ]
  },
  {
   "cell_type": "code",
   "execution_count": 119,
   "id": "45b073aa",
   "metadata": {},
   "outputs": [],
   "source": [
    "# Compare how the regression fits the training set\n",
    "# Predict\n",
    "\n",
    "yc_predicted_train = regression.predict(Xc_train) # This is predicting X_train!"
   ]
  },
  {
   "cell_type": "code",
   "execution_count": 120,
   "id": "997a5a9c",
   "metadata": {},
   "outputs": [],
   "source": [
    "rmse_c = mean_squared_error(yc_train, yc_predicted_train)\n",
    "r2_c = r2_score(yc_train, yc_predicted_train)"
   ]
  },
  {
   "cell_type": "code",
   "execution_count": 121,
   "id": "411d0b0c",
   "metadata": {},
   "outputs": [
    {
     "name": "stdout",
     "output_type": "stream",
     "text": [
      "Slope: [[-0.31204471]]\n",
      "Mean squared error:  0.047943875058626295\n",
      "R2 score:  0.8852128755361695\n"
     ]
    }
   ],
   "source": [
    "print('Slope:' ,regression.coef_)\n",
    "print('Mean squared error: ', rmse_c)\n",
    "print('R2 score: ', r2_c)"
   ]
  },
  {
   "cell_type": "code",
   "execution_count": 122,
   "id": "d35f5c0b",
   "metadata": {},
   "outputs": [
    {
     "data": {
      "image/png": "[encoded data removed]",
      "text/plain": [
       "<Figure size 640x480 with 1 Axes>"
      ]
     },
     "metadata": {},
     "output_type": "display_data"
    }
   ],
   "source": [
    "# Visualizing the training set results.\n",
    "\n",
    "plot_test = plt\n",
    "plot_test.scatter(Xc_train, yc_train, color='green', s = 15)\n",
    "plot_test.plot(Xc_train, yc_predicted_train, color='red', linewidth =3)\n",
    "plot_test.title('Start hour vs Average trip duration in minutes (Train set)')\n",
    "plot_test.xlabel('Start hour')\n",
    "plot_test.ylabel('Average trip duration (min)')\n",
    "plot_test.show()"
   ]
  },
  {
   "cell_type": "markdown",
   "id": "a1873061",
   "metadata": {},
   "source": [
    "#### Conclusion:\n",
    "This actually wraps up my analysis about my hypothesis: The closer to rush hour, the higher the average trip duration.\n",
    "\n",
    "From the cluster analysis I came to the conclusion that actually riders during peak hours have a higher average ride duration compared to other normal hours. And after dividing the time frame into 3 categories and repeating the regression, I was able to draw the conclusion that the model was actually a good fit.\n",
    "\n",
    "Of all 3 time frames\n",
    "- They produce small Mean Square Errors (MSE) on testing and training\n",
    "- They produce values close to 1 for the R2 score\n",
    "- Actual and predicted values appear to be good\n",
    "\n",
    "So it is true that the two have a relationship, it's just not linear and by separating them I can see the relationship more clearly."
   ]
  },
  {
   "cell_type": "markdown",
   "id": "62690366",
   "metadata": {},
   "source": [
    "### Additional Analysis"
   ]
  },
  {
   "cell_type": "code",
   "execution_count": 123,
   "id": "410e70f4",
   "metadata": {},
   "outputs": [
    {
     "name": "stderr",
     "output_type": "stream",
     "text": [
      "/Users/nataliawijaya/anaconda3/lib/python3.11/site-packages/seaborn/_oldcore.py:1119: FutureWarning: use_inf_as_na option is deprecated and will be removed in a future version. Convert inf values to NaN before operating instead.\n",
      "  with pd.option_context('mode.use_inf_as_na', True):\n",
      "/Users/nataliawijaya/anaconda3/lib/python3.11/site-packages/seaborn/_oldcore.py:1119: FutureWarning: use_inf_as_na option is deprecated and will be removed in a future version. Convert inf values to NaN before operating instead.\n",
      "  with pd.option_context('mode.use_inf_as_na', True):\n",
      "/Users/nataliawijaya/anaconda3/lib/python3.11/site-packages/seaborn/axisgrid.py:118: UserWarning: The figure layout has changed to tight\n",
      "  self._figure.tight_layout(*args, **kwargs)\n"
     ]
    },
    {
     "data": {
      "text/plain": [
       "<seaborn.axisgrid.FacetGrid at 0x31c0fe090>"
      ]
     },
     "execution_count": 123,
     "metadata": {},
     "output_type": "execute_result"
    },
    {
     "data": {
      "image/png": "[encoded data removed]",
      "text/plain": [
       "<Figure size 643.625x500 with 1 Axes>"
      ]
     },
     "metadata": {},
     "output_type": "display_data"
    }
   ],
   "source": [
    "sns.catplot(\n",
    "    data = df, x = 'hours_category',  y = 'avg_trip_duration_each_hour', hue = 'peak_hours', order = ['0am - 5am', '6am - 15pm', '16pm - 23pm']\n",
    ")"
   ]
  },
  {
   "cell_type": "code",
   "execution_count": 124,
   "id": "397632d8",
   "metadata": {},
   "outputs": [
    {
     "name": "stderr",
     "output_type": "stream",
     "text": [
      "/Users/nataliawijaya/anaconda3/lib/python3.11/site-packages/seaborn/_oldcore.py:1119: FutureWarning: use_inf_as_na option is deprecated and will be removed in a future version. Convert inf values to NaN before operating instead.\n",
      "  with pd.option_context('mode.use_inf_as_na', True):\n",
      "/Users/nataliawijaya/anaconda3/lib/python3.11/site-packages/seaborn/_oldcore.py:1119: FutureWarning: use_inf_as_na option is deprecated and will be removed in a future version. Convert inf values to NaN before operating instead.\n",
      "  with pd.option_context('mode.use_inf_as_na', True):\n",
      "/Users/nataliawijaya/anaconda3/lib/python3.11/site-packages/seaborn/axisgrid.py:118: UserWarning: The figure layout has changed to tight\n",
      "  self._figure.tight_layout(*args, **kwargs)\n"
     ]
    },
    {
     "data": {
      "text/plain": [
       "<seaborn.axisgrid.FacetGrid at 0x31c49f050>"
      ]
     },
     "execution_count": 124,
     "metadata": {},
     "output_type": "execute_result"
    },
    {
     "data": {
      "image/png": "[encoded data removed]",
      "text/plain": [
       "<Figure size 1156.38x500 with 2 Axes>"
      ]
     },
     "metadata": {},
     "output_type": "display_data"
    }
   ],
   "source": [
    "sns.catplot(\n",
    "    data = df, x = 'start_hour',  y = 'avg_trip_duration_each_hour', col = 'peak_hours', hue = 'subscriber', aspect = 1, s = 50\n",
    ")"
   ]
  },
  {
   "cell_type": "code",
   "execution_count": 125,
   "id": "01f69c8e",
   "metadata": {},
   "outputs": [
    {
     "name": "stderr",
     "output_type": "stream",
     "text": [
      "/Users/nataliawijaya/anaconda3/lib/python3.11/site-packages/seaborn/_oldcore.py:1119: FutureWarning: use_inf_as_na option is deprecated and will be removed in a future version. Convert inf values to NaN before operating instead.\n",
      "  with pd.option_context('mode.use_inf_as_na', True):\n",
      "/Users/nataliawijaya/anaconda3/lib/python3.11/site-packages/seaborn/_oldcore.py:1119: FutureWarning: use_inf_as_na option is deprecated and will be removed in a future version. Convert inf values to NaN before operating instead.\n",
      "  with pd.option_context('mode.use_inf_as_na', True):\n",
      "/Users/nataliawijaya/anaconda3/lib/python3.11/site-packages/seaborn/axisgrid.py:118: UserWarning: The figure layout has changed to tight\n",
      "  self._figure.tight_layout(*args, **kwargs)\n"
     ]
    },
    {
     "data": {
      "text/plain": [
       "<seaborn.axisgrid.FacetGrid at 0x31c98fe10>"
      ]
     },
     "execution_count": 125,
     "metadata": {},
     "output_type": "execute_result"
    },
    {
     "data": {
      "image/png": "[encoded data removed]",
      "text/plain": [
       "<Figure size 1628.99x500 with 3 Axes>"
      ]
     },
     "metadata": {},
     "output_type": "display_data"
    }
   ],
   "source": [
    "\n",
    "sns.catplot(\n",
    "    data = df, x = 'start_hour',  y = 'avg_trip_duration_each_hour', hue = 'gender_category', col = 'hours_category' , aspect = 1, s = 50\n",
    ")"
   ]
  },
  {
   "cell_type": "markdown",
   "id": "138bdeef",
   "metadata": {},
   "source": [
    "### Exporting"
   ]
  },
  {
   "cell_type": "code",
   "execution_count": 126,
   "id": "78a858cc",
   "metadata": {},
   "outputs": [
    {
     "data": {
      "text/html": [
       "<div>\n",
       "<style scoped>\n",
       "    .dataframe tbody tr th:only-of-type {\n",
       "        vertical-align: middle;\n",
       "    }\n",
       "\n",
       "    .dataframe tbody tr th {\n",
       "        vertical-align: top;\n",
       "    }\n",
       "\n",
       "    .dataframe thead th {\n",
       "        text-align: right;\n",
       "    }\n",
       "</style>\n",
       "<table border=\"1\" class=\"dataframe\">\n",
       "  <thead>\n",
       "    <tr style=\"text-align: right;\">\n",
       "      <th></th>\n",
       "      <th>bike_id</th>\n",
       "      <th>weekday</th>\n",
       "      <th>start_hour</th>\n",
       "      <th>start_time</th>\n",
       "      <th>start_station_id</th>\n",
       "      <th>start_station_name</th>\n",
       "      <th>start_station_latitude</th>\n",
       "      <th>start_station_longitude</th>\n",
       "      <th>end_time</th>\n",
       "      <th>end_station_id</th>\n",
       "      <th>...</th>\n",
       "      <th>start_day</th>\n",
       "      <th>end_year</th>\n",
       "      <th>end_month</th>\n",
       "      <th>end_week</th>\n",
       "      <th>end_day</th>\n",
       "      <th>end_hour</th>\n",
       "      <th>days_category</th>\n",
       "      <th>peak_hours</th>\n",
       "      <th>avg_trip_duration_each_hour</th>\n",
       "      <th>day_of_week</th>\n",
       "    </tr>\n",
       "  </thead>\n",
       "  <tbody>\n",
       "    <tr>\n",
       "      <th>0</th>\n",
       "      <td>16013</td>\n",
       "      <td>Mon</td>\n",
       "      <td>18</td>\n",
       "      <td>2013-09-09 18:18:55</td>\n",
       "      <td>523</td>\n",
       "      <td>W 38 St &amp; 8 Ave</td>\n",
       "      <td>40.754666</td>\n",
       "      <td>-73.991382</td>\n",
       "      <td>2013-09-09 18:35:28</td>\n",
       "      <td>334</td>\n",
       "      <td>...</td>\n",
       "      <td>9</td>\n",
       "      <td>2013</td>\n",
       "      <td>9</td>\n",
       "      <td>37</td>\n",
       "      <td>9</td>\n",
       "      <td>18</td>\n",
       "      <td>Weekdays</td>\n",
       "      <td>Peak hours</td>\n",
       "      <td>14.1</td>\n",
       "      <td>2</td>\n",
       "    </tr>\n",
       "    <tr>\n",
       "      <th>1</th>\n",
       "      <td>15230</td>\n",
       "      <td>Thu</td>\n",
       "      <td>18</td>\n",
       "      <td>2013-09-12 18:38:53</td>\n",
       "      <td>257</td>\n",
       "      <td>Lispenard St &amp; Broadway</td>\n",
       "      <td>40.719392</td>\n",
       "      <td>-74.002472</td>\n",
       "      <td>2013-09-12 18:48:34</td>\n",
       "      <td>236</td>\n",
       "      <td>...</td>\n",
       "      <td>12</td>\n",
       "      <td>2013</td>\n",
       "      <td>9</td>\n",
       "      <td>37</td>\n",
       "      <td>12</td>\n",
       "      <td>18</td>\n",
       "      <td>Weekdays</td>\n",
       "      <td>Peak hours</td>\n",
       "      <td>14.1</td>\n",
       "      <td>5</td>\n",
       "    </tr>\n",
       "    <tr>\n",
       "      <th>2</th>\n",
       "      <td>17942</td>\n",
       "      <td>Wed</td>\n",
       "      <td>19</td>\n",
       "      <td>2013-09-18 19:44:04</td>\n",
       "      <td>479</td>\n",
       "      <td>9 Ave &amp; W 45 St</td>\n",
       "      <td>40.760193</td>\n",
       "      <td>-73.991255</td>\n",
       "      <td>2013-09-18 19:50:05</td>\n",
       "      <td>513</td>\n",
       "      <td>...</td>\n",
       "      <td>18</td>\n",
       "      <td>2013</td>\n",
       "      <td>9</td>\n",
       "      <td>38</td>\n",
       "      <td>18</td>\n",
       "      <td>19</td>\n",
       "      <td>Weekdays</td>\n",
       "      <td>Peak hours</td>\n",
       "      <td>13.2</td>\n",
       "      <td>4</td>\n",
       "    </tr>\n",
       "    <tr>\n",
       "      <th>3</th>\n",
       "      <td>19683</td>\n",
       "      <td>Sat</td>\n",
       "      <td>11</td>\n",
       "      <td>2013-09-28 11:54:37</td>\n",
       "      <td>527</td>\n",
       "      <td>E 33 St &amp; 1 Ave</td>\n",
       "      <td>40.743156</td>\n",
       "      <td>-73.974347</td>\n",
       "      <td>2013-09-28 12:03:58</td>\n",
       "      <td>441</td>\n",
       "      <td>...</td>\n",
       "      <td>28</td>\n",
       "      <td>2013</td>\n",
       "      <td>9</td>\n",
       "      <td>39</td>\n",
       "      <td>28</td>\n",
       "      <td>12</td>\n",
       "      <td>Weekend</td>\n",
       "      <td>Normal hours</td>\n",
       "      <td>14.0</td>\n",
       "      <td>7</td>\n",
       "    </tr>\n",
       "    <tr>\n",
       "      <th>5</th>\n",
       "      <td>14581</td>\n",
       "      <td>Fri</td>\n",
       "      <td>22</td>\n",
       "      <td>2013-09-27 22:01:01</td>\n",
       "      <td>293</td>\n",
       "      <td>Lafayette St &amp; E 8 St</td>\n",
       "      <td>40.730287</td>\n",
       "      <td>-73.990765</td>\n",
       "      <td>2013-09-27 22:08:08</td>\n",
       "      <td>432</td>\n",
       "      <td>...</td>\n",
       "      <td>27</td>\n",
       "      <td>2013</td>\n",
       "      <td>9</td>\n",
       "      <td>39</td>\n",
       "      <td>27</td>\n",
       "      <td>22</td>\n",
       "      <td>Weekdays</td>\n",
       "      <td>Normal hours</td>\n",
       "      <td>12.7</td>\n",
       "      <td>6</td>\n",
       "    </tr>\n",
       "  </tbody>\n",
       "</table>\n",
       "<p>5 rows × 32 columns</p>\n",
       "</div>"
      ],
      "text/plain": [
       "   bike_id weekday  start_hour           start_time  start_station_id  \\\n",
       "0    16013     Mon          18  2013-09-09 18:18:55               523   \n",
       "1    15230     Thu          18  2013-09-12 18:38:53               257   \n",
       "2    17942     Wed          19  2013-09-18 19:44:04               479   \n",
       "3    19683     Sat          11  2013-09-28 11:54:37               527   \n",
       "5    14581     Fri          22  2013-09-27 22:01:01               293   \n",
       "\n",
       "        start_station_name  start_station_latitude  start_station_longitude  \\\n",
       "0          W 38 St & 8 Ave               40.754666               -73.991382   \n",
       "1  Lispenard St & Broadway               40.719392               -74.002472   \n",
       "2          9 Ave & W 45 St               40.760193               -73.991255   \n",
       "3          E 33 St & 1 Ave               40.743156               -73.974347   \n",
       "5    Lafayette St & E 8 St               40.730287               -73.990765   \n",
       "\n",
       "              end_time  end_station_id  ... start_day  end_year  end_month  \\\n",
       "0  2013-09-09 18:35:28             334  ...         9      2013          9   \n",
       "1  2013-09-12 18:48:34             236  ...        12      2013          9   \n",
       "2  2013-09-18 19:50:05             513  ...        18      2013          9   \n",
       "3  2013-09-28 12:03:58             441  ...        28      2013          9   \n",
       "5  2013-09-27 22:08:08             432  ...        27      2013          9   \n",
       "\n",
       "   end_week end_day  end_hour  days_category    peak_hours  \\\n",
       "0        37       9        18       Weekdays    Peak hours   \n",
       "1        37      12        18       Weekdays    Peak hours   \n",
       "2        38      18        19       Weekdays    Peak hours   \n",
       "3        39      28        12        Weekend  Normal hours   \n",
       "5        39      27        22       Weekdays  Normal hours   \n",
       "\n",
       "   avg_trip_duration_each_hour  day_of_week  \n",
       "0                         14.1            2  \n",
       "1                         14.1            5  \n",
       "2                         13.2            4  \n",
       "3                         14.0            7  \n",
       "5                         12.7            6  \n",
       "\n",
       "[5 rows x 32 columns]"
      ]
     },
     "execution_count": 126,
     "metadata": {},
     "output_type": "execute_result"
    }
   ],
   "source": [
    "df_clean.head()"
   ]
  },
  {
   "cell_type": "code",
   "execution_count": 127,
   "id": "3b0ec4c6",
   "metadata": {},
   "outputs": [
    {
     "data": {
      "text/html": [
       "<div>\n",
       "<style scoped>\n",
       "    .dataframe tbody tr th:only-of-type {\n",
       "        vertical-align: middle;\n",
       "    }\n",
       "\n",
       "    .dataframe tbody tr th {\n",
       "        vertical-align: top;\n",
       "    }\n",
       "\n",
       "    .dataframe thead th {\n",
       "        text-align: right;\n",
       "    }\n",
       "</style>\n",
       "<table border=\"1\" class=\"dataframe\">\n",
       "  <thead>\n",
       "    <tr style=\"text-align: right;\">\n",
       "      <th></th>\n",
       "      <th>day_of_week</th>\n",
       "      <th>ride_count</th>\n",
       "      <th>avg_duration</th>\n",
       "      <th>avg_age</th>\n",
       "    </tr>\n",
       "  </thead>\n",
       "  <tbody>\n",
       "    <tr>\n",
       "      <th>0</th>\n",
       "      <td>Fri</td>\n",
       "      <td>6589</td>\n",
       "      <td>12.227804</td>\n",
       "      <td>1975.500379</td>\n",
       "    </tr>\n",
       "    <tr>\n",
       "      <th>1</th>\n",
       "      <td>Mon</td>\n",
       "      <td>5124</td>\n",
       "      <td>12.256635</td>\n",
       "      <td>1975.482045</td>\n",
       "    </tr>\n",
       "    <tr>\n",
       "      <th>2</th>\n",
       "      <td>Sat</td>\n",
       "      <td>4963</td>\n",
       "      <td>12.904292</td>\n",
       "      <td>1976.978037</td>\n",
       "    </tr>\n",
       "    <tr>\n",
       "      <th>3</th>\n",
       "      <td>Sun</td>\n",
       "      <td>4337</td>\n",
       "      <td>13.192991</td>\n",
       "      <td>1976.813235</td>\n",
       "    </tr>\n",
       "    <tr>\n",
       "      <th>4</th>\n",
       "      <td>Thu</td>\n",
       "      <td>6205</td>\n",
       "      <td>12.014504</td>\n",
       "      <td>1975.175665</td>\n",
       "    </tr>\n",
       "  </tbody>\n",
       "</table>\n",
       "</div>"
      ],
      "text/plain": [
       "  day_of_week  ride_count  avg_duration      avg_age\n",
       "0         Fri        6589     12.227804  1975.500379\n",
       "1         Mon        5124     12.256635  1975.482045\n",
       "2         Sat        4963     12.904292  1976.978037\n",
       "3         Sun        4337     13.192991  1976.813235\n",
       "4         Thu        6205     12.014504  1975.175665"
      ]
     },
     "execution_count": 127,
     "metadata": {},
     "output_type": "execute_result"
    }
   ],
   "source": [
    "df_result.head()"
   ]
  },
  {
   "cell_type": "code",
   "execution_count": 128,
   "id": "c924e5dc",
   "metadata": {},
   "outputs": [
    {
     "data": {
      "text/html": [
       "<div>\n",
       "<style scoped>\n",
       "    .dataframe tbody tr th:only-of-type {\n",
       "        vertical-align: middle;\n",
       "    }\n",
       "\n",
       "    .dataframe tbody tr th {\n",
       "        vertical-align: top;\n",
       "    }\n",
       "\n",
       "    .dataframe thead th {\n",
       "        text-align: right;\n",
       "    }\n",
       "</style>\n",
       "<table border=\"1\" class=\"dataframe\">\n",
       "  <thead>\n",
       "    <tr style=\"text-align: right;\">\n",
       "      <th></th>\n",
       "      <th>start_hour</th>\n",
       "      <th>ride_count</th>\n",
       "      <th>avg_duration</th>\n",
       "      <th>avg_age</th>\n",
       "      <th>clusters</th>\n",
       "    </tr>\n",
       "  </thead>\n",
       "  <tbody>\n",
       "    <tr>\n",
       "      <th>0</th>\n",
       "      <td>0</td>\n",
       "      <td>391</td>\n",
       "      <td>11.933504</td>\n",
       "      <td>1979.363171</td>\n",
       "      <td>1</td>\n",
       "    </tr>\n",
       "    <tr>\n",
       "      <th>1</th>\n",
       "      <td>1</td>\n",
       "      <td>244</td>\n",
       "      <td>11.135246</td>\n",
       "      <td>1979.225410</td>\n",
       "      <td>1</td>\n",
       "    </tr>\n",
       "    <tr>\n",
       "      <th>2</th>\n",
       "      <td>2</td>\n",
       "      <td>138</td>\n",
       "      <td>10.615942</td>\n",
       "      <td>1978.427536</td>\n",
       "      <td>1</td>\n",
       "    </tr>\n",
       "    <tr>\n",
       "      <th>3</th>\n",
       "      <td>3</td>\n",
       "      <td>87</td>\n",
       "      <td>10.954023</td>\n",
       "      <td>1981.482759</td>\n",
       "      <td>1</td>\n",
       "    </tr>\n",
       "    <tr>\n",
       "      <th>4</th>\n",
       "      <td>4</td>\n",
       "      <td>70</td>\n",
       "      <td>10.500000</td>\n",
       "      <td>1974.485714</td>\n",
       "      <td>1</td>\n",
       "    </tr>\n",
       "  </tbody>\n",
       "</table>\n",
       "</div>"
      ],
      "text/plain": [
       "   start_hour  ride_count  avg_duration      avg_age  clusters\n",
       "0           0         391     11.933504  1979.363171         1\n",
       "1           1         244     11.135246  1979.225410         1\n",
       "2           2         138     10.615942  1978.427536         1\n",
       "3           3          87     10.954023  1981.482759         1\n",
       "4           4          70     10.500000  1974.485714         1"
      ]
     },
     "execution_count": 128,
     "metadata": {},
     "output_type": "execute_result"
    }
   ],
   "source": [
    "df_result1.head()"
   ]
  },
  {
   "cell_type": "code",
   "execution_count": 129,
   "id": "4e925e02",
   "metadata": {},
   "outputs": [],
   "source": [
    "# Exporting df_clean as “citibike_cleaned_age.csv” in “Prepared Data” folder\n",
    "df_clean.to_csv(os.path.join(path, 'Prepared Data', 'citibike_cleaned_age.csv'))"
   ]
  },
  {
   "cell_type": "code",
   "execution_count": 130,
   "id": "58d6017f",
   "metadata": {},
   "outputs": [],
   "source": [
    "# Exporting df_result as “citibike_result_day.csv” in “Prepared Data” folder\n",
    "df_result.to_csv(os.path.join(path, 'Prepared Data', 'citibike_result_day.csv'))"
   ]
  },
  {
   "cell_type": "code",
   "execution_count": 131,
   "id": "f31a427c",
   "metadata": {},
   "outputs": [],
   "source": [
    "# Exporting df_result as “citibike_result_hour.csv” in “Prepared Data” folder\n",
    "df_result1.to_csv(os.path.join(path, 'Prepared Data', 'citibike_result_hour.csv'))"
   ]
  },
  {
   "cell_type": "code",
   "execution_count": 132,
   "id": "ca417f2a",
   "metadata": {},
   "outputs": [
    {
     "data": {
      "text/html": [
       "<div>\n",
       "<style scoped>\n",
       "    .dataframe tbody tr th:only-of-type {\n",
       "        vertical-align: middle;\n",
       "    }\n",
       "\n",
       "    .dataframe tbody tr th {\n",
       "        vertical-align: top;\n",
       "    }\n",
       "\n",
       "    .dataframe thead th {\n",
       "        text-align: right;\n",
       "    }\n",
       "</style>\n",
       "<table border=\"1\" class=\"dataframe\">\n",
       "  <thead>\n",
       "    <tr style=\"text-align: right;\">\n",
       "      <th></th>\n",
       "      <th>Unnamed: 0</th>\n",
       "      <th>day_of_week</th>\n",
       "      <th>ride_count</th>\n",
       "      <th>avg_duration</th>\n",
       "      <th>avg_age</th>\n",
       "    </tr>\n",
       "  </thead>\n",
       "  <tbody>\n",
       "    <tr>\n",
       "      <th>0</th>\n",
       "      <td>0</td>\n",
       "      <td>Fri</td>\n",
       "      <td>6589</td>\n",
       "      <td>12.227804</td>\n",
       "      <td>1975.500379</td>\n",
       "    </tr>\n",
       "    <tr>\n",
       "      <th>1</th>\n",
       "      <td>1</td>\n",
       "      <td>Mon</td>\n",
       "      <td>5124</td>\n",
       "      <td>12.256635</td>\n",
       "      <td>1975.482045</td>\n",
       "    </tr>\n",
       "    <tr>\n",
       "      <th>2</th>\n",
       "      <td>2</td>\n",
       "      <td>Sat</td>\n",
       "      <td>4963</td>\n",
       "      <td>12.904292</td>\n",
       "      <td>1976.978037</td>\n",
       "    </tr>\n",
       "    <tr>\n",
       "      <th>3</th>\n",
       "      <td>3</td>\n",
       "      <td>Sun</td>\n",
       "      <td>4337</td>\n",
       "      <td>13.192991</td>\n",
       "      <td>1976.813235</td>\n",
       "    </tr>\n",
       "    <tr>\n",
       "      <th>4</th>\n",
       "      <td>4</td>\n",
       "      <td>Thu</td>\n",
       "      <td>6205</td>\n",
       "      <td>12.014504</td>\n",
       "      <td>1975.175665</td>\n",
       "    </tr>\n",
       "  </tbody>\n",
       "</table>\n",
       "</div>"
      ],
      "text/plain": [
       "   Unnamed: 0 day_of_week  ride_count  avg_duration      avg_age\n",
       "0           0         Fri        6589     12.227804  1975.500379\n",
       "1           1         Mon        5124     12.256635  1975.482045\n",
       "2           2         Sat        4963     12.904292  1976.978037\n",
       "3           3         Sun        4337     13.192991  1976.813235\n",
       "4           4         Thu        6205     12.014504  1975.175665"
      ]
     },
     "execution_count": 132,
     "metadata": {},
     "output_type": "execute_result"
    }
   ],
   "source": [
    "# Checking\n",
    "df = pd.read_csv(os.path.join(path, 'Prepared Data', 'citibike_result_day.csv'), index_col = False)\n",
    "df.head()"
   ]
  },
  {
   "cell_type": "code",
   "execution_count": 133,
   "id": "661beb15",
   "metadata": {},
   "outputs": [
    {
     "data": {
      "text/html": [
       "<div>\n",
       "<style scoped>\n",
       "    .dataframe tbody tr th:only-of-type {\n",
       "        vertical-align: middle;\n",
       "    }\n",
       "\n",
       "    .dataframe tbody tr th {\n",
       "        vertical-align: top;\n",
       "    }\n",
       "\n",
       "    .dataframe thead th {\n",
       "        text-align: right;\n",
       "    }\n",
       "</style>\n",
       "<table border=\"1\" class=\"dataframe\">\n",
       "  <thead>\n",
       "    <tr style=\"text-align: right;\">\n",
       "      <th></th>\n",
       "      <th>Unnamed: 0</th>\n",
       "      <th>start_hour</th>\n",
       "      <th>ride_count</th>\n",
       "      <th>avg_duration</th>\n",
       "      <th>avg_age</th>\n",
       "      <th>clusters</th>\n",
       "    </tr>\n",
       "  </thead>\n",
       "  <tbody>\n",
       "    <tr>\n",
       "      <th>0</th>\n",
       "      <td>0</td>\n",
       "      <td>0</td>\n",
       "      <td>391</td>\n",
       "      <td>11.933504</td>\n",
       "      <td>1979.363171</td>\n",
       "      <td>1</td>\n",
       "    </tr>\n",
       "    <tr>\n",
       "      <th>1</th>\n",
       "      <td>1</td>\n",
       "      <td>1</td>\n",
       "      <td>244</td>\n",
       "      <td>11.135246</td>\n",
       "      <td>1979.225410</td>\n",
       "      <td>1</td>\n",
       "    </tr>\n",
       "    <tr>\n",
       "      <th>2</th>\n",
       "      <td>2</td>\n",
       "      <td>2</td>\n",
       "      <td>138</td>\n",
       "      <td>10.615942</td>\n",
       "      <td>1978.427536</td>\n",
       "      <td>1</td>\n",
       "    </tr>\n",
       "    <tr>\n",
       "      <th>3</th>\n",
       "      <td>3</td>\n",
       "      <td>3</td>\n",
       "      <td>87</td>\n",
       "      <td>10.954023</td>\n",
       "      <td>1981.482759</td>\n",
       "      <td>1</td>\n",
       "    </tr>\n",
       "    <tr>\n",
       "      <th>4</th>\n",
       "      <td>4</td>\n",
       "      <td>4</td>\n",
       "      <td>70</td>\n",
       "      <td>10.500000</td>\n",
       "      <td>1974.485714</td>\n",
       "      <td>1</td>\n",
       "    </tr>\n",
       "  </tbody>\n",
       "</table>\n",
       "</div>"
      ],
      "text/plain": [
       "   Unnamed: 0  start_hour  ride_count  avg_duration      avg_age  clusters\n",
       "0           0           0         391     11.933504  1979.363171         1\n",
       "1           1           1         244     11.135246  1979.225410         1\n",
       "2           2           2         138     10.615942  1978.427536         1\n",
       "3           3           3          87     10.954023  1981.482759         1\n",
       "4           4           4          70     10.500000  1974.485714         1"
      ]
     },
     "execution_count": 133,
     "metadata": {},
     "output_type": "execute_result"
    }
   ],
   "source": [
    "# Checking\n",
    "df1 = pd.read_csv(os.path.join(path, 'Prepared Data', 'citibike_result_hour.csv'), index_col = False)\n",
    "df1.head()"
   ]
  },
  {
   "cell_type": "code",
   "execution_count": 134,
   "id": "3811e476",
   "metadata": {},
   "outputs": [],
   "source": [
    "df_sub_a.to_csv(os.path.join(path, 'Prepared Data', 'citibike_sub_a.csv'))\n",
    "df_sub_b.to_csv(os.path.join(path, 'Prepared Data', 'citibike_sub_b.csv'))\n",
    "df_sub_c.to_csv(os.path.join(path, 'Prepared Data', 'citibike_sub_c.csv'))"
   ]
  },
  {
   "cell_type": "code",
   "execution_count": null,
   "id": "bfbf2b62",
   "metadata": {},
   "outputs": [],
   "source": []
  }
 ],
 "metadata": {
  "kernelspec": {
   "display_name": "Python 3 (ipykernel)",
   "language": "python",
   "name": "python3"
  },
  "language_info": {
   "codemirror_mode": {
    "name": "ipython",
    "version": 3
   },
   "file_extension": ".py",
   "mimetype": "text/x-python",
   "name": "python",
   "nbconvert_exporter": "python",
   "pygments_lexer": "ipython3",
   "version": "3.11.5"
  }
 },
 "nbformat": 4,
 "nbformat_minor": 5
}
